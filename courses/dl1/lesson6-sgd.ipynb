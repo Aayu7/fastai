{
 "cells": [
  {
   "cell_type": "markdown",
   "metadata": {
    "toc": "true"
   },
   "source": [
    "# Table of Contents\n",
    " <p><div class=\"lev1 toc-item\"><a href=\"#Linear-Regression-problem\" data-toc-modified-id=\"Linear-Regression-problem-1\"><span class=\"toc-item-num\">1&nbsp;&nbsp;</span>Linear Regression problem</a></div><div class=\"lev1 toc-item\"><a href=\"#Gradient-Descent\" data-toc-modified-id=\"Gradient-Descent-2\"><span class=\"toc-item-num\">2&nbsp;&nbsp;</span>Gradient Descent</a></div><div class=\"lev1 toc-item\"><a href=\"#Gradient-Descent---Classification\" data-toc-modified-id=\"Gradient-Descent---Classification-3\"><span class=\"toc-item-num\">3&nbsp;&nbsp;</span>Gradient Descent - Classification</a></div><div class=\"lev1 toc-item\"><a href=\"#Gradient-descent-with-numpy\" data-toc-modified-id=\"Gradient-descent-with-numpy-4\"><span class=\"toc-item-num\">4&nbsp;&nbsp;</span>Gradient descent with numpy</a></div>"
   ]
  },
  {
   "cell_type": "code",
   "execution_count": 1,
   "metadata": {},
   "outputs": [],
   "source": [
    "%matplotlib inline\n",
    "from fastai.learner import *"
   ]
  },
  {
   "cell_type": "markdown",
   "metadata": {},
   "source": [
    "In this part of the lecture we explain Stochastic Gradient Descent (SGD) which is an **optimization** method commonly used in neural networks. We will illustrate the concepts with concrete examples."
   ]
  },
  {
   "cell_type": "markdown",
   "metadata": {},
   "source": [
    "#  Linear Regression problem"
   ]
  },
  {
   "cell_type": "markdown",
   "metadata": {},
   "source": [
    "The goal of linear regression is to fit a line to a set of points."
   ]
  },
  {
   "cell_type": "code",
   "execution_count": 2,
   "metadata": {},
   "outputs": [],
   "source": [
    "# Here we generate some fake data\n",
    "def lin(a,b,x): return a*x+b\n",
    "\n",
    "def gen_fake_data(n, a, b):\n",
    "    x = s = np.random.uniform(0,1,n) \n",
    "    y = lin(a,b,x) + 0.1 * np.random.normal(0,3,n)\n",
    "    return x, y\n",
    "\n",
    "x, y = gen_fake_data(50, 3., 8.)"
   ]
  },
  {
   "cell_type": "code",
   "execution_count": 3,
   "metadata": {},
   "outputs": [
    {
     "data": {
      "image/png": "[encoded data removed]",
      "text/plain": [
       "<matplotlib.figure.Figure at 0x25d90bd84a8>"
      ]
     },
     "metadata": {},
     "output_type": "display_data"
    }
   ],
   "source": [
    "plt.scatter(x,y, s=8); plt.xlabel(\"x\"); plt.ylabel(\"y\"); "
   ]
  },
  {
   "cell_type": "markdown",
   "metadata": {},
   "source": [
    "You want to find **parameters** (weights) $a$ and $b$ such that you minimize the *error* between the points and the line $a\\cdot x + b$. Note that here $a$ and $b$ are unknown. For a regression problem the most common *error function* or *loss function* is the **mean squared error**. "
   ]
  },
  {
   "cell_type": "code",
   "execution_count": 4,
   "metadata": {},
   "outputs": [],
   "source": [
    "def mse(y_hat, y): return ((y_hat - y) ** 2).mean()"
   ]
  },
  {
   "cell_type": "markdown",
   "metadata": {},
   "source": [
    "Suppose we believe $a = 10$ and $b = 5$ then we can compute `y_hat` which is our *prediction* and then compute our error."
   ]
  },
  {
   "cell_type": "code",
   "execution_count": 5,
   "metadata": {},
   "outputs": [
    {
     "data": {
      "text/plain": [
       "4.5379607395909378"
      ]
     },
     "execution_count": 5,
     "metadata": {},
     "output_type": "execute_result"
    }
   ],
   "source": [
    "y_hat = lin(10,5,x)\n",
    "mse(y_hat, y)"
   ]
  },
  {
   "cell_type": "code",
   "execution_count": 6,
   "metadata": {},
   "outputs": [],
   "source": [
    "def mse_loss(a, b, x, y): return mse(lin(a,b,x), y)"
   ]
  },
  {
   "cell_type": "code",
   "execution_count": 7,
   "metadata": {},
   "outputs": [
    {
     "data": {
      "text/plain": [
       "4.5379607395909378"
      ]
     },
     "execution_count": 7,
     "metadata": {},
     "output_type": "execute_result"
    }
   ],
   "source": [
    "mse_loss(10, 5, x, y)"
   ]
  },
  {
   "cell_type": "markdown",
   "metadata": {},
   "source": [
    "So far we have specified the *model* (linear regression) and the *evaluation criteria* (or *loss function*). Now we need to handle *optimization*; that is, how do we find the best values for $a$ and $b$? How do we find the best *fitting* linear regression."
   ]
  },
  {
   "cell_type": "markdown",
   "metadata": {
    "heading_collapsed": true
   },
   "source": [
    "# Gradient Descent"
   ]
  },
  {
   "cell_type": "markdown",
   "metadata": {
    "hidden": true
   },
   "source": [
    "For a fixed dataset $x$ and $y$ `mse_loss(a,b)` is a function of $a$ and $b$. We would like to find the values of $a$ and $b$ that minimize that function.\n",
    "\n",
    "**Gradient descent** is an algorithm that minimizes functions. Given a function defined by a set of parameters, gradient descent starts with an initial set of parameter values and iteratively moves toward a set of parameter values that minimize the function. This iterative minimization is achieved by taking steps in the negative direction of the function gradient.\n",
    "\n",
    "Here is gradient descent implemented in [PyTorch](http://pytorch.org/)."
   ]
  },
  {
   "cell_type": "code",
   "execution_count": 8,
   "metadata": {
    "hidden": true
   },
   "outputs": [
    {
     "data": {
      "text/plain": [
       "((10000,), (10000,))"
      ]
     },
     "execution_count": 8,
     "metadata": {},
     "output_type": "execute_result"
    }
   ],
   "source": [
    "# generate some more data\n",
    "x, y = gen_fake_data(10000, 3., 8.)\n",
    "x.shape, y.shape"
   ]
  },
  {
   "cell_type": "code",
   "execution_count": 9,
   "metadata": {
    "hidden": true
   },
   "outputs": [],
   "source": [
    "x,y = V(x),V(y)"
   ]
  },
  {
   "cell_type": "code",
   "execution_count": 10,
   "metadata": {
    "hidden": true
   },
   "outputs": [
    {
     "data": {
      "text/plain": [
       "(Variable containing:\n",
       "  0.6209\n",
       " [torch.FloatTensor of size 1], Variable containing:\n",
       "  2.3669\n",
       " [torch.FloatTensor of size 1])"
      ]
     },
     "execution_count": 10,
     "metadata": {},
     "output_type": "execute_result"
    }
   ],
   "source": [
    "# Create random weights a and b, and wrap them in Variables.\n",
    "a = V(np.random.randn(1), requires_grad=True)\n",
    "b = V(np.random.randn(1), requires_grad=True)\n",
    "a,b"
   ]
  },
  {
   "cell_type": "code",
   "execution_count": 11,
   "metadata": {
    "hidden": true
   },
   "outputs": [
    {
     "name": "stdout",
     "output_type": "stream",
     "text": [
      "47.1957893371582\n",
      "0.39881449937820435\n",
      "0.10295451432466507\n",
      "0.09833606332540512\n",
      "0.09618189930915833\n",
      "0.09453879296779633\n",
      "0.09327896684408188\n",
      "0.09231266379356384\n",
      "0.09157168120145798\n",
      "0.0910034030675888\n"
     ]
    }
   ],
   "source": [
    "learning_rate = 1e-3\n",
    "for t in range(10000):\n",
    "    # Forward pass: compute predicted y using operations on Variables\n",
    "    loss = mse_loss(a,b,x,y)\n",
    "    if t % 1000 == 0: print(loss.data[0])\n",
    "    \n",
    "    # Computes the gradient of loss with respect to all Variables with requires_grad=True.\n",
    "    # After this call a.grad and b.grad will be Variables holding the gradient\n",
    "    # of the loss with respect to a and b respectively\n",
    "    loss.backward()\n",
    "    \n",
    "    # Update a and b using gradient descent; a.data and b.data are Tensors,\n",
    "    # a.grad and b.grad are Variables and a.grad.data and b.grad.data are Tensors\n",
    "    a.data -= learning_rate * a.grad.data\n",
    "    b.data -= learning_rate * b.grad.data\n",
    "    \n",
    "    # Zero the gradients\n",
    "    a.grad.data.zero_()\n",
    "    b.grad.data.zero_()    "
   ]
  },
  {
   "cell_type": "markdown",
   "metadata": {
    "hidden": true
   },
   "source": [
    "Nearly all of deep learning is powered by one very important algorithm: **stochastic gradient descent (SGD)**. SGD can be seeing as an approximation of **gradient descent** (GD). In GD you have to run through *all* the samples in your training set to do a single itaration. In SGD you use *only one* or *a subset*  of training samples to do the update for a parameter in a particular iteration. The subset use in every iteration is called a **batch** or **minibatch**."
   ]
  },
  {
   "cell_type": "markdown",
   "metadata": {
    "heading_collapsed": true
   },
   "source": [
    "# Gradient Descent - Classification"
   ]
  },
  {
   "cell_type": "markdown",
   "metadata": {
    "hidden": true
   },
   "source": [
    "For a fixed dataset $x$ and $y$ `mse_loss(a,b)` is a function of $a$ and $b$. We would like to find the values of $a$ and $b$ that minimize that function.\n",
    "\n",
    "**Gradient descent** is an algorithm that minimizes functions. Given a function defined by a set of parameters, gradient descent starts with an initial set of parameter values and iteratively moves toward a set of parameter values that minimize the function. This iterative minimization is achieved by taking steps in the negative direction of the function gradient.\n",
    "\n",
    "Here is gradient descent implemented in [PyTorch](http://pytorch.org/)."
   ]
  },
  {
   "cell_type": "code",
   "execution_count": 12,
   "metadata": {
    "hidden": true
   },
   "outputs": [],
   "source": [
    "def gen_fake_data2(n, a, b):\n",
    "    x = np.random.uniform(0,1,n) \n",
    "    y = lin(a,b,x) + 0.1 * np.random.normal(0,3,n)\n",
    "    return x, np.where(y>10, 1., 0.)"
   ]
  },
  {
   "cell_type": "code",
   "execution_count": 13,
   "metadata": {
    "hidden": true
   },
   "outputs": [],
   "source": [
    "x,y = gen_fake_data2(10000, 3., 8.)\n",
    "x,y = V(x),V(y)"
   ]
  },
  {
   "cell_type": "code",
   "execution_count": 14,
   "metadata": {
    "hidden": true
   },
   "outputs": [],
   "source": [
    "def nll(y_hat, y):\n",
    "    y_hat = torch.clamp(y_hat, 1e-5, 1-1e-5)\n",
    "    return (y*y_hat.log() + (1.-y)*(1.-y_hat).log()).mean()"
   ]
  },
  {
   "cell_type": "code",
   "execution_count": 15,
   "metadata": {
    "hidden": true
   },
   "outputs": [],
   "source": [
    "a = V(np.random.randn(1), requires_grad=True)\n",
    "b = V(np.random.randn(1), requires_grad=True)"
   ]
  },
  {
   "cell_type": "code",
   "execution_count": 16,
   "metadata": {
    "hidden": true
   },
   "outputs": [
    {
     "name": "stdout",
     "output_type": "stream",
     "text": [
      "0.216243589363 0.3433\n",
      "0.00210362545092 0.3433\n",
      "0.00053757417186 0.3433\n"
     ]
    }
   ],
   "source": [
    "learning_rate = 1e-2\n",
    "for t in range(3000):\n",
    "    p = (-lin(a,b,x)).exp()\n",
    "    y_hat = 1./(1.+p)    \n",
    "    loss = nll(y_hat, y)\n",
    "    if t % 1000 == 0:\n",
    "        print(np.exp(loss.data[0]), np.mean(to_np(y)==(to_np(y_hat)>0.5)))\n",
    "#         print(y_hat)\n",
    "    \n",
    "    loss.backward()\n",
    "    a.data -= learning_rate * a.grad.data\n",
    "    b.data -= learning_rate * b.grad.data\n",
    "    a.grad.data.zero_()\n",
    "    b.grad.data.zero_()    "
   ]
  },
  {
   "cell_type": "markdown",
   "metadata": {
    "hidden": true
   },
   "source": [
    "Nearly all of deep learning is powered by one very important algorithm: **stochastic gradient descent (SGD)**. SGD can be seeing as an approximation of **gradient descent** (GD). In GD you have to run through *all* the samples in your training set to do a single itaration. In SGD you use *only one* or *a subset*  of training samples to do the update for a parameter in a particular iteration. The subset use in every iteration is called a **batch** or **minibatch**."
   ]
  },
  {
   "cell_type": "markdown",
   "metadata": {},
   "source": [
    "# Gradient descent with numpy"
   ]
  },
  {
   "cell_type": "code",
   "execution_count": 17,
   "metadata": {},
   "outputs": [],
   "source": [
    "from matplotlib import rcParams, animation, rc\n",
    "from ipywidgets import interact, interactive, fixed\n",
    "from ipywidgets.widgets import *\n",
    "rc('animation', html='html5')\n",
    "rcParams['figure.figsize'] = 3, 3"
   ]
  },
  {
   "cell_type": "code",
   "execution_count": 18,
   "metadata": {},
   "outputs": [],
   "source": [
    "x, y = gen_fake_data(50, 3., 8.)"
   ]
  },
  {
   "cell_type": "code",
   "execution_count": 19,
   "metadata": {},
   "outputs": [
    {
     "data": {
      "text/plain": [
       "64.914727602813031"
      ]
     },
     "execution_count": 19,
     "metadata": {},
     "output_type": "execute_result"
    }
   ],
   "source": [
    "a_guess,b_guess = -1., 1.\n",
    "mse_loss(y, a_guess, b_guess, x)"
   ]
  },
  {
   "cell_type": "code",
   "execution_count": 20,
   "metadata": {},
   "outputs": [],
   "source": [
    "lr=0.01\n",
    "def upd():\n",
    "    global a_guess, b_guess\n",
    "    y_pred = lin(a_guess, b_guess, x)\n",
    "    dydb = 2 * (y_pred - y)\n",
    "    dyda = x*dydb\n",
    "    a_guess -= lr*dyda.mean()\n",
    "    b_guess -= lr*dydb.mean()"
   ]
  },
  {
   "cell_type": "code",
   "execution_count": 21,
   "metadata": {},
   "outputs": [
    {
     "data": {
      "text/html": [
       "<video width=\"500\" height=\"400\" controls autoplay loop>\n",
       "  <source type=\"video/mp4\" src=\"data:video/mp4;base64,AAAAHGZ0eXBNNFYgAAACAGlzb21pc28yYXZjMQAAAAhmcmVlAAA+2m1kYXQAAAKvBgX//6vcRem9\n",
       "5tlIt5Ys2CDZI+7veDI2NCAtIGNvcmUgMTUyIHIyODUxIGJhMjQ4OTkgLSBILjI2NC9NUEVHLTQg\n",
       "QVZDIGNvZGVjIC0gQ29weWxlZnQgMjAwMy0yMDE3IC0gaHR0cDovL3d3dy52aWRlb2xhbi5vcmcv\n",
       "eDI2NC5odG1sIC0gb3B0aW9uczogY2FiYWM9MSByZWY9MyBkZWJsb2NrPTE6MDowIGFuYWx5c2U9\n",
       "MHgzOjB4MTEzIG1lPWhleCBzdWJtZT03IHBzeT0xIHBzeV9yZD0xLjAwOjAuMDAgbWl4ZWRfcmVm\n",
       "PTEgbWVfcmFuZ2U9MTYgY2hyb21hX21lPTEgdHJlbGxpcz0xIDh4OGRjdD0xIGNxbT0wIGRlYWR6\n",
       "b25lPTIxLDExIGZhc3RfcHNraXA9MSBjaHJvbWFfcXBfb2Zmc2V0PS0yIHRocmVhZHM9MTIgbG9v\n",
       "a2FoZWFkX3RocmVhZHM9MiBzbGljZWRfdGhyZWFkcz0wIG5yPTAgZGVjaW1hdGU9MSBpbnRlcmxh\n",
       "Y2VkPTAgYmx1cmF5X2NvbXBhdD0wIGNvbnN0cmFpbmVkX2ludHJhPTAgYmZyYW1lcz0zIGJfcHly\n",
       "YW1pZD0yIGJfYWRhcHQ9MSBiX2JpYXM9MCBkaXJlY3Q9MSB3ZWlnaHRiPTEgb3Blbl9nb3A9MCB3\n",
       "ZWlnaHRwPTIga2V5aW50PTI1MCBrZXlpbnRfbWluPTEwIHNjZW5lY3V0PTQwIGludHJhX3JlZnJl\n",
       "c2g9MCByY19sb29rYWhlYWQ9NDAgcmM9Y3JmIG1idHJlZT0xIGNyZj0yMy4wIHFjb21wPTAuNjAg\n",
       "cXBtaW49MCBxcG1heD02OSBxcHN0ZXA9NCBpcF9yYXRpbz0xLjQwIGFxPTE6MS4wMACAAAAZdmWI\n",
       "hAAQ//73gb8yy18iuslx+ed9LKzPPOQ8cl2JrrjQAAADAAADAnTFsu53XQ2mHYAAAqwv/wWSuLYB\n",
       "NLykuinx4Xqj2BcPgfqpXtikxDbziN2JSW+kq3pUeH8PVQebz/p7yrlex/xGMYm66e2cUpMvN74j\n",
       "wUg+vd24ARNjPd4gAuIfA+BohJsRa7/bAqjYIuxgLUxbxm+2hI9CxCv5m2GBArj7tzP1qMS76/u5\n",
       "GjdcOdp2TblAZwkXwcCWJduPxtxCpWmCrmH9+p8GZqbGaWTUdgpMHjw7Rnqt6eXCSUpBF/MHoJka\n",
       "Uvm9CGYtmbYGb7bUKgVduUm2YorOYXBZewAm8yIj9zwdYwoNLy/i1ELA+lISc260jIoZcuVSn3nF\n",
       "Wzul7aOuU57Al1fPnLPCBkzUZo0Md2rpES4EqgYvdxiYIjh1m+HAaGQhGcNQGpvynyOsnUMbE00e\n",
       "+K4AATGkNMomfUYL7+vNExdN0g9YWwZ6BxOVS10kZhPQq8hMu0G7S9BNvaZeWX3uUWums9eB0JB9\n",
       "iGr51RtTr8r5rfJWYamlYOeQkwScJ0bh8nmnJ15lJbDIzp5gYjJ+ToNm+kEFIUrqE77wjFV63hfk\n",
       "OkoMGTnpcGXiJb5A14KLcUlkAgiQB4dIW0AMxUPZIxifIdydTx95AM1KTZjANqzSkzaeQh7WkepX\n",
       "YLw3f20Vdxvvu+y1ZDO+bmO8z+Xd00T/xUB39q07t8jeTjFxRXFIxgxAgTrFWYDw6wtzkPYR0v9K\n",
       "IsFJUiW5KXfZM8PoTU4PX9ooDoRGmOrrdwe+CsrUKbJEHrycr/2FniasSbZ/H83kIpqtB6FxgX4D\n",
       "g+aNgsh0mj5uvKY4rLkqZ7Pg3E3H0/ocYpWJ9AaahDsmi8l+ZikBmN9z6MYCe3nifUNay3UYTQzD\n",
       "RCo6Rr+UyvPUBwfhK3EOtwXHgJZWKDYROKjlJ89F5yvw8128QqxWUlMraBMelPCkB6+V+1ylG9rb\n",
       "WmbBPOhyzsJOEstKOfz8ryTZGd9yhvS9xorN7ETcCQcvCpeT+Z/hEt8+vHDvy9IuotZx7Dk17K/1\n",
       "NqI6nVnS6wY4XmIHx+NwOUfvJxq27PWHf8x3L5mxFiFYIAe/2KQxIYOA8qgbME0yfnFovlDhzTl4\n",
       "vTOZewU9HsfCJfL4wIiyHHNP/KmsUk5+sGt7e33MDjRU/FmMYAAXbeY9hA4RLyTK4PD+1OxPZM5c\n",
       "COMnEBrvNEJ3F1j7b2M+D9ZBvsB8UJhU2aOs6SQCii/ySbSUMD6JJH2h0U2mVg4h5Vi/V9ROc+8P\n",
       "XIwXDZotE9Jegrs0H5VaK1nRXUKfpB8qve+O7gBkwAGwZ1a+DQvtew/qWcsGY8xBtafsgfX9kOob\n",
       "JtkNK9sSXjR39HAJwg0O6hHay7YwBdWiB4w/RQiS9eetycm8v/NeW3vDntRhBvbX5ohY1+CAaGft\n",
       "Qb4hx9WUMPowb/4H0D7833sJvBE1rZGQZS+9MTtPQC6ij8eGAnmQmu5A5Z2eBkZEbQDFrAA6roha\n",
       "twPgEOLTEFCehf+XVHX69Shu77pq98HoFf7WwfpW6FZZYqVEfBPJllpv4hanl8WG+aOBTs5/NH47\n",
       "IjE6u4YCKtJfBg9Nt//ORxI28pfs2YuiCGTSt16T8N0cmfPFKbNw7CjVL0daTdtDkPoLLGKYF1Nr\n",
       "FEz0prNiF7LuBr5AMynktSdF8ZW2ZWKFrCDiz3X+RNqpjqEL7Zsfwb+KVQjnc+GeTeNHZ6jt6QEd\n",
       "3El+wir39YyZokKSEM4Xt0U1Xbwzkpv/oO0OKd6PVP1A/M95TLRZYLmQZFAC5DlwNWXl5GimuC1+\n",
       "EK0ErDdD7kLpDgIiic5cpgiVUUVmHvP+1DmAE1kVIxf0o/kMjemov0/uC20ADD/1Pj7wpTKJzzFj\n",
       "oFTJkSiKIK5A5zglDZFh1hzjtDik3hmbMCDty92Eg30MWLAZCWyXNCyTx+T6x6HaUOAnFMWai/0a\n",
       "LgW53RJrkAZ+mwrGhRMQ7KtMW7Zc5DqnAyKnnmlF46F2i6RtsvgoIQi4+7Dn9+unj7dCFlClCbHj\n",
       "hUP93uIvYRfsPnVJ5dXIik31jDKp44vhYutLnBm91t3Sd3N3tJBYfbpJNnpuN2YSH80/rwh1/apD\n",
       "JBvuy7Zu0lp0vexd7cthItsD7OE/wNVxCz+iQbreMyToXKByKwuH84dr1n8WlrWpnjBKriZI9uiH\n",
       "gS0YQVo43oT9Tpv3TGMpqYLy8a5NrjMqV0uGzmpc9SGCiWlbF3DcwU3i4M8ptk52OcH22XAlRiBj\n",
       "4OlKNvLPRmhhEAN2yz0XAtTbAmx1967qV87dbYdh2zY4I6kk6DgYLX4WEFv8agbripSCzSXADcZ4\n",
       "ghgDAXaMZpVBhCM2qbIGGqyatJCNufxgpYl3Z0DXUoIusEowzbauWMgQVZezDg6pQNqcSzeI0wm9\n",
       "rOcQzTnzehrOQXfJHPHAFtLsz2F4H6YAxMhqa6ULDnwMoH0YfeudoGHgy4VkwqlctjwkImwQ/5NQ\n",
       "NckynZC+MSkOMxfbHzILmPzyhdfqXsat/8CxOK+N22YYbD9XYfM4Fvh7CkU2OeCcRF164XBgS14r\n",
       "cYlKV+uML8OT0IxNNTWZM8YUP3kaKalyUlhy6M2DBRXfYU6x3viW7wLtHTp+ouYSWI2cxjSeadwR\n",
       "E/Hu5ZqxSPH3vAtnpZTABc6RMDJSNOw6PpMewOTPju477PKSS/v+YBTK+aIPdSXWeLUQyIl1I//l\n",
       "2ikuvveNC0z+cSdYgecLSvGIeqXCaj3sULxhpTnvodvlPPOPNY4iun9f5xX58l7HFzX+BtgcO6Jd\n",
       "DYofLu/zbnlCO1SfZLwFCkLgXCb4VBhO6PxocvHrFDCOdtKa9rR2Dv164XFCqICGSRLWV9m5hNVc\n",
       "+X/MXFeQPXv7Tab0jl3sfccBcxF6oJulnqJg3ctya6ETAJyzIzDIrybRRcDjgb8rTkSJlubrEIwf\n",
       "gIx5ikp7l374YSosF2fnii3C2ivU3U1BYYR0pgMCKbGPsQDyL6XpjSCTtlatv40yscN+yMzOVH2l\n",
       "takVgD+gDIEPraXjho9N9uxdO99Fs6MYLsXvoIKNPO30N8JnxPZA8YV93aCDtbv9cpYUU0e9kvV2\n",
       "FvYs9JnPyNrv/WgIcMMlaT4tH2dgRWAL2n8wUAQcQs5hfLcgAGDs3djUTDszuqsuJ1LBgYT6DkIj\n",
       "bhZ3ANT/OlbXBm/hEZaHE4Lc2QwEvEiSagmUWvnrhsdjxgDiaTzugkBPoARf4tjWIsKrRbhX+P87\n",
       "V+Hk1anumJUj5Jz0LB3GAaOqXN/w+KsbJpmc0vebzlFnFOhVp94k3uJS7QRFRDtSvMJns/Ri6BxF\n",
       "KaZ+eGr6eg7iFJEtzE7TvVBVeDKC+T963MOeAUZmG3jNNxnNIAaC9h0jwTsRBPj5Zz0lTBYUdFg4\n",
       "6AN2Ka/NA6FjcAtiN9YRW0fykUMW69iBWv1EyF2iGJKz+1oT+y4EX7zJzPIoNYag+TfGM5ZPs8+H\n",
       "WVVuDpZMFmDnYL3ucnCVqbTYz0ssDmCQsJ0kmfNINDpDXUnHu5IKMQL454VoeKA2VRcHFd1bkxeA\n",
       "xbKss9xfOIYZ/R848gO2Ztf+mY+Vy8T6pBg+A4Q7TMc3s96Hg6tNFltJGoOL39cp2eSfkQVgRl0U\n",
       "EHOzGTB9Fe5/eJ+oTjhP2YJEPOJq3ze0M7wfIb8TMNnaVIrvZts/HYh/ZXOkT5mL/D/XYzzpvh+c\n",
       "Vbugo7QL8PMAqqGLq2ID4vPsWAyV9bot7H3whNamzJ01JNjlMPLrsmaFLml0k+/tj3afrkBa+qZd\n",
       "uq6kh66oUPbTIZiJjkQZWAFCT6ERe35uhPNMNcKCntlnYI2X2o1ymjSePyZzB3Zr2glPuQTLk9AB\n",
       "y6o7I6ULUkJlZT1nV/32ciRw1qZrB7lhRuRA6iXWvpNisC6Wp4oRm1uTkEhozlSxlcUnCv2k2lPO\n",
       "rq0SiibMkewB4c8bjJrx9m8hMbxhCWUazI7Y3rUxvEbZT7dykNxX4BbqMghgTX7aoORcpF/0flxo\n",
       "KQ79w5H5ZfPsM1WLyz4j1m5p5aaJEu77hkittS/0+E/Ba4pTF8cngo3A/a4UbsdKd59G0DkXPolq\n",
       "YycgHC3aSDm/VH+sVZLVJYUAV1oHvDqXK7Qu6hg+3oh4aIo4vG2tsS2RHxuOUHSj7YHJqEcfpN1v\n",
       "gX9JwlPe13eFdWg82+fTaNKksFxRDz4WqBTKQJIy/wxQLvb/S38zlJj4XgbtFarR35Qp6lDJZwnV\n",
       "yY2rKRp0XHt+HRWxms1Z1YXf/xbXd5bHAuMxfOkCR/sbNG1D23gRg7oGtXXgKBjjyo/xG9qCUvpV\n",
       "dRZYyOsC+vA6jkYtlV7Gftk3v7kCOYmmLiFH6OEytVnM/dbQfSaPk0vT3o98kXcnonQxRCx7RTFq\n",
       "UA/PF3XHt7lMlZYwGmqQODJEvKWoSnSbnp13EQrR4/JyBYcR3xjjhjdAhQj4tUwyCeVpbPOElYuE\n",
       "PL3IV4i/pVK3oMCJzDbj3/Z+5bRN2hMNAyKnJCEaNJ8Wej7dtKWO2A/tHmg1xAkGaVS7eXQpC4CH\n",
       "Jd6deni4WTtHTw9vkssKN3kS0yI1hX//5h4XUarYLdMHYBBrxfjE9GjWpnRBxHy/TWYNTZYDq/M6\n",
       "ZWZHat7zNxHn7HMeuRwXePtDScXP83E1DV29RoLcn/06BF1/M1vUJXrE3VMkhIU8hrtyslPmcCt6\n",
       "Og9TM+Wkv0ONPeV8H6/flvrpLKGvqNojJPVxSA5x8B2bkb7A6Su1BMwSnlb55yHncyJ20Ledp0yc\n",
       "NBAs56CPmAbzu+Z4hU+6ZxY+v8ecYn1F/ndd8fpEfYWwp9mjSIbONlIs9PTwbA4Qe9BMaMelMyFX\n",
       "6g24znGBqyzhS/KBXWQ69uM83pqUjN4/WyeyTSUyhwAmCLdrIeUl2NUmzhvlmUVMCcVmXvtAfVQ2\n",
       "MBdPShd0SNB2E/NqHFMVCX+tttZUkkp/IMU66ugH51zmaZvMcxjfoZdox/2Iz1nmhu0FLtYxMUZr\n",
       "5q9cSmPHQEbYNqIx1JsJ4vTg1CknbLMHNPKwa+l0GDdSpjsd0um/CiCvgb29krycYmkijl6wDG78\n",
       "ryJCLXt6euvsQ/8qnngM1rfjXpZQZ55uhmi97h4iW1lamY715vm3yW0M62F9f4S0CHJ+33UiEjU6\n",
       "fLl9owg1QVsg6mrUzE5+m+adyGSmsENz0HsIsQUpCdAVgSyx5cXZmATE599bexSHzfmt9s0TJdeu\n",
       "9aO+FkPv7IdCYEGCRVf9W8Vlhq8tAJv4Kbn57O+qcTYJ+DgoLrPrfDNqsS92fIiLcaYFrfpnwMpU\n",
       "b8BcUAcvk82r6TlSjvxKG5EF1udH3WOiLwGoBSmtIH1iFybTFtMb79vjZMIZzRoc5f1ckXM2IDX/\n",
       "4drCLz0j4Jsf3DaVIC4c5l/MrsvwwO8mAQhMudNaLPEadJk4Fvt5YZgJj/zNT957YNcrskySFNQp\n",
       "3LzHcLRSu7dXjT+f2+1IlIdOrU8iAGwQNNWGvQRo7x8O51Ovv9bC/CM8OIckzy759+bMnB4HpHI7\n",
       "BgcpXNj09eNTOXLxESdZQiPKKL0zb2Ta0hq/wpM/0vZUXB+18IpSuhc5d4svCsBtuKHXg2HUM+y2\n",
       "E8dspCDtrNQdJlMA0IwCxTnwaYZp2N7LLImFwCO9QYYzPAjfPBcs21sQDSGf7Dogj6hzDJK1C2/a\n",
       "BPZiJTR5v3vOx/ASdLijGyFJODtAaqCv+LmHJ5Nb6curdzkhl6CvJy+eavS0tCi2DAJ/gmjyxAf0\n",
       "xp8ejxaKV4+mqtYxnh4IIEfJVbAk7DIDlm079Qp59sY/s1QD3VM863eCTYddcmCxZoZl7v/wnVXC\n",
       "U3Qz7gQMQDsAg+tCMHVcgJ6c1vHkilibU9mSTC6TGrjnHYnWZYrIhKWxRQNrSHQZBzxFvpEbNz5M\n",
       "wavKgcxE3emzE/bEtjma+rUPq6uVnm0kVZ57zObRl490xMDslie6x+7eElW7/jFJwh61/1D5eosJ\n",
       "NU/7HePDwFV5WaXxoh+BCoxFeZN983jLl2xaQjxmJ5WfrdGzS3QjdyQXAcSSvgu7QRk/6VGXU0IN\n",
       "RMNb7xGMljdJzDyQMTHHzDJw1U6M2MrpFpVM/y8rxZaA2+6ol94t2oTAT5bTSuXKMrBCEHBLLU5d\n",
       "ervnjEKm77ZNbH/WXhLYKPdPwuRYjB9KYybcmTK39j9NSYAAKcjHGu31LOOtwDcdr9cQ154EDrI0\n",
       "eLpuVqLBWdaSMAuRxCchfCzVnmstrOB0s/CgyXffd5dPfX6JJupQv+dFmrQTXGR6FwviWsVDqA6A\n",
       "r+Z9tXwYFXM1vSuoj4UYyogMvnqLnfzOSrSBWMYI3W89YN1VGra2D//y80cEUkMgWLLbCBcV2oZz\n",
       "3hVGbw2+wgLptmwDUNANnB5ronNRe5ocHoNNwC5aInE8BF5YVMy2NgKQ777BOFxQuMeXN2nbKJk+\n",
       "20Zoavi0Ha7DRPporSL8RE0bJHPSfrkmSPAkmCkysbakkZZcjQOj5J0PgLBC0iZORoyD3/36TbBj\n",
       "q9osCtQ5AZ6Ay8Wh8dhMC0GEEWNxleaWclKAhQ1rnYcZeA5gmXT5kQG0Qo9bp1FMA+GdeXxr284Q\n",
       "rCq39498XmSuS/hrZt/7G4U/YoxzWYCHjaBiT7oCj5+wnghZaIjs7JmBapRAP85PNagkaC2timOw\n",
       "pQeh83RwGcRncCkpfOd1t8P/r30erlu1QpNsRbn/22O1xcR0UGtss9XQz6CxC8q/9Txl+/3J3nJT\n",
       "Eo4/YRHiQ64iMAGg3/M3mpu5BvTugAmRBdAP4w5j2EyV0EnVVONjMz0PvJi2Pp1CMl0K9vJC4ee1\n",
       "RGZj6Tk7Py0De1FapOUqItCSDmE/HQCIfuZ+FkRcGO+tLwsGMzU2ewVGmkIJITQ6a8S/mpVnvvJY\n",
       "MLFeNh4n8riUjnDw8Y2GRvWICozzmC0UMNBg5DK/8kxXfRXwGa4bkQ862mwoF7743Tkjq6REv5OL\n",
       "BhKw2oH2hMyeGTkr1QV+pp6P2DpVbAnEH+0xuyGS8pr1yr+aOMuYyyj1YBq5Dbe7WZgTb3kIu85g\n",
       "rcPj7710sgII6q5sp3jqALmrh1J1fNLjIk1QEWV9emYuIqH0OtYbFhTx8u4fLktGVNUI2niv4laE\n",
       "pnX0JeG19Rf5fEIc/a+uWsJYKUCgiM01ZlEPeYv8IlNwlPti/TMQ0ojyse6h72t1S75fyG0ecGrZ\n",
       "gOGquZd3ks4LaGodl1hN6AWByQZNmoIRMmRjrzxSYqIq+BKgimGgq04aD0Y5UbdZHng6YQLLjIkq\n",
       "OmxCdZNSxVduE2gGu2+QumjGng+3DXyGY0uZ9qNCcWOikwRk4DGFajeMBBKXHSa45hShu55R4uOB\n",
       "tQtLxSNnHDgXZ5e8HBLQ0Gk5jkujsCL2urvuFG1huafzEoM2U0aBSUgasHkRmgepDztGZrrq8LJD\n",
       "ve5MH8Nu39xCil2TU1oQhGpUvIAymJ3nAWD7KBAiXlol79gS6rK6fAQCkePgXfb7vTSo4D7s0a3c\n",
       "GC4B2pBcfAl6m8gT4WAENMKPsl+2K7PfWesOy3zq+o7q3AwCsyJp/y0SFPrl2uNZWgT9TMiv0ImD\n",
       "/uhsjpnZX6x31XgzQvcNxyrxjB4No1kLn/Y3IO/ka7yAEh685BL6mg4tGbq1w22zNThTLqy9ueCz\n",
       "qq/cbv4wS/gMFBXSQHRVCIIXQsMzq2YZkkJl52Z1l36mex5pCc47aKcBIbDfaliWx4KFttjWBGU1\n",
       "pBhiJEKdWo3xnGlXyrGCAzc9md1UN3gaCUdcbEfLpMRbUsHFKHRkXpiBl1nVNJEEQd8SB5ERAfuo\n",
       "726tZ+8cyDHB4oKHUCieKf+H1cdJjj2yFj+WvDnML6wfyGpZIm/O5g513X0JUIu921dJ2s1i2qgp\n",
       "oQ6wrEuMXbXVhGj36TMwiRuE5ni+4YUt7tnokmDFeLbG8zfUOwg5WEIFfGqYBiM9Z546/RCzN0K9\n",
       "kTJH8zeVKPl1JWTrUJgbr8dYX0l7MxTpsppiFbTKIy45QajjiKicHITVeMKoqSTrb3S3BAflL4pT\n",
       "y9ntJA711sxGXDQQ9lqLOrnltW6G25rQxUOdH4LkKyif6pzW4cMErmnjpqQwJQ2vA+a9qnJc/iU5\n",
       "UjftIBgb7QbglKsmT7OIC2cOt9u7m0IP4j4pRjlyBYD+Xf4E1+BbA0d5Fkh/V45F1O6qZDdi6KwA\n",
       "cJXu2JYtFuom6Stm6ZT1kKkzuhfh1hrHX6lj0biCn2O/WQ8GfMlcjvww47ww8bnaMuwzzjRoRAel\n",
       "rgguzvMnUq0LcgEle02dQCn25/7QU+KNsz7TokGcq/rlDCtuUCvK77vSjlnhEpBK5bYd9v9lHnSI\n",
       "ijvgVsa04TOait9a2CGcpmxXreQc0ShMoKpNMABmtC2bGf/JOlJVDT89ifc83zamMtzQYkQVu4SA\n",
       "1sqUH7bVp98hc0xyLL4VAePjOHU6N96pE8/uTRNIEbZnUoljXKcKjoXsqZkvJJ0J2jRGkcetn/1W\n",
       "FwNV/2TMvBD5QHehJwT5RncieViUEpZFztGXYYWPMdtzN6shzbI+9Oewq6nArDi1DtAlVOZBZLEj\n",
       "M/yDxMpVauilGyf5AFzfZQCZsD4rVD/UciMCVoWSRBU/oPWa50UNPL9SLgfQWw/XxQy9DWz04l0/\n",
       "HQtLGVJbrYq9QDQAQYAKKLWBAAAFFUGaIWxBD/6qVQAKUWNaQAN+gMX3SF87/1wNAxpfAFOBdPRa\n",
       "eB04IyMQWaxMHaVF/MjUf0rSsym3ZZb3WQyUhTtQxioCLqMkEMHgg7hYoJydmHDwa3tFNP3Y2Ny6\n",
       "kC/YZwzIETKH/Dy2FEb9/uewLzQDfDIPVpXdYgG2YqyV885zaERpUYUfk3R6PcxHyzznawYmCW/6\n",
       "+aG1kl/D6cGyvUTmf2jjROkjryWbS+HiYj4oDUyLHxeJBgJg6bX/hg6fA1aDaKLES9mU9351MU1u\n",
       "6jqD+zbZMBynmMt2Y+FsJfdtaLzJ5D4eZvKRA3hs4G0qqfLutmitYCgI37RLtOpabIcndwfj64CY\n",
       "WujiZW+4tLGE+4fvAc+8P7lTwY6T9WeJI3JFpWjl7dmjhIDAogdKpD8WoFtcyrWpKbn+chrMBWyt\n",
       "EOCeKkXoTV9eUULDV58CBWG0zBUITxA3UheqpxhBU5yoE7fziO6RpPk2R3rfSY/OagK7TftKPsk8\n",
       "K/NU/g7OxHCGfpYD7Wl1ujNQIeBt3oZsmtcB7t1TDvUDYU0OcB7VrBJG5qU1HNe4UcU1mNyMNemn\n",
       "uUilmHaXLCiLlivyBroheXngDq2Bd+3deNTLWS12GLvdtzzMLTOWbb87qf6e1nOnUTksC2jFOYKW\n",
       "JbcQuMvL+Q86I2btSRZaHeZ8vj/NGZPVx4wpb6fO45d3WYdUtZB4HRrkjxzQ5gRgjJOJVu9M/g0B\n",
       "fQQdaBGRQ3KuueETKwkI4o3Kyv5W8TOSfDcJMbgyc3aL2V3xoXxAgev/zlRQV2yScBfYPQBvuFWD\n",
       "MSNDV0/u6ycdz30YZ4Mv5cHpfdSz8UZ2NsLCnxFpmVt/Io7vKrB2KRB0ocR3C0Pwwn+MEaXLtQtM\n",
       "X3jXXHrcH5bi3QX2cqxiqIIzm/cWAJbQmpurpNaf9rJ5OQy5AZ1p88UhGhvxFEIjU47aRU5RQQOA\n",
       "e4iaMW9xyW6UPSDi8UnYtZA0d07sCBKpAYQb2PzHwWlUxoa4+AXClo7wvCWE6Zlcjvma+pisg4vr\n",
       "6+/1ip0Tp0Q6t6ILbYZipAxNyhd6voJpXAkD3H+hvbarx16IBrhF56QEgdovTYAKaTi+dS/4chY9\n",
       "ZF9dvTVelZLmPdaiYwlOrl2Ryq/pGiV4QZvj2V7k6chiGkE7iNIviJ9JoGSE1Lbne3dhn4Rvny0Q\n",
       "kboT/uIMsa3B+WR6S+AoQhE5wwVYbKIUnYzjSQ1f0kxTfLwiuf8OWLlvzoi7wuPkGPLF0mHv4Uc2\n",
       "soD3xLBibE5CU+n75u8X1FG+nLjDE5CCqCT1R1LqwWLBvsdjjNPMqclTWgvwIaXp4J/uzdMgc1id\n",
       "OqBk9DGr1TpqI7m7VMxnAb3lua3CuH2VgA+Pge6oovu+ySCmMbH6bWu6ua2/JmC4QMWzUrCEiubD\n",
       "KCR9sExEgAURVWdEfjRW4KAYhbzpI5+lBu1IrcLBvkVveY3fXDTO7UdEaROyDATuu+TinYuiQFvq\n",
       "lY6LK7/NtpF3nF4HWhqYHADQL23a5bcRkK4fQ5k9t4Ih1C9ltx0S0sFFbCr1OKgFskiqIOpci4qo\n",
       "4mDPUxB0r5OEUCc42pmWn3KsYtkPp9Z8j7VoP6Wlo53b7NBtEGLLAAADA3n8A2jJOfYhDASWeIBs\n",
       "dM9UJ26uSHvgLrPG0lr2mkDt+ksPFyeGnGehJJzRRBPsj0faxQUmBvnMQdIFcL9kVlhMUzOdNdI1\n",
       "gJCW3ir0uHC0zHgFAAAF0UGaRTwhkymEEP/+qlUABSfK8gBuyKLSUXntsJqCC50MPDvR1EA8ZM0f\n",
       "PRJSSv4ADUNOiDvz+AofHKkM2/0YoqfDQ8Iq2cWLhkwLUz8zIm5H7Dsiw/vcoOSGyHKhffXu2P7q\n",
       "pMb9iL/EJL3KwbCQ6zBbTHRY/ZPEB2qX8fZrmGTzCP4Kvx0wIoFEs7gVQxXpG5efzDVzTtyRJxzS\n",
       "wA7yC0irDO2F30EwWz+MUVDpcPVC7+5GKdMNPJyGSTOzTj249Ex31e6F7yqPiNQ4Gxj3qF8F5DWm\n",
       "1edGKHpsBn2Z9aXOFuRKWY5qhCCXShbSbh9xJj/8DMX8A0It1hvaLfG7UEDFL9Ov/QxZDDwn+Wdq\n",
       "38Mv3Wgd5+acRzfAxCck55Q6R7Lpi/if1zrRgq3+EXoWCzO2xkxMunY12Y1cs2JHS6qEusmH19aT\n",
       "RZn2SZr8ADuENh6A3BYzvjNE8QF36EnbeXWADwecp+hutBjHtwrzlwqpNJJwzS9Ujhab7Vp88V58\n",
       "EjssE+pxs4LFEZS5z69cBadmW/xJSmgm/c+GzU0qxtVN+eU7AO9CMcC5jDWNt21GSlqa6CWZeAz3\n",
       "ddcBaCUYnNsp21ebkjZ5dyoV+rpdfAli3jdd8o1MrKaqFRnc0VEeERcpRzzmEM8kv9bbEKmm/ToZ\n",
       "yE2D8qgXDjlDSA8oRCEnv222qWexox4qaw5QbqkBxBNuSuKVWzjoeMjnJGidvFNoebRTwsuIerK4\n",
       "b+/F4QbQ77eEdWsFOYKfTL+bQnyzyieEsFTkonhKaxKoz2JUKoTduTYlTOp+Kah3s9Sez5qeVzjQ\n",
       "r3EEaSLj/UFXy00LaWVjMe1EcJm6a+OoPYOsGvLb1zJptGe5ZLedN+90SYPCWic29HNj2zTAxSab\n",
       "N+E+iXE8ipIAGX8G+M+ZHPT0WtvDr0Dg8p6YWkwYtRozBT5hILnIjGFGAfD/aniqzc/NUqSv1zHO\n",
       "AkSXSm2By9Z6WtgM18vvzvHuGBkj3QYJgwugk7o1tkk55iug2sA8qP9UR8GnVTTT/+LpW0CcVrCk\n",
       "vvscLDGzcMjeyQOUv2Zb+XVvDbYVRGKWlhZg58G4f4ZlQpwTo2mV2dK6tqLEjp8cSJZF5FbEriu8\n",
       "2iYTKpt4Pt4uj+2DNodCCGpi8oobftlZ/v/zQFpPg6PTYKkYJFBKtcpk3YI7f01t6CLDQlx2xL29\n",
       "4/JVcmw6glMPq/T3Zhgp9TavpC/IADbjGIaphYSiV+O3yceu+3AF6s31aaUAWWGKgbGuN7M8SkvW\n",
       "hPUo1VFJsPiUVcNY5pBQW4UbxGlWTIm8fQSXsdx+uFUMRF1ITYT4LKYyCVYO1KtaAblyNCtlOfrF\n",
       "bVnrKkzkL+RxsxccQxA3Gcxpgn6Bt+1h5MJw8rgjV9AMg2E3017jmdRuo0KA6b4buPw+X+vH8VXO\n",
       "LHQEa+6ZNC6E0bNQO6JCBAgQjzyL3hIaE14DBDbUq9M9wA+DfsqlvRHVCOTJlITlJNJ28Ho0OF2h\n",
       "euoJNNpJ3gY+chpDnX2nEyhmFt/f4wpxHY3g/ElGn5Nmf6Al+FRYWr7ec+jdHbgcO7/n6j63OEhN\n",
       "Zpo2Ny9tQprtNxu71elA8AFToxuKGMAa+aicAz/vmYUG6qi/dO1dsqLsByikSzoTvTl/aftgYuCw\n",
       "ispC9zdsMEyZEqGVI6YCuEaDeOSNFFSzhsx5zJxeVp04cwwgKLvfgrcLM8QwqHQ4tIn7dZVkHZ5M\n",
       "Sef0LQcsBwxELHQVHOU+LsrMnMO5ZNJSFcAqXSacm2pCgbbtG4IOfeIcrVDcH07q5CC0XW9qJOZ7\n",
       "ZUIn0CBTA637SnAXghpfr1I3727Wo3wITVo47n+eN6P2L4jSQ4OrBCPNKBNhHUTehdkVCVRyDUlO\n",
       "9gmYRjuSMWI7uhElHg/aN7p4VMua41Wt87+bbKV3tCIN7c6815ETben2GU2FxWjn7bIDoAmo+Y1N\n",
       "ackckYB2SmKAAGgmv1WOIYBTdoAAScEAAAQ+QZ5jalPDvwAKCrDRIZs1aADaUGslGhVPJZv9Lfzf\n",
       "4gfnu9leDgqPFJLo/4LdUhqH8XdmLFGo1PyJVeiOm9PPcIb64BTs3sYq0/kSzMhaGK+UFxhKUwLD\n",
       "YTyN1WdzdnIrBQ/CvIefZwDFrXvIMel8xVJ/1gcJYsF7WEaF8lJ/FwxFhgwjyi+pwzqY4wjaO0qU\n",
       "OCRfLTHSRogmoAPk76h6korHB8Hm3r9Y1Ho58/FCA78IQc4LMbi1I8W7F4Co27Is9guUllufQQQq\n",
       "BZxAa4KDafTRYbig84hlkqaPx3mHInbKvJes1belAawWlKThlOmLNe/FGO9wyrQNNiBwHYFFSMPa\n",
       "ROfYkDM74Rw/c6R5YWMy8130v9abTDTjJ72PMhgHOj8K3DgQktiXo4QnP2Xumu7wScdFmAb1LZ4S\n",
       "M79/jcYC+qVxaFN93rMp9IDzK2x4Q1vsysK6zTHzsLDXu0zVe5K9tsf1SXOSYwBPYz0no9p9T60X\n",
       "RSanxlWPwXfXDNTftxoJhhA54WDEypo6hvLr/bTucI6GQHQrLg1qY3SH7gfCMQSyQ7uyyI3NxCDO\n",
       "EOkoxsR3UDcYzAUxIC7rw9sovO7516q0eqDIh3lDoIbsl3RE5ePaIHb30vFxTfr9ClUDSyNRm8m1\n",
       "UmQ7uV7gPKvQgTAX2QtkZh492VMVdkLm2oKwrTZuy8P2Hv0JG6XzwDieWZ6i4ir6lJpA/Yaujwih\n",
       "GEi9mjHfpiJKI2RjAMAy+jW4Znhd2ogCOP1QphSq/R7jpCQ65EJLfujlskSGgKd5EJq2ZPYPcNKZ\n",
       "M6sNVluIZ5quEb+boZ2HI5kUcXuQjgZTxchoPKtm/ytaz/po1z2hcrqQTxcRjIi4qDCtQE2uzOSo\n",
       "NeEEqxGEMierURp3/FhpuHkj81Mve2o0nuc3LIrfZxwmHQWkPoJ+TnNFLdF12tog2+gLjc+06Plr\n",
       "YN5orKvLKGG8f7ovh8GLCzqi046eQjotrk3gW6DPfyB0lxcLx6E67eb5QozuzLCMI1asXouXklkz\n",
       "hxsMhu6ngNkSOhxLY+hw6Z5qHgMYmhV0JOmgrz7+vr0HNVHq6QAJZHZaUP8/MB6wdUQpK2kj8cC8\n",
       "thxM4QmV1x/THvWZefoGHoPJoHZjlzXOq4KHVrL1+4GSz/QM80bsbvxJPYa+JX6z5qN+lTBWCm5H\n",
       "Cftv9hWkpIGMJAzzuNjuQ3jSkDA9Oot+7ww4fGtccU8XBi+63dAcxfP1S++zT/QWUfKgmwO0OBzX\n",
       "ZHRaw4VotKJuD3rphBfYJTpZEaBcr7KTP71B9awWuDEtwUzIfrr7OIyL9/eNhsiMlbgTykD+Ue/9\n",
       "jpL/CwoTnIWsg60/q41ZkLhgHZsHKvR0qxGuKLFA1Br6XxcNeX0EjF5gZyRjFXs1OssYZCiB3xQH\n",
       "UsfQMBm7sd9zg9cfizzeo2b3TL2AAxDX4rVZ6PGAAAAERAGegnRDfwANMhW+EuvKJbojJXEl+3+G\n",
       "xGcACWrku6gMuk79gzNSLDYgpbj4qwgt8DAwVtcIzhXQcgEvtWX9nOko/TeMGa9fGm+dkcGKIsen\n",
       "VxcdsUDK0RrgyI6lQKI+kD+vwGTPZorK9bhImiXthETHXu0VZLsV01VATnnhCqhbt+RAv93aRqlW\n",
       "dY29og7zQtI36J3FG6HhHc6raCduXs0g32paZpyig1b2Mfun8dDeRxkrOs0xSqOh8OA/dIYrhtyU\n",
       "CEiM1Wiyab7R4vYyUatuqJ6JZSDBsuMamFUwLKT+3Sr/rPbPmjCuCR//i6Nf6PwJl+gK1foyedFU\n",
       "sL15G/gkZ5weUW6j6GokC4m4wp69+8DUaygnPCC+yZiUFNv/hHBTxSQoVkFKvHUpseaYVmwSGR5R\n",
       "FIm7CbgVY5k64JrhKwfTFyFAL7+6G9Rf+KqCWblRmUwR9Mk3lD2KgFuUacb4j/EGt6Q879v0GRGG\n",
       "FNIXC3tAXMLbDEGbkTuBFJOL80dU2t3YyqaiWp/GJVCF6uskny1nZ9O3karFthrDjT+QzxwPOdGZ\n",
       "szZzH9vg9oPsX+qit79JJd1h22LHXKCunALrBsKhPVlmhvy+HO26c+sLMtAZa1hrKwKk3+pMTZ6C\n",
       "b+S9JqptwKwOmu7WcTxkV5cvX5+TzPFRKrllzwfVHg3CzMYt2rHwX3ZKBkymuUK3mXSkfn3F0wiu\n",
       "52Mvn51Q+D+5C6fyFw5tWhp+5MWnH8H2u6ZCSKi9CCgzRsyv5Tp9ZeqTnEgB96dXw07sJ2s3VmLV\n",
       "mX0ZovJMrv1aqE2wfvsOssJ6+ah578GDa9PdlE/dYwqc/QqXxgiyekWmBlKZehuyGheMd3z4GU9I\n",
       "dfbvYrSIwGbETySrna926y1uKweBqLQTAL4y1zoCCjSEgumECnVB0IAw5trqHN8ozqi48wyUCz7l\n",
       "ZwhBlEJMowTME+EK/Axx0059IJ+XR03+QCjdYiSIzDUpKhOHw+djJOyE93E0IBJdsgc9xxrCy2db\n",
       "ugSOQH5uxpY4vqCjs95wFsEJrdsiIg+Qd6LMpxFAHbPsjjVp8EkUjwHghvSDbIGYhv8riVOQa94n\n",
       "gb5gv3r2Fvb7At/BWIuFfl9RpoMaTPJbBG2/RK4ll+HyFzHLw/G0abzsg9TbCKOAcA5BPtz29XQY\n",
       "TTpJnbcfu+VnAuliPWO+36RqX01/qcJcyMBgTiGVxZ/+T2l9e7LERmMqXZAlgAFNkxoT0meBKjHd\n",
       "4cy/HfIUqxnhRPoZEdMO4dvzZC55mHqHYAOkbHgux9SpATOYipJk89Z7DZFA16hUuEGvEn1707Hc\n",
       "BezOThFG2J9DqEJBbZiZrq3iHWmAQ35GAt4B9oiP0ccaLYhc+R/gUyri2Ssb0GJxvYsvQUGfrH0B\n",
       "ok6Oqy2t9Pqtti36+GevO6+IvMOMzgHEVlHgT1Sv4BQaaz1HwYDAACMhxQAAAlsBnoRqQ38ADilG\n",
       "n/wcAEP1gprfiSy1pSnO0WjhRlcDiJpebKNwh6m2uX3ENMi+2CXOHTDipbYFfroKIpM0LwXP4MvJ\n",
       "62g3iP66k76XqA+W7vMqBnjXHMDUStazT4skpO1utqTmQe9PZxj8xwsBRq10689RAKSSIN87lmmg\n",
       "rTbEsQOsZyn+tzl5Y3M23rb3if9IVFhVk6ax97TQ4bckIHHGBZFuhAoa9cdgB6M+LuDM166mZX4E\n",
       "/V0yq4VMsZzt4YFyVxP5pr9SCNLNopFrJ70LpjTBPd4qB2wdfoDdMHvNEEToPbv0JqgUx9D16/i3\n",
       "BOi5LZmI7XLK+1b+KL66wrQscZ8TQVf7mvM2/ObyCnRIWbR8D+UJfflu2LHbkiOAlHqFirGaWdad\n",
       "zPk4QaWFSWiFqkE9bt5NTFtRsYl4bXG0YcGQ+PK2SkVFertM9YkIBu+nIe+pWqC9tjXj2eZKijMj\n",
       "edDV+sGWnjTx+bTLSpiJPc3AtKEV52rxj9ic2VBoeeXOpSt/MxTOR/YL4zksh/00kWxOuWNA9rbB\n",
       "1q8AtT/DzpACtBxvAH+0K4b5N79A9AxJw7AdUOp5lkVxwytibKmMdTdqsr2eQ9ak3h9g/WiE3qEQ\n",
       "uXv0KpMINI1ci3Fyq+i5Y8IOJNejBUdIJ5v7Ht0NMgqRRE6MnRWiU5zO5sylz76swrj1LfQ0wkSr\n",
       "9GHme7fR/9KTqotdiLosPXfa+7bq4ZE+USoKCFgGE+xi89CONTdYnRJ3UFVkTLG58ns+eDVMlKAk\n",
       "z5/RbeHRaWIMVrgv44ku88qUAAAywUEAAAOgQZqGSahBaJlMCCH//qpVAAUtpJ5iQBCaAuzhi4pV\n",
       "AzUA2GbJq+8XOuyYEnAT1UW9ZK3XfZuaNkjsNa1Dl+HILq/dff1AGeuOwMTieBHpHz26Gsh0DFaW\n",
       "4vqYKgBMpFojlJFcbqOOMP9VJVNLK5jjunHC9Piq3hx3Kt6rBX4lhZzXR5P2LSjtpgtEWdtwe809\n",
       "vMhG5bJmvzYNQHOGikbC71FVTGvbxJG+pex7GoY2d/e4b0O1KZeq38E/FRhnPww1dfQE6SOCxLOd\n",
       "zapcOpCty9+CQn2YvcnTauj8t84mIxMFJt9RNj64dAeXE/He8qncxxXhigNNcugnheL+qpcuBeQg\n",
       "zokwWk912UltuqJPucdPE4zXgBgqP5VBMkQ7P7R/S0qpBg0lxhYFIgDwtr7W+rIZeBkvnQFO1rpY\n",
       "f5fRkuIriet9nECmim2Ay3/Mhq7rrVuiQnyPE0b6wBZFp2ZAzxON0/+T1wkXgYbHoyTPNfEYqC1Q\n",
       "niHOWPOYduNl5Pit/GP5K3eYXVdYomPG1RlQMB+oJ8K7QiTjELBo/ZI4ci8wzowDgjNswLGdat8G\n",
       "dbd0mM2GqujnqYaN0hLzueSBgM4EbZf7GpkdK7Jbg6jDrOm70M/cRFM2sIF49lPIZrvAWqgNyUXA\n",
       "FCAXCYXDvIkfTXQ++x2V4tJf2F8bBSR5E/Lk+eFwkNFChvF6HDYoqApYTHyePg/5VpSOIk1GMdaM\n",
       "kK5Vau3sV/Fy5PA4SGqCwnlinKNawc+/VqUP8yIUzB/xwdPPGW6Rs94Fg+sjmmF/xu9Fml7aU6K/\n",
       "nXCnAZzMEDNdxqQ1F+3GITY2+hxQYZnLmDjF5hOXvqsy7dVb6JuSOHYOLV9EhrwFo+nidY8WwfI7\n",
       "fhAvKDGs26rBBpNHW3OPzeMjeGKigI7bsslK2Wnidu0QyKDID2K7lJEuOVHTAiDBn/Ea2pQOZKpJ\n",
       "0yml4ElbDIpl8uYqBDmhxb6NJUuViAYR00s0OwkH9NJn4Ule4UXyueRq+BveLxAvV0YtQHwdJiNR\n",
       "13c5nBjrBYGYTFZktDjho0AEqUBN4qpQ65dy7dXEaAlWqfXi50oMzhFdDJ90mRMTwj3L7Ut/w9v8\n",
       "VuWgcD2SS3m3o6cMkUrbc0LJEcq4Ypuwe6glG//s1M2+LutrYkokHGJxmeeJWLYtA4oLxojp69C2\n",
       "DW7ZZ5TTprcx9mkl4qbESDqg2NXyDfF+sUpXrVZPMkeAFH//xQz9dgA+YQAAA5hBmqhJ4QpSZTBR\n",
       "EsEP/qpVAAUnDmkUxIwADbRS7Y3eHbQ8+CtVMNsQYBHRtvgJv6J7vWFtwLiSpWG4Hk/djPST6R0p\n",
       "/UoZIEztsxYxhcMPCD7QH85yCBaiJixmaHh62tMkxzkXFkFkxrUE7g6/TWpCnCGLpM80CiwBKMgc\n",
       "UFU2wAnfKK02/xhiZCuG8xnjfoGTjIl51MuD4QW9y9eiF7qItY019yp8Js2+EO1oegkMMfP4LrmX\n",
       "8QM8cVFY6/icxcUag94t+seVQYPYEwMcnbhdoWxfWm/wcnWrnE0FhUw+eFEtEVHs/+zFvIF1sxpu\n",
       "kYAtQL9lLPjL04WXw+HX7qw134HywjFn0YmhLY3pBm+VleZYMcO1hY9r0e5meuVrANM9w73aVAKy\n",
       "vMPmI1AvWhQ9KbrA3eCPWjGPpu8S+hOFoDZ35SIH+WBwvpGzKAM/ky7givQvE8LSn+Y7xaEJqb6p\n",
       "eu9wtn2BOIYjsP4L4xi5uu8+MP1NPP5EXDQbZosaJFL2arIJx9JWpsRBlHI88XPlhochPHcxTzOc\n",
       "J29AacOvnL0CqLWQIi98yPXS9CRJS6QFIPzhQJB7YMipAo+9GPh5lf570DdInA+0Ri7A+GxCZOeW\n",
       "0JmNaEtBNrwqljsebOofDdfxLQvD3JiJQt+c4tS1FdNwZQNFucbPCVABxeGB9cjNEkAMuvlNahTG\n",
       "0VBGoIorbmjbeff+qwI6nf9+T9RnOEf4Q6Mib0/PUJNk5U+Jk73lk3aiDRmF53caEWu0XbTyC4tO\n",
       "gAnRsJxF8BRszyH1hP/Zf4U8HncBgjjHSuFH/5eHOt4jHl70CSt+KlRTA3Ry2aOGP9z4ZZwHLdpZ\n",
       "TbZrtoGFT40yo6OPO+enPSF5sCMSBRJ2O1B9A6hNHoUyKswB2qK1Y9PlZhGuAe6h8FW5ICDt1ohH\n",
       "gm/YqgZqD7xD54i2y8eXBqXktUS0zg3UU4XhvIOnelb/hPnMrB1Uon4SCcIuAg3ImW5qO7NwmfI4\n",
       "8wbhke6ME52sYNboHK5o1rkgcZ0/MFl36J8kfer+XX1eJ9jseWo9ur/+Od1wLkReP5weboBTQ0+6\n",
       "DZSx2WD4Iodt4KtFRB8KR63Ea/IViT92BAiL8H4RRjtMHN16gDmFwmARR8nUdsM/OXMBV44OaO8z\n",
       "Zmr3J2ASsvvdxMT/7tKxDAIuUGCxxnWzC9+l68lu9bsXrE+A2Ylpuz4/wJMvMifrTzq4sABJwQAA\n",
       "APABnsdqQ38ADtqV6h4TAAAIg9tEZeOCHWCrU92sF8Id6iI8jC2OSO+x7dNY6vZjjd86RM6TjISI\n",
       "0uSYK8W8blDC2rq5p1eyF15hSRgFJexsTIXOfTT6hBONBClDaBAk9q3wPS+oZdQzjX6Ue96lVQim\n",
       "M9T71Jv616T2wUUWvabsJ67QwSkA5X++riyIgsvMg+mFYDwwT7VO1+85+37z3mhIgmq8q34DLmcD\n",
       "7AHcz5JeZyH7CeMf8S02hm1l5/jaaPAu8rdbaoSw4r/anKSI9Aa51quwnloxYvnh6YqKWbj2N4Bo\n",
       "w58UZa0knXTLtQAAH3AAAAG+QZrJSeEOiZTAgj/+tSqAArv0GO1FHIAW0K4waY7tN+gV6VpaAEDH\n",
       "wIM/VcuTaVnvkBKYYfiudqb7XvcOnURLCx9cVpfBbChmmjsD+sZ7/YCe7hgGr/yckoInMoqUiG5F\n",
       "bLY0sKuJ8oyLOCVMpJ4v9Qa5tTxJduy3p3kNXiFIeQMk2RdgVxcpvZHidW3mCflhpYW6V3aepReD\n",
       "BBS/HfNx4HjoBEvbj6lX7j58vjN6nzyc1ZGhyCQsyq/rY6MSoLhhKTosHze4PuaFa4TkJitefoWr\n",
       "KyNYy04DqrJLnT3RH4i7p+kcAncJ/So/DvEge76jAiuNoZ9gClKny87/0Li6Z5BQjO1z1C/XbI+t\n",
       "/xt5pf4ziNxxM/+wNeRjR83YPpdB14D21beUAMijCCmydpm11Yl39dBitYTkbAer28PA+mD6+Df0\n",
       "OxFVyUG6uX20CkrezmYZDsanb304nK2RIphsY7UqJ/m8lC8RLSqwM3oi8b3RJ7mSV4vidt9tu/h6\n",
       "RI0olc9nxHbuV5qfKFyy38GfvJVuu7+ETgoSpAuZx74QpxILvkWPRnlaU50V8P6Ab/4V0q9KPnVK\n",
       "4vf4moAAKaAAAAFAQZrtSeEPJlMCCH/+qlUABMEQ4AAODCAMie1lC4OLmy/DZQFNw+R6sCVsmHVd\n",
       "SlTYnqX+v7dhtE39Mho8jCjvD6DQRqh347BZnCSu1XGbO/9pdKnzlSvdqrFHZTZ+BA3rubaaOdLS\n",
       "pceT9K5RIB8X9lekdD6Coett3ClmRfWIYoq04TsLPHsFvM7R/LqdpGIlMUH4d5YYFB9OxyHMNRhH\n",
       "CRzF4T4553XKBdUMC2oWfWUxhpsxIp1pHKJMzdMCUO6CEblxfHHjxUwAwrBcMDuLEM4CtjOq3p/h\n",
       "Xau/VcyNJE2biNP+kCU7TX4ZTpk8YMXizIglZqCR1GdI34uW+QLhyVsphDWa8EkiDXztKSI2ZZyg\n",
       "XNCAHWecfFqVz8QCoATPLqVNp2DCruzpL0bC5I6RINIrBk72TVNmQXw+q/OAAh8AAAAsQZ8LRRE8\n",
       "O/8ABT8YGevK3n3OLzrfqDTiw22M+KBCwI/xS8yQAAXEAnignsUAAAAgAZ8qdEN/AAdrUE56EOp1\n",
       "P/hrQ9SS+vAMQmAAJIBWC/QAAAAbAZ8sakN/AAdsogxa3FhvN+9Z1aEBCGMPZKyBAAAAY0GbMUmo\n",
       "QWiZTAh///6plgAUEuokifnjACZ6Bad5u3KEVPwe9atYgzGPmKNMGR9CRdxcIgbzxhyLiDOOpBlv\n",
       "sRt1KcD6Z6u4GYWGUzHUPlsyBZn9YxcPg8+ATNvxeM88eABJwQAAACFBn09FESw7/wAKmrAg4KqT\n",
       "rIDH5KHN/VSAAAKoeLz4bMEAAAAXAZ9udEN/AAdrTwxWV4ZPVMBlXXYA7fgAAAAcAZ9wakN/AA7Z\n",
       "RFOtwhIA/adFG1O4AAP05RssWAAAADVBm3NJqEFsmUwUTDf//qeEAAVAFEOvGnY9AAhI0BNR8EwP\n",
       "5R0jSESLS9PR3GJQNnZ5qAAScQAAAB0Bn5JqQ38ADtqVYPU18Qx7HS4hFrk1xAI40QhBIQAABBdt\n",
       "b292AAAAbG12aGQAAAAAAAAAAAAAAAAAAAPoAAAH0AABAAABAAAAAAAAAAAAAAAAAQAAAAAAAAAA\n",
       "AAAAAAAAAAEAAAAAAAAAAAAAAAAAAEAAAAAAAAAAAAAAAAAAAAAAAAAAAAAAAAAAAAAAAAACAAAD\n",
       "QXRyYWsAAABcdGtoZAAAAAMAAAAAAAAAAAAAAAEAAAAAAAAH0AAAAAAAAAAAAAAAAAAAAAAAAQAA\n",
       "AAAAAAAAAAAAAAAAAAEAAAAAAAAAAAAAAAAAAEAAAAAB9AAAAZAAAAAAACRlZHRzAAAAHGVsc3QA\n",
       "AAAAAAAAAQAAB9AAAAgAAAEAAAAAArltZGlhAAAAIG1kaGQAAAAAAAAAAAAAAAAAACgAAABQAFXE\n",
       "AAAAAAAtaGRscgAAAAAAAAAAdmlkZQAAAAAAAAAAAAAAAFZpZGVvSGFuZGxlcgAAAAJkbWluZgAA\n",
       "ABR2bWhkAAAAAQAAAAAAAAAAAAAAJGRpbmYAAAAcZHJlZgAAAAAAAAABAAAADHVybCAAAAABAAAC\n",
       "JHN0YmwAAAC0c3RzZAAAAAAAAAABAAAApGF2YzEAAAAAAAAAAQAAAAAAAAAAAAAAAAAAAAAB9AGQ\n",
       "AEgAAABIAAAAAAAAAAEAAAAAAAAAAAAAAAAAAAAAAAAAAAAAAAAAAAAAAAAAAAAY//8AAAAyYXZj\n",
       "QwFkABb/4QAZZ2QAFqzZQIAz5+EAAAMAAQAAAwAUDxYtlgEABmjr48siwAAAABx1dWlka2hA8l8k\n",
       "T8W6OaUbzwMj8wAAAAAAAAAYc3R0cwAAAAAAAAABAAAAFAAABAAAAAAUc3RzcwAAAAAAAAABAAAA\n",
       "AQAAAKhjdHRzAAAAAAAAABMAAAACAAAIAAAAAAEAABQAAAAAAQAACAAAAAABAAAAAAAAAAEAAAQA\n",
       "AAAAAQAACAAAAAABAAAMAAAAAAEAAAQAAAAAAQAACAAAAAABAAAUAAAAAAEAAAgAAAAAAQAAAAAA\n",
       "AAABAAAEAAAAAAEAABQAAAAAAQAACAAAAAABAAAAAAAAAAEAAAQAAAAAAQAADAAAAAABAAAEAAAA\n",
       "ABxzdHNjAAAAAAAAAAEAAAABAAAAFAAAAAEAAABkc3RzegAAAAAAAAAAAAAAFAAAHC0AAAUZAAAF\n",
       "1QAABEIAAARIAAACXwAAA6QAAAOcAAAA9AAAAcIAAAFEAAAAMAAAACQAAAAfAAAAZwAAACUAAAAb\n",
       "AAAAIAAAADkAAAAhAAAAFHN0Y28AAAAAAAAAAQAAACwAAABidWR0YQAAAFptZXRhAAAAAAAAACFo\n",
       "ZGxyAAAAAAAAAABtZGlyYXBwbAAAAAAAAAAAAAAAAC1pbHN0AAAAJal0b28AAAAdZGF0YQAAAAEA\n",
       "AAAATGF2ZjU3LjgzLjEwMA==\n",
       "\">\n",
       "  Your browser does not support the video tag.\n",
       "</video>"
      ],
      "text/plain": [
       "<matplotlib.animation.FuncAnimation at 0x25d90d9fdd8>"
      ]
     },
     "execution_count": 21,
     "metadata": {},
     "output_type": "execute_result"
    }
   ],
   "source": [
    "fig = plt.figure(dpi=100, figsize=(5, 4))\n",
    "plt.scatter(x,y)\n",
    "line, = plt.plot(x,lin(a_guess,b_guess,x))\n",
    "plt.close()\n",
    "\n",
    "def animate(i):\n",
    "    line.set_ydata(lin(a_guess,b_guess,x))\n",
    "    for i in range(30): upd()\n",
    "    return line,\n",
    "\n",
    "ani = animation.FuncAnimation(fig, animate, np.arange(0, 20), interval=100)\n",
    "ani"
   ]
  },
  {
   "cell_type": "code",
   "execution_count": null,
   "metadata": {},
   "outputs": [],
   "source": []
  }
 ],
 "metadata": {
  "kernelspec": {
   "display_name": "Python 3",
   "language": "python",
   "name": "python3"
  },
  "language_info": {
   "codemirror_mode": {
    "name": "ipython",
    "version": 3
   },
   "file_extension": ".py",
   "mimetype": "text/x-python",
   "name": "python",
   "nbconvert_exporter": "python",
   "pygments_lexer": "ipython3",
   "version": "3.6.3"
  },
  "nav_menu": {},
  "toc": {
   "colors": {
    "hover_highlight": "#DAA520",
    "navigate_num": "#000000",
    "navigate_text": "#333333",
    "running_highlight": "#FF0000",
    "selected_highlight": "#FFD700",
    "sidebar_border": "#EEEEEE",
    "wrapper_background": "#FFFFFF"
   },
   "moveMenuLeft": true,
   "nav_menu": {
    "height": "116px",
    "width": "251px"
   },
   "navigate_menu": true,
   "number_sections": true,
   "sideBar": true,
   "threshold": 4,
   "toc_cell": true,
   "toc_section_display": "block",
   "toc_window_display": false,
   "widenNotebook": false
  },
  "widgets": {
   "state": {},
   "version": "1.1.2"
  }
 },
 "nbformat": 4,
 "nbformat_minor": 1
}
