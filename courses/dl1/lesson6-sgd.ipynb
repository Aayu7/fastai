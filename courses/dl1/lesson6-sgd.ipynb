{
 "cells": [
  {
   "cell_type": "markdown",
   "metadata": {
    "toc": "true"
   },
   "source": [
    "# Table of Contents\n",
    " <p><div class=\"lev1 toc-item\"><a href=\"#Linear-Regression-problem\" data-toc-modified-id=\"Linear-Regression-problem-1\"><span class=\"toc-item-num\">1&nbsp;&nbsp;</span>Linear Regression problem</a></div><div class=\"lev1 toc-item\"><a href=\"#Gradient-Descent\" data-toc-modified-id=\"Gradient-Descent-2\"><span class=\"toc-item-num\">2&nbsp;&nbsp;</span>Gradient Descent</a></div><div class=\"lev1 toc-item\"><a href=\"#Gradient-Descent---Classification\" data-toc-modified-id=\"Gradient-Descent---Classification-3\"><span class=\"toc-item-num\">3&nbsp;&nbsp;</span>Gradient Descent - Classification</a></div><div class=\"lev1 toc-item\"><a href=\"#Gradient-descent-with-numpy\" data-toc-modified-id=\"Gradient-descent-with-numpy-4\"><span class=\"toc-item-num\">4&nbsp;&nbsp;</span>Gradient descent with numpy</a></div>"
   ]
  },
  {
   "cell_type": "code",
   "execution_count": 1,
   "metadata": {},
   "outputs": [],
   "source": [
    "%matplotlib inline\n",
    "from fastai.learner import *"
   ]
  },
  {
   "cell_type": "markdown",
   "metadata": {},
   "source": [
    "In this part of the lecture we explain Stochastic Gradient Descent (SGD) which is an **optimization** method commonly used in neural networks. We will illustrate the concepts with concrete examples."
   ]
  },
  {
   "cell_type": "markdown",
   "metadata": {},
   "source": [
    "#  Linear Regression problem"
   ]
  },
  {
   "cell_type": "markdown",
   "metadata": {},
   "source": [
    "The goal of linear regression is to fit a line to a set of points."
   ]
  },
  {
   "cell_type": "code",
   "execution_count": 2,
   "metadata": {},
   "outputs": [],
   "source": [
    "# Here we generate some fake data\n",
    "def lin(a,b,x): return a*x+b\n",
    "\n",
    "def gen_fake_data(n, a, b):\n",
    "    x = s = np.random.uniform(0,1,n) \n",
    "    y = lin(a,b,x) + 0.1 * np.random.normal(0,3,n)\n",
    "    return x, y\n",
    "\n",
    "x, y = gen_fake_data(50, 3., 8.)"
   ]
  },
  {
   "cell_type": "code",
   "execution_count": 3,
   "metadata": {},
   "outputs": [
    {
     "data": {
      "image/png": "[encoded data removed]",
      "text/plain": [
       "<Figure size 432x288 with 1 Axes>"
      ]
     },
     "metadata": {},
     "output_type": "display_data"
    }
   ],
   "source": [
    "plt.scatter(x,y, s=8); plt.xlabel(\"x\"); plt.ylabel(\"y\"); "
   ]
  },
  {
   "cell_type": "markdown",
   "metadata": {},
   "source": [
    "You want to find **parameters** (weights) $a$ and $b$ such that you minimize the *error* between the points and the line $a\\cdot x + b$. Note that here $a$ and $b$ are unknown. For a regression problem the most common *error function* or *loss function* is the **mean squared error**. "
   ]
  },
  {
   "cell_type": "code",
   "execution_count": 4,
   "metadata": {},
   "outputs": [],
   "source": [
    "def mse(y_hat, y): return ((y_hat - y) ** 2).mean()"
   ]
  },
  {
   "cell_type": "markdown",
   "metadata": {},
   "source": [
    "Suppose we believe $a = 10$ and $b = 5$ then we can compute `y_hat` which is our *prediction* and then compute our error."
   ]
  },
  {
   "cell_type": "code",
   "execution_count": 5,
   "metadata": {},
   "outputs": [
    {
     "data": {
      "text/plain": [
       "4.842090925447088"
      ]
     },
     "execution_count": 5,
     "metadata": {},
     "output_type": "execute_result"
    }
   ],
   "source": [
    "y_hat = lin(10,5,x)\n",
    "mse(y_hat, y)"
   ]
  },
  {
   "cell_type": "code",
   "execution_count": 6,
   "metadata": {},
   "outputs": [],
   "source": [
    "def mse_loss(a, b, x, y): return mse(lin(a,b,x), y)"
   ]
  },
  {
   "cell_type": "code",
   "execution_count": 7,
   "metadata": {},
   "outputs": [
    {
     "data": {
      "text/plain": [
       "4.842090925447088"
      ]
     },
     "execution_count": 7,
     "metadata": {},
     "output_type": "execute_result"
    }
   ],
   "source": [
    "mse_loss(10, 5, x, y)"
   ]
  },
  {
   "cell_type": "markdown",
   "metadata": {},
   "source": [
    "So far we have specified the *model* (linear regression) and the *evaluation criteria* (or *loss function*). Now we need to handle *optimization*; that is, how do we find the best values for $a$ and $b$? How do we find the best *fitting* linear regression."
   ]
  },
  {
   "cell_type": "markdown",
   "metadata": {
    "heading_collapsed": true
   },
   "source": [
    "# Gradient Descent"
   ]
  },
  {
   "cell_type": "markdown",
   "metadata": {
    "hidden": true
   },
   "source": [
    "For a fixed dataset $x$ and $y$ `mse_loss(a,b)` is a function of $a$ and $b$. We would like to find the values of $a$ and $b$ that minimize that function.\n",
    "\n",
    "**Gradient descent** is an algorithm that minimizes functions. Given a function defined by a set of parameters, gradient descent starts with an initial set of parameter values and iteratively moves toward a set of parameter values that minimize the function. This iterative minimization is achieved by taking steps in the negative direction of the function gradient.\n",
    "\n",
    "Here is gradient descent implemented in [PyTorch](http://pytorch.org/)."
   ]
  },
  {
   "cell_type": "code",
   "execution_count": 8,
   "metadata": {
    "hidden": true
   },
   "outputs": [
    {
     "data": {
      "text/plain": [
       "((10000,), (10000,))"
      ]
     },
     "execution_count": 8,
     "metadata": {},
     "output_type": "execute_result"
    }
   ],
   "source": [
    "# generate some more data\n",
    "x, y = gen_fake_data(10000, 3., 8.)\n",
    "x.shape, y.shape"
   ]
  },
  {
   "cell_type": "code",
   "execution_count": 9,
   "metadata": {
    "hidden": true
   },
   "outputs": [],
   "source": [
    "x,y = V(x),V(y)"
   ]
  },
  {
   "cell_type": "code",
   "execution_count": 10,
   "metadata": {
    "hidden": true
   },
   "outputs": [
    {
     "data": {
      "text/plain": [
       "(Variable containing:\n",
       "  0.1822\n",
       " [torch.cuda.FloatTensor of size 1 (GPU 0)], Variable containing:\n",
       "  0.3987\n",
       " [torch.cuda.FloatTensor of size 1 (GPU 0)])"
      ]
     },
     "execution_count": 10,
     "metadata": {},
     "output_type": "execute_result"
    }
   ],
   "source": [
    "# Create random weights a and b, and wrap them in Variables.\n",
    "a = V(np.random.randn(1), requires_grad=True)\n",
    "b = V(np.random.randn(1), requires_grad=True)\n",
    "a,b"
   ]
  },
  {
   "cell_type": "code",
   "execution_count": 11,
   "metadata": {
    "hidden": true
   },
   "outputs": [
    {
     "name": "stdout",
     "output_type": "stream",
     "text": [
      "81.85150909423828\n",
      "0.6641168594360352\n",
      "0.14232024550437927\n",
      "0.1283807009458542\n",
      "0.12010374665260315\n",
      "0.11376982182264328\n",
      "0.10891081392765045\n",
      "0.10518334060907364\n",
      "0.10232385247945786\n",
      "0.1001303493976593\n"
     ]
    }
   ],
   "source": [
    "learning_rate = 1e-3\n",
    "for t in range(10000):\n",
    "    # Forward pass: compute predicted y using operations on Variables\n",
    "    loss = mse_loss(a,b,x,y)\n",
    "    if t % 1000 == 0: print(loss.data[0])\n",
    "    \n",
    "    # Computes the gradient of loss with respect to all Variables with requires_grad=True.\n",
    "    # After this call a.grad and b.grad will be Variables holding the gradient\n",
    "    # of the loss with respect to a and b respectively\n",
    "    loss.backward()\n",
    "    \n",
    "    # Update a and b using gradient descent; a.data and b.data are Tensors,\n",
    "    # a.grad and b.grad are Variables and a.grad.data and b.grad.data are Tensors\n",
    "    a.data -= learning_rate * a.grad.data\n",
    "    b.data -= learning_rate * b.grad.data\n",
    "    \n",
    "    # Zero the gradients\n",
    "    a.grad.data.zero_()\n",
    "    b.grad.data.zero_()    "
   ]
  },
  {
   "cell_type": "markdown",
   "metadata": {
    "hidden": true
   },
   "source": [
    "Nearly all of deep learning is powered by one very important algorithm: **stochastic gradient descent (SGD)**. SGD can be seeing as an approximation of **gradient descent** (GD). In GD you have to run through *all* the samples in your training set to do a single itaration. In SGD you use *only one* or *a subset*  of training samples to do the update for a parameter in a particular iteration. The subset use in every iteration is called a **batch** or **minibatch**."
   ]
  },
  {
   "cell_type": "markdown",
   "metadata": {
    "heading_collapsed": true
   },
   "source": [
    "# Gradient Descent - Classification"
   ]
  },
  {
   "cell_type": "markdown",
   "metadata": {
    "hidden": true
   },
   "source": [
    "For a fixed dataset $x$ and $y$ `mse_loss(a,b)` is a function of $a$ and $b$. We would like to find the values of $a$ and $b$ that minimize that function.\n",
    "\n",
    "**Gradient descent** is an algorithm that minimizes functions. Given a function defined by a set of parameters, gradient descent starts with an initial set of parameter values and iteratively moves toward a set of parameter values that minimize the function. This iterative minimization is achieved by taking steps in the negative direction of the function gradient.\n",
    "\n",
    "Here is gradient descent implemented in [PyTorch](http://pytorch.org/)."
   ]
  },
  {
   "cell_type": "code",
   "execution_count": 12,
   "metadata": {
    "hidden": true
   },
   "outputs": [],
   "source": [
    "def gen_fake_data2(n, a, b):\n",
    "    x = np.random.uniform(0,1,n) \n",
    "    y = lin(a,b,x) + 0.1 * np.random.normal(0,3,n)\n",
    "    return x, np.where(y>10, 1., 0.)"
   ]
  },
  {
   "cell_type": "code",
   "execution_count": 13,
   "metadata": {
    "hidden": true
   },
   "outputs": [],
   "source": [
    "x,y = gen_fake_data2(10000, 3., 8.)\n",
    "x,y = V(x),V(y)"
   ]
  },
  {
   "cell_type": "code",
   "execution_count": 14,
   "metadata": {
    "hidden": true
   },
   "outputs": [],
   "source": [
    "def nll(y_hat, y):\n",
    "    y_hat = torch.clamp(y_hat, 1e-5, 1-1e-5)\n",
    "    return (y*y_hat.log() + (1.-y)*(1.-y_hat).log()).mean()"
   ]
  },
  {
   "cell_type": "code",
   "execution_count": 15,
   "metadata": {
    "hidden": true
   },
   "outputs": [],
   "source": [
    "a = V(np.random.randn(1), requires_grad=True)\n",
    "b = V(np.random.randn(1), requires_grad=True)"
   ]
  },
  {
   "cell_type": "code",
   "execution_count": 16,
   "metadata": {
    "hidden": true
   },
   "outputs": [
    {
     "name": "stdout",
     "output_type": "stream",
     "text": [
      "0.21786124000293539 0.3435\n",
      "0.002203564243036162 0.3435\n",
      "0.0005242383704432571 0.3435\n"
     ]
    }
   ],
   "source": [
    "learning_rate = 1e-2\n",
    "for t in range(3000):\n",
    "    p = (-lin(a,b,x)).exp()\n",
    "    y_hat = 1./(1.+p)    \n",
    "    loss = nll(y_hat, y)\n",
    "    if t % 1000 == 0:\n",
    "        print(np.exp(loss.data[0]), np.mean(to_np(y)==(to_np(y_hat)>0.5)))\n",
    "#         print(y_hat)\n",
    "    \n",
    "    loss.backward()\n",
    "    a.data -= learning_rate * a.grad.data\n",
    "    b.data -= learning_rate * b.grad.data\n",
    "    a.grad.data.zero_()\n",
    "    b.grad.data.zero_()    "
   ]
  },
  {
   "cell_type": "markdown",
   "metadata": {
    "hidden": true
   },
   "source": [
    "Nearly all of deep learning is powered by one very important algorithm: **stochastic gradient descent (SGD)**. SGD can be seeing as an approximation of **gradient descent** (GD). In GD you have to run through *all* the samples in your training set to do a single itaration. In SGD you use *only one* or *a subset*  of training samples to do the update for a parameter in a particular iteration. The subset use in every iteration is called a **batch** or **minibatch**."
   ]
  },
  {
   "cell_type": "markdown",
   "metadata": {},
   "source": [
    "# Gradient descent with numpy"
   ]
  },
  {
   "cell_type": "code",
   "execution_count": 17,
   "metadata": {},
   "outputs": [],
   "source": [
    "from matplotlib import rcParams, animation, rc\n",
    "from ipywidgets import interact, interactive, fixed\n",
    "from ipywidgets.widgets import *\n",
    "rc('animation', html='html5')\n",
    "rcParams['figure.figsize'] = 3, 3"
   ]
  },
  {
   "cell_type": "code",
   "execution_count": 18,
   "metadata": {},
   "outputs": [],
   "source": [
    "x, y = gen_fake_data(50, 3., 8.)"
   ]
  },
  {
   "cell_type": "code",
   "execution_count": 19,
   "metadata": {},
   "outputs": [
    {
     "data": {
      "text/plain": [
       "65.28488539076338"
      ]
     },
     "execution_count": 19,
     "metadata": {},
     "output_type": "execute_result"
    }
   ],
   "source": [
    "a_guess,b_guess = -1., 1.\n",
    "mse_loss(y, a_guess, b_guess, x)"
   ]
  },
  {
   "cell_type": "code",
   "execution_count": 20,
   "metadata": {},
   "outputs": [],
   "source": [
    "lr=0.01\n",
    "def upd():\n",
    "    global a_guess, b_guess\n",
    "    y_pred = lin(a_guess, b_guess, x)\n",
    "    dydb = 2 * (y_pred - y)\n",
    "    dyda = x*dydb\n",
    "    a_guess -= lr*dyda.mean()\n",
    "    b_guess -= lr*dydb.mean()"
   ]
  },
  {
   "cell_type": "code",
   "execution_count": 21,
   "metadata": {},
   "outputs": [
    {
     "data": {
      "text/html": [
       "<video width=\"500\" height=\"400\" controls autoplay loop>\n",
       "  <source type=\"video/mp4\" src=\"data:video/mp4;base64,AAAAHGZ0eXBNNFYgAAACAGlzb21pc28yYXZjMQAAAAhmcmVlAAA83G1kYXQAAAKvBgX//6vcRem9\n",
       "5tlIt5Ys2CDZI+7veDI2NCAtIGNvcmUgMTUyIHIyODUxIGJhMjQ4OTkgLSBILjI2NC9NUEVHLTQg\n",
       "QVZDIGNvZGVjIC0gQ29weWxlZnQgMjAwMy0yMDE3IC0gaHR0cDovL3d3dy52aWRlb2xhbi5vcmcv\n",
       "eDI2NC5odG1sIC0gb3B0aW9uczogY2FiYWM9MSByZWY9MyBkZWJsb2NrPTE6MDowIGFuYWx5c2U9\n",
       "MHgzOjB4MTEzIG1lPWhleCBzdWJtZT03IHBzeT0xIHBzeV9yZD0xLjAwOjAuMDAgbWl4ZWRfcmVm\n",
       "PTEgbWVfcmFuZ2U9MTYgY2hyb21hX21lPTEgdHJlbGxpcz0xIDh4OGRjdD0xIGNxbT0wIGRlYWR6\n",
       "b25lPTIxLDExIGZhc3RfcHNraXA9MSBjaHJvbWFfcXBfb2Zmc2V0PS0yIHRocmVhZHM9MTIgbG9v\n",
       "a2FoZWFkX3RocmVhZHM9MiBzbGljZWRfdGhyZWFkcz0wIG5yPTAgZGVjaW1hdGU9MSBpbnRlcmxh\n",
       "Y2VkPTAgYmx1cmF5X2NvbXBhdD0wIGNvbnN0cmFpbmVkX2ludHJhPTAgYmZyYW1lcz0zIGJfcHly\n",
       "YW1pZD0yIGJfYWRhcHQ9MSBiX2JpYXM9MCBkaXJlY3Q9MSB3ZWlnaHRiPTEgb3Blbl9nb3A9MCB3\n",
       "ZWlnaHRwPTIga2V5aW50PTI1MCBrZXlpbnRfbWluPTEwIHNjZW5lY3V0PTQwIGludHJhX3JlZnJl\n",
       "c2g9MCByY19sb29rYWhlYWQ9NDAgcmM9Y3JmIG1idHJlZT0xIGNyZj0yMy4wIHFjb21wPTAuNjAg\n",
       "cXBtaW49MCBxcG1heD02OSBxcHN0ZXA9NCBpcF9yYXRpbz0xLjQwIGFxPTE6MS4wMACAAAAYrmWI\n",
       "hAAQ//73gb8yy18iuslx+ed9LKzPPOQ8cl2JrrjQAAADAAADAnTFsu53XQ2mHYAAAqwv/wWSuLYB\n",
       "NLykuinx4Xqj2A1HwP1Ur2xSYht5xG7EpLfR6V+a9Hh/D0gz3/095V+74kvKk1NO4wUh4W5M0Jgw\n",
       "GXlv+kY92ejAAZe4OREDyCvLWea+sNX22brUjC7jnD3eRlxtl2sDJOHZxCfl4+5gGs27xU15MY2L\n",
       "0trTuJ4H+5bqCNgmNuZ4c0cJbcz3oi9iaPofaqmAFabVWzg8bCHVgkrHAsPyQAHr12F7TQindyT6\n",
       "cR10UGVyKyRItqG6wl/O56BArZytuGn9ed1Vuc0UAksUh0qDdmgQ0TD0Zf1jezdJ2mP4z9w2S45I\n",
       "jwbvalhuT/OK4jG6qVaN/QYAhSN/csSFiuUm7ExFTAZ7xmI6qBCFGnlbGt+kvgtmmQ1VTNtCjYrv\n",
       "63TAFwRt/011FfnmetvPFIayaMQ5I7dx0ve2j48Joo8tWu6fYRDbVA9VHDZnol2VMDEyubWnDk9v\n",
       "GAAnyuAiMWRGFTCvdJ0LTE/X/vUF1xPEIVD0tUBRn+sdrCfMp7S5LTmm4IGON1yYZBGHQc6Pd2Is\n",
       "HnLEiaK7Firk7+3WEGlgm3fH/DSOuR94tpbdb1kgu14ygptQeuU387PG9/c0Bb4l7xvkEW5Kvwnk\n",
       "Gjw1mBdZqTx0aA0xNTd+G6Lc20B4e0z0Em/xwinPrxd3p8TeG9X9T5Q2LZBn2D9xSIz6PGOL3W8R\n",
       "eygM+l1bFRUWqqZyy1ctFZfWQNnRoK1f01mykDIkEd8y5l04ZDq8Mi0iTy/keMojIvgjnk8KMtBy\n",
       "pbs7+URuOFxOBZgd9bAw9m1dJRtsOowmJbAwgHOV4ZsS0YCr7psEcTm/gL/xBUxrNPYZWkc1wllh\n",
       "mIx0rWX5WFZE7zjDgcv5zAX4sDH69xaFarbWQimLZp+z4oO6cXc8JSPagIlkeW3vJyU/l1/SONJ8\n",
       "hdbS3oGANuSkLaYvM6bXFxnD/tFgM+oZR0g63Yj+Crbz5yl4PjGpX+PRK2Vz7dWVXw9qsESpRUB1\n",
       "ktiT3CnN4HGsO/NL+AdADSFNn3ZIWAZDjYi7rq8ujNwTbhXW/ii77Ts/7wwqI3MQlFpCBoT3tTjW\n",
       "5qthio3MDzjAqRTOFdw5RQk+NHDdB8NjGGlkjNYxuPDwWrmK64w2CnH6DmS3jEDFACTpolh6ysVP\n",
       "dPmlUt/HxHRrZ/t+3LUl5+qkdFvL5bC17RqstBlX+tmjLV+VFTIgIgikRq68fKU8a/gQEf5ODZcQ\n",
       "soxgfw4LhHXKCxOJyYNj4G1z0xUPhfWhDc/aOR++KZro3CvemCqvzT/G79cIaqt45Ia5XdqHVK2J\n",
       "akaH3EpSKo+UN4OMD2ED6m1vIpQfl8WtCOV+b9kmM/7+htEG5RZ8ixuzcagRmJJlra96m8wM3m0b\n",
       "r1w/zt8KQF0UWMpKk5eyIEYrvY4lNT4m9ZKuYJXHLIHDVXCqJEtxWNzMsp6V2+zaQDsPddiwvZQg\n",
       "IK5FgHgCkvi/FbkCFRCKpZvWi9nv2GZuQemyvEjajoKMU07hpefbEUCG03/kWcnzOvBfag5/8fIU\n",
       "z5Bc+gGenu1g2riFmWjGHhgPlKni1Qgi0K5SKbfi5j5j82ZhfXrc3JjJs4EROPcn0aTOdVypF8GW\n",
       "GJaBm8QwO55ZX6nnOv/7LyXrfC6GGk/3wklPCJaz0xZqKjflrG6x8veD8qU860aHOTPre5+ka/f+\n",
       "h/TIXEhSvNsMpi2sovgB87mmcYJ29WxuINLFP8g1qhscb6yzQMC/4XndBntNytqg17ebS4KI5/1V\n",
       "C/2MydWHokXNK4nY3he8082+165LMnVF+An7LBmNbx7Iy9I49u64fJg5kCQjX+RnGy9SQIW+UUdk\n",
       "bfyq0/kWZj0wf+RVaqNC5sKY5qqQWI9dTtFG7bmt8r/0Z+IGfW4A0YWdieUtiBSTikP97Sakpw+j\n",
       "eZhKvy2i3MBjlyw32iukGIP6JTivzCqoX0g06I+iXiAm1yCrv7f9wsd3MZu4BwqAHyQ4oj79ERdX\n",
       "KtYcmvkn5+pPbzl4HexCtdgaLyWt97O4w2/Xst9+LzH7nje32N2BK1EW6FcRYlEnInRHhLoXcJeh\n",
       "fR+HHDYBejquN3sXxagqoEn7ZYgqVr8ygMsCUtGgXmz0UpV1yxNYakaYGrnl4+hCGesCcmdrSwk+\n",
       "yQsBBAUSufA+WqZ2eJFF8Q3elsQ5jeXynhDwHuq1H2C95VrejWwZI3TzEqcVcFHrH4Hu+A1lOQ1n\n",
       "dYsHqryXSKpBuINm/uabxyyetlktXIVseQglWegb6ex0WBGI+H6vfPKpeAcEwBWgYeSGiSWAQ869\n",
       "JivYwI3clTKWd/hpCItUUdtR3oSYNL9Hr9m4zvoPh/Vi/YppgZ6NtxPxmUdYHIEcJCxt7ff4bJID\n",
       "LYD6weKqTjvAPH2pzzSELj9eFCM875jiRKBsSMeAZzuOFXnZKjtgdIK4ACUaPwGXkgLVNhw2jfg+\n",
       "z6Ubc/bGBRoVYmgm/cK3xe1TC6CEJPNatvgOtmlXgE2hsJqOd02dGMo5EMQN9DENvTtT03vlrcU2\n",
       "VUTYjFrVdyQhNKtEZnq2AcZ5PbA13/0i1JXkbF/1WtjsbEIHzEj1artmG6PVaEjmDAh/OXLT0WVt\n",
       "3hGyXIB8XcFpqh4IAzIFL1uvV8xcDG1Z6VHWFmWObl8FPKCrT3SWcwctwhMcFfPbXoxTddZkYXd/\n",
       "VnaSB96X4X8SyWW9p9UDZQ2odFfYrQd7Xny2c/nDDLwJRVSzISBIqKRbfhKiAyX43uxxOhufNb7H\n",
       "q7TQW/g0NreoqzplFHm6cD37KCL37GLGdmjno9BDvWbLEsI7ofCXkDP4OmJY2cMp5X+QUyQWJ/Eq\n",
       "LbTmTq6OVrRF0e+f+DFnGQLu7jEXAKxUJ7sEy8xZBLWAj8AFxjYSV+Y4heJMXce0rX7i8/Qih1fR\n",
       "aAM0H/Y1gR6uCJxlt6peMv2n/IcsV9pf+i8foY7Cr7exfb0rV1WPckhf7oaV0j3m5iaodrvY43+k\n",
       "tha6f6esugwUNlnvaXvj++GC5gZiUnIVmWwxRXY/JCMFXtHLIy9Ch7w+bp4bwP32kTrPz0lV0Mxo\n",
       "jHhz0H4/UbHQzU6bLuLWwcqbYL0x3cJOkZWbOnyulokjI2qALzIgjKg5G9G2MnzkRALWGJ4PCPsn\n",
       "r+ALIJGOddRiSbyZ2VAkgFWsQALzCiHNdatdnr2btJFR8jJMdWeYH+UDWBXwgi/ASOCO/DhnWsaA\n",
       "39TtnYvJ5WCfxC5pTzBIl04OcGmws3xjlKxrHH6gLrTS20dY0lgYbYTUXst/Cf+d6mrNaQKus488\n",
       "xfC1DJPjr/NhGXA41x/yEQK0s1GdydXh0WeiQyROTHyK723Z+pCmag4pPxr7eCzOuDJdoB+OHMI9\n",
       "u4PPEGWRp7YoNSeKQkQXZA4yHFH93FB82UXMSsEGJGgRlovxvZZugE0VGW5bvFNLKb0x9kIINhK+\n",
       "TSDs8lk+Jr0Xrg+gblHhdGdUKBdnePzvaVp/uDKIggboE8uZ6rFqGfBK4GU4F9fXHEW6+ffq2jhv\n",
       "+/F4K4XUJL97xRUXbaVRgtEBDOyyw4P/tKR5wf00JknKaNTzwIO0NuMnb8ljkhm6/M6guuCuKJDp\n",
       "TLV1+YVKLXRTlV8mGtD5S1J5iYInkWgf0j2KHlBgl9AHyMPyQvD6iPzd3NtQA+T2/bYtH2gmEWMe\n",
       "KyJzyeScl5ZiBeWxStUKslQnJXsp+dbL/Nin1giFF2rnaTJmDbx+c3Ak0uZCnEI7xYXAC1MOACsJ\n",
       "GaIY684xlPCcCfsh8WXC/Vme6SWBgHZi7R7x5vXx0q4VSraJxAr3M1gTDDmoGGPw2ndnvKuDo038\n",
       "KnNh/XHxt2IYAMrRHG8cilUnvHaBGfYdy7C3r2Z1vMj/necmCLo862vCJH88BSyNB6uJbxzHpzps\n",
       "9clYHTRH5HjhyKa8QPqL/BRUiAx1gbyUjpCtRSZupee++x11UiykHSrCJxj4TYaa366DlcoaFkrt\n",
       "rgfQ2gLW+Bop3Y9n2Y9mWKszoVTGB+OuK75+o/mTVwi0zEFc3mt3vXB/s7FRL8sOh6w7NhgYcGSf\n",
       "yprNrzBoSwQXCnW141SI8k3XN5JzOF7DxgS7BQa7Xc8PzAHQF9rNIO5sogwsgbMc4L3p5RxNXAIv\n",
       "N7gFfd3mi0vYm+QGdkvTqS3DmU+q7OdKgQsEeR/gOz7e1kUTiLCKQroqs7Wa7KDnFg/yEoEEK7Kz\n",
       "80vcLcSI8kDzTi5f3AY4+0oiQNB3MvgBBFXjIWs/+Ioe/56s4e5+X99GNaRt/a2plNK5XSpPWoka\n",
       "Z1NqGy9fibjJR6erPY98OOhHbqw6EP74c8OZLB9kAIPupiiUoE6+yjWviGFPUWZMz59yei6JyVsi\n",
       "vLyh89WFYZKuZDPizQ+phxvEAXI/A+NKkcTZlTjpkjl490X1W1/95vwCXjA4FF6Kg9np3ccWHiy1\n",
       "yv9Cf2W+WIXXC7hAVORl8N9fh+f9fTmO4+FL9wT/x/DHwyq34lbLOFEFFhUDY2KQLMVL1v6CN/B8\n",
       "mV91XV3vgcT0aEQrcNHrBxYgJ3l6OpDCJYEQ1nfJ0TKR4N8lOVWmjRB46/4aXtgGf9q7OAR1D/oL\n",
       "7fKN28ir7SCJw3ov4u/eGSt1E2vL3O0mUFkO5WJu2IdVp3vsvIKxsEEqKpLD8OGGvINeMjoNU1tf\n",
       "ICEeN7DIhf1zgrw8l36Pn62Rbv2lIHYVtY2ww5Mk9EQOmjMaEAXfl1ClJ9UQxon8Hq6T1q9kiiyK\n",
       "0g8f9Zid9sgDIagYGBwiCnaEWjHL5O4vAk1eskpOahPMbPQwihBsMvh0I5qP5qcxDE1HAzfqzJkh\n",
       "MSmnyOueTbMEf/VCCQMn7GRjvIQJryrJ9J8md0RGFl9TYP4ucfImMKtgE3mC+QSdsWN57yqjIpNp\n",
       "64kk083ZuWIRW2PAhEkN3/grVBM2dsCmRqZyWkv06VUgc7/w1fRqbo3WMjIDeCoUQ6LF8t2wFkzx\n",
       "uwFlrOVa9zQ5EjcDse9TGEJgAAB2hENh7QAAQtwsGcomtYRN4iUVfLYOhCG3UeVr7dBFHqNUk+9L\n",
       "KMqTVufvyz4vW3Jvw3HdYN3nFoaWA0QI6yPbA1M8dR7uyRjH6g6y94AEPcsbPmhGvABG+Bf0BCZ+\n",
       "f96QXj0Z3SavkeeK8eI6/UuD1aMuXML0V+Hf94st4KUwqdNfgSOfWvC8hLNOjcGNJ6i/+WMZpFUJ\n",
       "GzIpjMOC+KMDFwf7ChBdG7juOPD9JdX0JTjGzVrYCyItU5xLnrEPJsCRVFkLuz+E/K34MLk//6ve\n",
       "eV/Ltnmwu7fCXleRzmmewOyXL4IEC6THoZph8XH7tfp79L/zrhRx3JmzhRjxrpUG3qHeGtoLJGVE\n",
       "ct4TFDkNb8a+JLofdv0GGdfWupVXTVJItCVLayHz6XAFBn6Wx5/KPx10h8+aOZtCrRp3H/fR4/8v\n",
       "Bp7AyIE+w4NfKp7DjAeYnVz83ceYTmq3dN42nEM4KgEUFzAcxmtCQ/WC2F05X/lml/M2Pf8vQcEb\n",
       "rCW3MAwta7Mx4cdkkmNGlsQ1XpmnTlmqp6hr/b3xtF9PwpZrCLZNwvipqz6Y3UrxFVgojk2Q8y9K\n",
       "C0ws31RvHTfDg815w3DS0bjvQsWtr4d6Cnp5+V8bW2ykfZP+X5NnanS0Rl5TZm44STLyNaM1xt9/\n",
       "///fpug06lwNPwLqC8p1t8gb/QadfSygkklg6jDZuyKMhpnuHLDeyUUEOn3ZAov9/oI/HhFeDKSr\n",
       "L+1BJq8YRlCu/kAAxtISjYF/qyayyisKbyRpLLJqYnG/YU2x3h9KUqEy1/wYGZKrZY8Zxx+av1PG\n",
       "eNeYbaq6EjRGv5x2xnBis88rMXGuE4Fkh8gV/eR0JApFcfZ66L/HaC1uMPoTLfP10r2/Mp5qs27+\n",
       "Me1YsHvkXZhCnOcdM9UXgo46JW1EfwqbOixCALC0F8+7QNkaeCkcRVDZ+6BKMiJwi2w7fAIyIY+n\n",
       "i3pM3PDysut4dr5vDzWyuR2ru0x50IqRMi3bfOXHzr/+Z/4UT8SQLio+zGh7QXcHpcsQN2TJDptZ\n",
       "I50Aap0mHpgGoUEgNqqRC4LF6XSKcphjOQzQoBTJvvDwpMmq8Cb8QmZ4QXHYJ+IJB+ZNpyP5sb7v\n",
       "kF5Glch058+3iEdrFE6nvPB1deiN0pZK1qP7fv6OP/hfYFkMxmAzgm6H98JLGYVOsVUVFyGVI2Th\n",
       "Bb07TWVHY5Q6z9ryAWylQ5lWgM/yzX4mlxUO7J12W6Jq7NV6wP2/qjcHIeEQvPGBd8b50VIwkhvh\n",
       "qKjaljArZcDHjMQJnlOvdytxkwjuG2eUxNepxd1RTAoy3XCJ1Ayku8/zJHoSgXqjQ0IHaOIoVt3g\n",
       "ABqB/AcejD0DYCMeXACpY1v4CB65kGz3UPFJ/4m99oU8wT/rwVAYB20kddUYGdxffSPjHISz24Z+\n",
       "TKoyVey90OOszAtUogH+M/J2FYNBbWxUY6Fn//bPsh40ioXQYTIAKM/hh6cOy9y+M4umkh/AN+06\n",
       "a8k/DM8CTODg+ab4rEitBe4Os8BoL/1VbmjXqXRZ8qHOmPGzCwHDT1xOTDa3owDI6wDkxdeGEbe8\n",
       "He8pOgTik9fkmrdvztfbeHwWmikM8wYTO2rJUmEVUQoX6G5BwFvALuMzDG1O/yMS7cFkHdCVtgmh\n",
       "pJOl7IjEAJ40QKJM3MJv6qvXQvNnhRjf5wkdhdQAvzyEJV1knqmBJD3LD8MfseTcTX86G66Jm16z\n",
       "k3yJlcdPsGg4Aey6UoP6CtEgMS7Z8yWLWtEeWd8euIniGdTaxf83oT2McMdiFr2wphaow6Aty2Zz\n",
       "yJ/Lpd2xaIZka1wAPqtlpiT+6l9xXg1ObKd46gC5q4dSdXMS6ZCzO1WLmN1KBtPD79Phg7vaTU+F\n",
       "9s3hvo6wsWtVFWl7mi5Q/2XsWVL4JoAgAlxvdMkXNHWNyoBCgI63CaUGtJNBISpRvy2TU2zcyN3X\n",
       "+Q8/iQwPNsbiVWU2H1n1E6VkEq4DzdNL056IbsfT/0XyF9M36+5rgRVRqprPUH3JMSWz2/GKiPid\n",
       "hYcVwazWTC0Cp6KyffL07p32xBPHAVZo38WkNKrrHrf3B+/1kpirp6zD8Gugz++w1zANyLuKKdMk\n",
       "d1FP3r32YkfQWqBlr3Z6+i6zomOjlzhuXkYMegS8M6BQWF3FRrOf8fN6loR0RrLcMCKu8NG0Ji3L\n",
       "8s2c7lkdVqXWegEemQMMdO6m9hZuwbE2Ueq8GJbW031Ed61jEsHb92BJMqZsdvgB2SwRnendh7Yc\n",
       "1CUScAxMflxRmnLM0y3rMjOQU5CgR3PSRlVxA1FKxXiHkwCrArRN7KtacIYjgxZU7QA90NyI4UDz\n",
       "s5X+ifejR/tP6KjW3/6gggJLH9ZkWsaN2EL3CXyO0zJWAqMV2uSb2OutAv3hUx2lRcSmU8hO4gOR\n",
       "k9kcGz3WWUAMbsTVJxEtupNOwMBUgmipfLFvakD4UVAuHl6CewrVYsdHgU1jtecmJ55MOqh+eXpp\n",
       "81e3X+dv6cErIu2GpdyFP8kQB0fVI3aKSqNJocP5RbfRY0na4tITP3ySaldjSwI/CV3hsHY+7Hxm\n",
       "G1B7Hi+B7huLHFD3lfhUIrrlBYrsy8lA5W1uPySqhSj190Z+xK0/IWZHaAHzsKcMR9/2NxsPXZWn\n",
       "eAPNdob9kbSPfr4U1y7nbl4bCVzUQWOOADfwrPWF2DbvRFU/NC/pRyNMv66ceU/k4kh6GPffZeiX\n",
       "t+nx7Kkk6SVT6ygooNcCWAp8jEmp0sLTtZbnK0yOIiYCSI775jxfAWgZYKPo5A/jpSs6Y7ULq97P\n",
       "GttFL0qIeqzhFBnxNAXiOwYcyPaTC//AYY8uxS5zRsv+h2+TJljMT5O/drRPS7XFH7ODWF4qcKW4\n",
       "HNMJg8WQ/ffFxyN1z5J39q2yMDvIaoHLka7/9rNTykqyBvC47vhY5fvfqkIOfrFZHkUJCwdn6KlE\n",
       "V3iXvoM0D+BihsX/Q5KpCAXIKIvK07nI2NjH9vOz1tfzoKt8ev5QxtuJ0G0IcdkcTZAaoS6GWxu8\n",
       "hrMOIhdM2hzKK/nXujEh3V2Zaoz0NEktNIZHrvAKMyCwzYvDdIo3IoGCfWVBTfKEe6iObfuPJtjM\n",
       "b+GXIypttrLOdUn0IVNiX/911kB0ApbEXlhyJMnMfWqIp4Uk+hHRPJZO0Xi7utXOF0ORg3q5jxKe\n",
       "RiJgXBnwY14Tc10OKklIUmGm3oUmVTD//FjjUw7nCUjxZBihD8Bo1nX6sC8I2XHWDwmnlLO2uMX2\n",
       "tgHb7zEg2WwRevYX9zc+Oq1+hrOsGRk90EOI0omOeng9q+4QVcsoAIlPnw+yY30WBdaTpK1bEyce\n",
       "EHVCFzk/560sLj+qFtqqnw70y3eiTBR0fDx8ugtkVmuDX0P+oMdLZxpoAAAHNQAABO9BmiFsQQ/+\n",
       "qlUAClFjWkADfoDF90hfO/9gljn0+3nQKsowIONGRvwy9b6KsjgSOiriy7uhXT5S94Ui5yyMKaWV\n",
       "IU9x80GRLdqzQp9rH3IifKV4MiESHUGff7jr1CU1wjeRszDhlpa+0jv42KLozI9aAVZK+eb8i12K\n",
       "UWZX59TuIGOn8GBGZ3FTlmFTN6mqRaL4m9Ul8QS74aHfs2JddRf/2vIm8bUq7UM+z+DyhSEBwcFs\n",
       "7VhLWqmnfhH6/s3FZBp8qG4Ci0qR2IFut+7XAtjxpV1ZuAWeN0RE0Pn0S7Bdctx+b+x5Jxer9QOi\n",
       "rKtt3iFvlteRdymx73pxBBJSMPMA9Y4jcCf7RxNq2BYIHTH+vPoZakh9BO6j3vSVOsafjBvZ1Vt+\n",
       "Z8PYa0PTGM90CxYlqDZOal3tWSplMvTFWR1oWcf0V4hzmZWB6t0cegwRFctnnBHQsmQ2CvDJv4bs\n",
       "CiUmGZuvmETC7XEQnGJOzb54Yl9DI41uKYlitlxmO0W3IYXLm7dkv7fIp62MhMUd6yjnPwaJbpm/\n",
       "ykmpEaQhQiFOuayCeoqWXyfORfSNNw3WRdrtqO1pYJ5IlyxxzwCm5NzGAfbL1DR5n1EQyh3HceNs\n",
       "ectwPv6rQaFBi9vQcxR8QDwkVgJ7ndeOLz/UlR6mw+/NROSxfKpXIb7GAGTF37Md2ElObXAOv8Hp\n",
       "PAdVt1Bs4TvcVKmYbyw7S2VrxqgKUIjIdD9WIjXxk7U1Iu+li8cexTyHAZYY0N55UlIPPEqlBFOd\n",
       "VFJuZBTNmjLcIvAxBx1liVo7P7gNSgpC+vjck+rXMiO6+aithyu3GdQaHxkB0Zwnm40SDd8JX06C\n",
       "/fNQjgLwIEbA5KKpcSTl+Bqd3rsAbvWCqdV2C7ti7bqPJmS6ob0N+nnk/eGcpyuRK3stM4D+dw1a\n",
       "uqev6nLglBzQxB7ueTSh99mQ/4o/ZN7dj8WCm3oneXaOMCuhnOGS72FOFJ2RJXmETArt057UzSfq\n",
       "plDx2EmokmFdHpnFLBZlePfU27eqIdGSU/mq32XzAKpjBUeR6cvgVRpMc+g3w/UtRW11ruDnCuZA\n",
       "iB9FKfmhowRzOaQv2w33vtfUrm/hK6pORYVi0tHMqCtBg6SpbcKqcGKHcIwdTFJybiznTD2Ez/x9\n",
       "GS9RVAEzxrydHek39/xOwlEbrf8xsA20+1I9REMkidkZ0esZ71fQwyx9Mg6aqNZytq7h9Ax4hTFZ\n",
       "Xp2mNYowFvIjGm9Dvg53G3ZDL1AnitugjGww0eB2YfnnRKl14tm64FM0T8WfBdXUyKPnOHSw4lI2\n",
       "KpJWlEp2fBoBZgUBoUbedy3txeSAL2HIAQJZTXPxDcnaaiCa9/V6Q7PCkhlY1CXnCoK+ci0A1toM\n",
       "nqCMuDSG+ItE7bO4/kJCWYGn1dF6OoYfGp++bvDF8HVOQA5wq+twHGo+qSVlPT6/XsjCxYw+mS9y\n",
       "ke/4DKqToPOdyVF6/ZFIsDPjPQVRk4OGArlPFl5uZx56IMEmmvBQ/UkjH83Y1XT7VlPmiVUSiPbQ\n",
       "qe2JELqs41V+K5CMA0RFBuRs0cuQeI1md1dSX3f9DxanwuArmkDb9ovVRt7aL0ViZduvyAAAkqwC\n",
       "7wQP7AG7lUAsd+nWUCxKsFD/zAh0TKa0NsFKP6npYk+6EJOkUVTBnvo3O/DLZOYC30bQGlmP96yu\n",
       "RHgAAAVlQZpCPCGTKYQR//61KoABEFVSwAia8+dBhj/mW7Uau4JjXqc9zgHc9SDJm0LYoHSFgs1h\n",
       "zhz242yc4KZXLS/O48iUPqsmlKSSXlW7Fwk2o7s4f+BXdWExsEA9jTZLWZOdRSfUO9hC2yvXCUgo\n",
       "ArrEspQ2JemZmf9DBkNO2vlryyYFWt4/cHkc5pL+0YecVKEdu8N1ZrdyUySBhZRC0FYPkUW+LHGB\n",
       "ZLzW8Oia6colxzlCQikfkjFRfb7aP9GC6p/W/qzFRfArIadqRrElu1YFqqkRFxcD8To14TlvditL\n",
       "SoachTy4tLaDwFR0p8VeVVahH0TH1tvvjdXYVqS5gB/Uj4mcAd51QJkcyOFR4Em3iD7ERmuXtop6\n",
       "KmqJHJuzpBztRsFFiUaeKFwYByHwSZBRtZCWEC6W9zgQGZYDnLsM6clekUVQhBeMV1NoK7t37nKC\n",
       "ug2aoliFuRrtgCXrLWWXXb7QWCbr1uUfRwSMjtLmJnpkFkrN+g45YwYdN6n+9slC/waIa/wvxlOK\n",
       "PmpQrc7jh/HkKI2RLonpIWrETd4I35jJ0+YqFSEyZCpICoHttULE7q0HzVMEkKuKKj4mOrddDnHU\n",
       "xKDDbfWl2gU+Nw9ddMf2QpDVTLac5rJ4JJ1XxiFuUXL/JmDV6CGG2We4XPX3c8UHEZD7kbJoD6sQ\n",
       "2yQbMbZjcb6GV3BWJhVCh2vlwlUvDmMeAmbs2zrSXl7Ae0g8xLt725eR1xyp3I5xXDBzQAvdBpNd\n",
       "crAZenpwig3waBdu3QEPxqZDI/fpVliS9o63xDdpwBYO49qmtameqwSl39lh1fS0lgk9Wkv3muZC\n",
       "3wdnLA5mxrQ/w95m8TaUtBNXoOeNnrgxvKTC3rFrNT9NGrIq2162UAxf8Pvatrhz9pKN1zA+KSCp\n",
       "enYeA2A+t3gu5Tdl6j4qD+ytRyy83TJxvElnAkXraytJQLKVDsDuT4qqg4g6C+Z/yK9hhSE4N31Q\n",
       "7d9JLw6cYmX5ANlp/vAYZ5+e0u97FwXZVekrXlH5gsNqEgrS0iU/b6RPMw1FHRy66z3ITIrauDFZ\n",
       "7gOAwznIZxNQdt8SrGxpxHxII4yO/QJgO3l64q4K9UUR006lsjiOImx161zBOb9qNn1Rzhb6NdU9\n",
       "dk+97JzviyY3Nz0+8B5OUKbQTOQcFxTIQfQ0hWQBdE1XBhM6HplYHkgr9gFAUuYa0N4DAtovtV6w\n",
       "ZegU4EER9v3gWdFIkEusXh+mkzhp0/m+4RqXzLP6lF6OLZX7GfiZdKA7k5NNX/ZmKG6m9bmfi6zp\n",
       "zyWDPKx9wZKvj/g2CRuHOht3+p8Afmti+Z6v+Ss9iG5s4kzB6lW/TGAjH/yHzf+TUmx0efeVvpUc\n",
       "f6E/tEcp3l3Gu9wFLjcJHKeWrRDzCWgNPdwOgbdeZltJUU+9/UDUuFbOT7pnvX7YlTZ+hOBDQp4U\n",
       "Umfl/uw0qcVSSgKkqX8ot35NgNCfxE9QOa1yus9lir5hrGXTqzoBhQJhIlmKPBO6+vNnDNSgIYp4\n",
       "pqApsgwoxFOuWgYS2OxyB95LyZ1bNn6/KCrC81VdM4T2b8qZZteeXfpIRmoEd3nCLCr/R/S3GsAu\n",
       "5Pd9s0FXNZwn8+IajqjV/7Wv1p3MuvLB12DTF3f4qnQBv3SgJ+Gyhm4aQtZeCPeCswQGGEhy0kTO\n",
       "b0ZFuzToXZUrTcauFzN+Qwfnvq9UC0XKkxn4ZJXsy23h7ESCggfW+M9YfMbXBy9Vg86K21JirGme\n",
       "BAoVunpcutoL1IlDq81BOQuLYFauxWo5zmdQ1uvFq0Iq7zfrfc0xh76jIkipz24y4WOvSvTqlsZC\n",
       "3t2kgphmyWA+gArIFcCdUAAKSQAABetBmmZJ4Q8mUwIIf/6qVQAFL4b/cLR8wAcW2yVKgtNhrT3a\n",
       "kSFCHnOB7WlmsJ7RSj4AQafL0KiJCak+YBZvDLxqs2HgG6pjHOA+WNJBSNsGFwOnJ68nfaCUGBf5\n",
       "Nfr6IICdvn0/v8FH9BvVswn4tHqdTB2tzJhnSSdA6Bwe+/wKbPnJfw0PHauKe93JhS2ScueFLh8S\n",
       "BRscp9DU4vNYyT+FbHYo6zsVT8ZOME9k4EIyZwznpTJ9/LAgt6DAci+IZOzvWiRkY3qfu+1Ar1Zk\n",
       "TYG6Ud9ksKi5ZBX9bLXXvSqU1sdAUot2jTsnebB3z/o0/0Wlw+nb40W5RPXq93pDWxUKY2zrODRd\n",
       "/4HJokSQ1K7P1aCoGrUZhfVeQAWzyAg6uPLtx+PNoVx3OBaVHutPqnUZUbNIM2ZmOgNOlX3yHrTT\n",
       "IYXhzu+4jXGCM9gM6apRAgOBFGRHzTS9EdOsINcnxB5VbvJEqTs8HUCluRxke6Zn1rCqmF6XTPAb\n",
       "kF1hPZYYLP5LYiuUeFEc6ZoKhUW+YMn4Q6/Ad09iDYsCCO8MTLoWL7B3kvB7XuoSnY+1YHurspfx\n",
       "dFzpLbumn6mBUqV7N663VZukw26DUjUI0TwbspiWXQQ8nyEUKcsfILc8QLuM7sl9/7wuDFEB3gGY\n",
       "XFZCFmlUzLM4elJXJYbvniS0iFbxFIKBrmhtelYVBZnoJwNvOqtYGJZIrBHTMTgeq8Gexk+AIJxx\n",
       "hbNPZgygH5vk1afJhOQY5xnW5fSZf1hoDgOpSCwxuK7V2/jDuEEi38Hfn2pGTcvNxsBe5Wdf+rkj\n",
       "LlBwvqQWfu0NnJhH8tVT2fWlr2MMg+6gVfHG7QyaE/3VZaOEOd28aOK/ZjHw3AeGwvLYPpBSBIhS\n",
       "If/G89Iyuc9OMKAodz3ZbjoIfR3Nl2qvMSYi4Zz1P4IQLAnd+w6tDEbep6l48BMqEM234F2vsZJG\n",
       "zUIBwK5lwWpOkr60qcRfTVbFoAQ5UeLaHVIfzGpFsglACZW2vQ2vl/1xkZ/GliqA3ZsCK8nvKEEl\n",
       "d9TrG6TlBkhamEAp9B1hn5CgrJpzDn9uN3nqseREKrU7Gpfzw85EzaF1LELozf8g7nT53GHHjIsl\n",
       "vSrdakbCVlp86y4DyCHugxmjo3yMu1zAqvl/clw+2P3LQlk1QvrjoIyy7eX34OuoCBDzH8H5PQIg\n",
       "W7L190c+9cViqokBELsEvxOOkwC4FJfkV2TqJbyUxBy/OkIzP+ZzIYfd8taA1WEoHFVqDYaZR71Y\n",
       "b+z1jZpwzjDXLHH9rENlfPvkByc2/Hx3mbDhKBrp/l43T4VBDKkOJ/JIxxEli42GhHjInf673/Or\n",
       "gFD8lHUKZwZLILRV9Q7B2aHUNnbDV/Qjeul4wXb/eG4IWm/Zday22Qjs9fvpv5hkxMgovpJm8D2D\n",
       "6IGOY2BKJB4J9g4DYfIZgwQiRcduSIX3QY/F15JlX7BcfUDMy908DcLqvnBI7ZalQGEaSX1VTF3X\n",
       "o9p55LBwFJsLWq0cXhXZeh5vTLQ+i3rmh+zX58w0zxuJSTb+FPa+sbTeLpDXLB6HHEOF0zk7dZ2v\n",
       "xXAI+p29OLYIFCmbLW4YMciKXEHWDaP08XAVQ5wvM6B5U6M6UoROr4B4i3AkD7Kej0Yo64qYeI05\n",
       "qaEqtww4sJIcHCi8yONavH9GpxwNXXOhkK1zLWgd7WPeBfiR+zRJNdL5QPadxkErnWYoCLAzA69D\n",
       "6WnqTgNlT6uiW0bkISMk8nmty9/+wU8wWLvxSxm+2CDR7Y0f/P6cfzlN5nzl5ybtqM5Nd7EQEg3J\n",
       "r6vKcGzk+efQsRxmLbKVhpqB4xL7Fp525y6ZKPK9W2NwV7SfHt/xEQErvqzZPnE9vdJdmV2RlrV/\n",
       "PEd/oFoDYt7XTmLMadgwFsGXd59q7QqbnKzfZKAkRSSl9GPeMP3/yLpj1845PxR95WJOYmSCLRug\n",
       "VcJhe+Dj3FnkORV/JGpa3h4MK/spBbVsMPVIf8Tgx3bCk2RgcbRs6Wc20EJIfJtc8yT8/BUrEPAA\n",
       "AALXQZ6ERRE8O/8ACgqvYAdABfXwlXuTLHs29tZB04jR3LhWqD1TyX3hbDcw/c4RTr3VWE8qBrrh\n",
       "GdcQKWmPqMSCVPuWuhB5fMDzQjip52908cgyh8qT0+XC4+5nVWWM6ty7DNIe5++DbjMzm/CerUfs\n",
       "9dLmza9ptSn2Xr2luXmUfph7eufT37J2jIfEnZdTDXelbEue4Fted8NSNCg9I8fuxIYssl7KixVB\n",
       "Ibojg8yMkD5DgjGeqVy2T6eBQ9HA8db/Vf0rTD3R6SGHDrjIn5B3OWmN06o2nfD0qKYGt73SlUDY\n",
       "qix0VPtMps1toEcMMRtFHI5h8Ugzlo9oZpHEMaO/5WGv6UHozt2C2zdvWfEzIdSlGQDdRCKoJ92/\n",
       "m4t7XZTn45uNGHdUYqamcPXggpEQFv96ceVWZiNPUy1rntUnK+mjJqD3DQZXNddQ4kX+LL2bkoYV\n",
       "OdN2rCSm2ZJsKrkRTD5Z4xUQXu7LT4uvJ+OkWzDDNLEcgThBZ+7jY7EYpQuZZ6fr77CtU07iG2Ct\n",
       "nhNlgZCdUJf5nh7ec7UsjtTSYI4hWmP0DtTMuhEpgxoRLTqNWmAIF/5W9xO5v+9zzOfiSP8hx01D\n",
       "MvN4IBfpPdldfpjzZ+zXlVOEdWFF1OBgDbwUXOqjYZI/0JhUOqhw6idLvgoz0e6YhrMzJC77EGVN\n",
       "uopAsw9h4N4uTbXrdtVqvBnnMqc1RnIcKKg17lMDQYgXno06A+FSp/kC3eQTFe5qBbR2kasLtImB\n",
       "SNjtdkcxRCC97ACLvXgUWIsnXiILCwEktA5JKlIXA3mIx8dmz5bPR9MIWSM6PwwcCtv+QwBCvBTI\n",
       "w6fnS8NTFQ9loeghXFUrQAd+wls5fXAWhgOP/NEqsiQmzOT6TD6V0SDgxkDPxkYbSwm1WQXrs9IA\n",
       "DeECYZHN/6KS7A6CsDYMh8uD3u0UE53In2UM5F1o0KHZ+3mT3WsZBk/KIAAy4QAAAqIBnqN0Q38A\n",
       "DdITNUlNABtJ6oYF8fxSa4YRS+pBorlCCj3mx0OVyu7O1rIutaKn51lLYg5ojNTzVVQIhCWewOad\n",
       "0rms8j1aAGuB0yrfue6qY2M/9EcOlb4pBjHEDN+bPb/xmKZ4Im9kKxwi4nHd0m8Jow6cPeesrsSH\n",
       "J9kfcx1j9oiwzTEMTeup1YPvTy1wlR8OUD6lAO+me9NlhMCnV1ga0qSl0KrwYR9b7tnDwPia9k4H\n",
       "/qXLeUW3hwmXe3h5ObzZWiWPRqHlCqJssJ7FJCq6EsIKU81tdsrIXBosN+o485KT70HYknO22Uxj\n",
       "BiFByRPeN0r6LnMDUMvjnMapETo+XbnLRqU8f01NPAyZU455uSBix29ci8gvPaq+5WRsqbd1IbRQ\n",
       "qmKz9rVqF8IkTSqRszbQHBuA1czkX+hnmy7GHUYa6A2gQHFUBF8/4KyEFhWRqp0p1OLJVe3scufN\n",
       "b5dn90w6Kaybsz6t5cYNpAP9b//5DwFFrYPkkOM+0xGN1xgyMmZGD8hMcMH1GrKtzCGMe0Uof/7T\n",
       "5ttqi2p6/KnesyWcEOGiYD1TXFslAvgB5NDBjCWA9VUgGLuqcIeQ6ulrAVsgEag/0cPOHO4f6hZN\n",
       "JA6K6Yc06G7ZH4WucNVIKiyj3iYj/hlCoPIO39Fm/oTMELXp/rhRLlErKzdOoow+OaRBRne23HVQ\n",
       "r3k1B1LK8MoEMra1ZTV/1400IiM9VORF2Re4mBOlOgyb0dirvRFAVYOBJ+IVmHHjz7E6c+ePtERo\n",
       "qjfRF4yNd5T1auRHwxJeq2If+DTQRKmJ8TatmV7HhSV0f5H34Sf+DMNYOzut3pEmLCkA4s2cuPqe\n",
       "Wc2gU1XfMa0ntMcxJwapnnBLT1DS/9zCSvmgWiDaYtLJClQCUgABtQAAAaYBnqVqQ38ADflAQLkA\n",
       "La9iKd/yfs/Pi4q4CR4O9SWlUidlJzuv4oTyMWjnZWXhUG7iab3vDjyiJKurUaIBcqFsfh4CtKsf\n",
       "P554cSdfNzOOi1tPJarKRqa1BAyz4RZ0nLfXrxyfpVEZthuLW0C6FpPsHR/08TPCNuoP3QFIRmEZ\n",
       "1VuwK2OrMj6jFuTNdXzcTvWNB/P+WiH/nKF6gfPFENG2pI72rDYg1W8c/qHd2TtU3lFGBEXLaO2o\n",
       "/FqOPbjW3jzMzD48r3dx8kkMQkd79dVT5pquCp3d4sQuxW9NnXYxtTW2t7WKjU/T3b5AS9gSGowA\n",
       "gihuVSqxb138Zw8TYyCpdTMXhe4kwpKAWOt14PlEktGpDEXZB9r9lNAOACjG05bZYQBPN45rd5xr\n",
       "IRhSbmuDfAwWnGdXX4akrGN6Jshm+7DDdrDjUc+l1Krdwq44yafu0NCrZq0BWoGJ+dJ1dZkXz5b7\n",
       "ffzfzhRWfvvKQp7H5ULg3Rcbkru3eoxbwNJr6RC8EMPAgk8vOoc923JnVhSGp/19PG+R/K/15e3Y\n",
       "65zzeVlDrAAwIQAAA6NBmqhJqEFomUwU8Ef//rUqgAKlsXzl24wAbjnLgSyCMfT13AcWbNmQvgJI\n",
       "v2Q7LGGrovgopREbYQlRnkFy01ICzeDFjKB5dn17nVlb/vMiBFVg9xaUjoMZqu6UEh6EczgTMF4T\n",
       "QLzl6FgtAS/CauCs/0MKnK25tuHIqpDw9MQ0oobp5C1mHrfR6OsSW719i6uOARlMwULT6Rq/1+fX\n",
       "1JMAGABeKBQk2G7ia/WUCv1Z5NCfqiSKHInVsIFLGnvmbDktFnCbsU8YNZPY/yBysnYNgjb5mbd3\n",
       "0pk4AjPAU++SduxC5IRdH4JwZIsMPcdU9Y5CYnenLSM49oft0rX2NDMeT25hOkRdiNjDoASGr6ps\n",
       "6frirBp34yUKmzJt3Ip59UMEZWJp/LlqGHGcQKGH9OLKyIQzwcZYOUdSuAeltjhPnKKTBjtchTRD\n",
       "BgKTxRQSO9xRYL1sYW5NTkjExO1QuQHPYBkuSZuB/kb7/2N8+0V3nri6UZmmbHsUd8qiJE+s1ILF\n",
       "p6XmPcWYW17rBbQKJj8ZjxGh2HQlNfQ3ctjIDAcfD37BiFaw7X7n1yxPKIMQuqMM056HxRSEVzPa\n",
       "Urw2MLQo7xZZn6bU4DVxDDwH7DOgievIpNCS5KwcOpEz3OViK+99wgbaBgBnHCrqJfkBJCvNQlEe\n",
       "acaJGEiZAzA4+sIoyUDT5qIdgy7mi2MVc5+9v8VMkfTtYcImxSbXS6zNn3xnGBrCoqVY92ECey2L\n",
       "aE6hbEI4iKFKJG4ZfuzmvB16sWQsao/s7hROLHzz/kD5Ftut9QuM+GCQ38/O9afTD/VtWU6DnBv+\n",
       "rUEJFxki2T5DT5Ve/tBf58GYifnfztMM++Czjr9efYMNGJiGHuJcLgCWwOu215dLxaA7R9BBEx/5\n",
       "grPKgUduZaDuOYfG5MSzoiZay8R5bSNGbjC1sVfK+1vyAjSP7m6Kbh2XEDapzdNf0ViMpSHAvU22\n",
       "gJQJeC4APTr6RIWt8Iamhtq3dPe+cByXGKKGnvisC00i+0kd7WMOzZB3kMQ1aWiY1j80xPxpEdcf\n",
       "1yvkgqncYWVyiwMZigeHCJoLz1mV3uhhJtm6CRhJQFBpP/bHmH0GXqnbHhZ3ZajBA9YhwDJZ4ahm\n",
       "KaGT0euAGLHcHARXvaBFVDtnTzjSG3Rj8axtu6Uq3+MSVLASgj3e1nMpsN/zn90nIDckUDmnjimJ\n",
       "tmofK4xVSCI4WZMMdqlUJDKYkM6zbTF+xHNcrzFrABbRAAABIQGex2pDfwAOh9yADagrLo8dF8bZ\n",
       "aT5kKXbrjuhlYOI6yy7zN0hVdBEosh//kACBz5n4ait7VC7o84CfzXfWMUciQy56hkpfnycmHjrL\n",
       "CVAr2JiZC5kTCE8g7TtflLo8fj7Ipn4wDlV0KeHDj6WRNyFUEf02s7wuI1jpMHx6pc2+0ZCDCv5o\n",
       "S9nW4Q1cKCGu9fVSPeixkYU6cUfJKN420agLV6G5hNlE+nS6Zln4SVUwGixcuKqAuZJMxTkoLio4\n",
       "2s4Kbil5dtbIRCtD3OL/xp+kVwQ1gt/mwc+4tSqkOK3Gzp3SBEl5eFwmBzkkPruUU62ktw13Qp56\n",
       "Bh2Abh9cLXz6O0flAcIKEfgLeqepO10KlXZHqOHXms+pG34hkm4ACggAAAIVQZrMSeEKUmUwIIf/\n",
       "/qpVAAVLBZ2mJAAG43jZTY24ev50jwN0ncsXC5cmW2pTwm0BId9gJTR7sseJ3BNeicr97GR/Pe9j\n",
       "M/qpRnU1FWnBtiMRwhYg8YSUv7LNY6KrWiDZOTsPkrSywRo3//iJM43BRdGmH3IV459asLqhmMbW\n",
       "rRtUlfmCF5P0YtbSPT5vHrVn1xMLpfQXwzqV+4EXLdLSJnkOSNeUL0CKTdUyv0IloJIHiYk4Ug9N\n",
       "lN8b3voejG1Sfvb96Z+3fN4UJaSHTjFC6Wu/VsjOtpYApjsU0FV9tWCyjmQ9fHlmE7ccUQQev4o1\n",
       "eD1VbR6SUXhORmSdSPFH85YRAVM05tpL4gUN6NQyX/nR+k/ukUag88JHvBEYBNvhKLO8FSwM/KjN\n",
       "sYfoeJwZJ1IJG9eB40VPBCBkvyzuFx1iRqDqGWI8c6w5rHATskVFbw4QFW1wH4Vsqxj1Z8FEy0Y7\n",
       "P3LioC49OxP94qZ/eyBJZ45unr1U32e8q19MhAXvrAaMOYZTIiQopr6VvgW7GeR3Xn2wqSUG7AYk\n",
       "hleB2YhXhz8LEBHKYJnLzfBf4qwlFx6aKU1j64ygsJWmMvyWAyif6U1SR8GoChLBRdyKdSNO2lyT\n",
       "JHY9QeA9TmApbKMR8QoUNx7pb2rRpE01L6/JcvGIzaqOwjnNrdthnt4IeHQhG86oGL0QM1QCBaNW\n",
       "mbm79/wAAdMAAACJQZ7qRTRMO/8AClGHFpswUAE6qd0eywzPYZx8sldp81dQImLyyL+abV7nK/dd\n",
       "FI4tj93qrw9AEo9mUWcqA+XigNM2d+YMIoWXi4dlaS0WTKV6cSqjgHPBVdd6tFSWWGo/kkh8Oy3O\n",
       "PH77SqxEVPEF8Mf1qeC+nIcqCKgv/KK1ckp76aYlLmYAPSEAAABhAZ8JdEN/AA4XlXqkgA/VrYv2\n",
       "EAzHvo+bRzKqxKok5rJnQncrWfvbs8CPEsbnvIY06DKjWYSGGOgUDSUv0B6YdGj8Jv+7iNxP2UdN\n",
       "5+Y7B+FSXRRYvjj0GRn0jq8FXtABiwAAABYBnwtqQ38ABkXId6GIAx+BborylArYAAAA3UGbEEmo\n",
       "QWiZTAh///6plgAUmu38pqgAtclW0+D1RRs1Szn/a0ZPnx7S/VIFnvNHrkSPMM0Y5mGpVxX4FxpW\n",
       "raOIOhuEPRihtekC/A52abynKpgo2K9lN62HASCp94ZK9L9gd8auwi+Vy12rE3MvSVzo631AW6u9\n",
       "xjbGPBh1ZXVkWrZ58Q1Gh52JKWXiQ+Pi5scfkx8qdwKlQ9wEWJNLonrtuwQvmkiZAv7Cu7QOuL37\n",
       "AYh2DhmM8+m56jbcw6Nq25E1RDo0tsbFblydKI7j1voQCLxS6nIkA3Fx8AEnAAAAI0GfLkURLDv/\n",
       "AAUExTkQIvu7pMaXcnui84mXPpCleK1koAHTAAAAFgGfTXRDfwAHE02mCO2I63ZifDvaBW0AAAAc\n",
       "AZ9PakN/AA5/WwwcTzt9g1GFdseGjUEtTwAVcAAAAIdBm1NJqEFsmUwIb//+p4QAJ7TwSAEzuR+H\n",
       "62pbb1UK5nxevqW+vpyDTHcsCeAZicpgJA7fSAR7ymM4TKgc3kWb1zlOCtAYmHASQyzAXLO+07Vr\n",
       "G0KQYwHTYImQc558Y21w+VABO92wVXZCjAxV7IoEfHgMWO1Uwgvy3kCEsm+//5SjaPAAScAAAAAc\n",
       "QZ9xRRUsN/8AAsUwIhrroulCUlLb3d4SBmCtgQAAABcBn5JqQ38ABnADL0zRBHG5DQpBHoAcsAAA\n",
       "BAdtb292AAAAbG12aGQAAAAAAAAAAAAAAAAAAAPoAAAH0AABAAABAAAAAAAAAAAAAAAAAQAAAAAA\n",
       "AAAAAAAAAAAAAAEAAAAAAAAAAAAAAAAAAEAAAAAAAAAAAAAAAAAAAAAAAAAAAAAAAAAAAAAAAAAC\n",
       "AAADMXRyYWsAAABcdGtoZAAAAAMAAAAAAAAAAAAAAAEAAAAAAAAH0AAAAAAAAAAAAAAAAAAAAAAA\n",
       "AQAAAAAAAAAAAAAAAAAAAAEAAAAAAAAAAAAAAAAAAEAAAAAB9AAAAZAAAAAAACRlZHRzAAAAHGVs\n",
       "c3QAAAAAAAAAAQAAB9AAAAgAAAEAAAAAAqltZGlhAAAAIG1kaGQAAAAAAAAAAAAAAAAAACgAAABQ\n",
       "AFXEAAAAAAAtaGRscgAAAAAAAAAAdmlkZQAAAAAAAAAAAAAAAFZpZGVvSGFuZGxlcgAAAAJUbWlu\n",
       "ZgAAABR2bWhkAAAAAQAAAAAAAAAAAAAAJGRpbmYAAAAcZHJlZgAAAAAAAAABAAAADHVybCAAAAAB\n",
       "AAACFHN0YmwAAAC0c3RzZAAAAAAAAAABAAAApGF2YzEAAAAAAAAAAQAAAAAAAAAAAAAAAAAAAAAB\n",
       "9AGQAEgAAABIAAAAAAAAAAEAAAAAAAAAAAAAAAAAAAAAAAAAAAAAAAAAAAAAAAAAAAAY//8AAAAy\n",
       "YXZjQwFkABb/4QAZZ2QAFqzZQIAz5+EAAAMAAQAAAwAUDxYtlgEABmjr48siwAAAABx1dWlka2hA\n",
       "8l8kT8W6OaUbzwMj8wAAAAAAAAAYc3R0cwAAAAAAAAABAAAAFAAABAAAAAAUc3RzcwAAAAAAAAAB\n",
       "AAAAAQAAAJhjdHRzAAAAAAAAABEAAAADAAAIAAAAAAEAABQAAAAAAQAACAAAAAABAAAAAAAAAAEA\n",
       "AAQAAAAAAQAADAAAAAABAAAEAAAAAAEAABQAAAAAAQAACAAAAAABAAAAAAAAAAEAAAQAAAAAAQAA\n",
       "FAAAAAABAAAIAAAAAAEAAAAAAAAAAQAABAAAAAABAAAQAAAAAAIAAAQAAAAAHHN0c2MAAAAAAAAA\n",
       "AQAAAAEAAAAUAAAAAQAAAGRzdHN6AAAAAAAAAAAAAAAUAAAbZQAABPMAAAVpAAAF7wAAAtsAAAKm\n",
       "AAABqgAAA6cAAAElAAACGQAAAI0AAABlAAAAGgAAAOEAAAAnAAAAGgAAACAAAACLAAAAIAAAABsA\n",
       "AAAUc3RjbwAAAAAAAAABAAAALAAAAGJ1ZHRhAAAAWm1ldGEAAAAAAAAAIWhkbHIAAAAAAAAAAG1k\n",
       "aXJhcHBsAAAAAAAAAAAAAAAALWlsc3QAAAAlqXRvbwAAAB1kYXRhAAAAAQAAAABMYXZmNTcuODMu\n",
       "MTAw\n",
       "\">\n",
       "  Your browser does not support the video tag.\n",
       "</video>"
      ],
      "text/plain": [
       "<matplotlib.animation.FuncAnimation at 0x21b8687ca90>"
      ]
     },
     "execution_count": 21,
     "metadata": {},
     "output_type": "execute_result"
    }
   ],
   "source": [
    "fig = plt.figure(dpi=100, figsize=(5, 4))\n",
    "plt.scatter(x,y)\n",
    "line, = plt.plot(x,lin(a_guess,b_guess,x))\n",
    "plt.close()\n",
    "\n",
    "def animate(i):\n",
    "    line.set_ydata(lin(a_guess,b_guess,x))\n",
    "    for i in range(30): upd()\n",
    "    return line,\n",
    "\n",
    "ani = animation.FuncAnimation(fig, animate, np.arange(0, 20), interval=100)\n",
    "ani"
   ]
  },
  {
   "cell_type": "code",
   "execution_count": null,
   "metadata": {},
   "outputs": [],
   "source": []
  }
 ],
 "metadata": {
  "kernelspec": {
   "display_name": "Python 3",
   "language": "python",
   "name": "python3"
  },
  "language_info": {
   "codemirror_mode": {
    "name": "ipython",
    "version": 3
   },
   "file_extension": ".py",
   "mimetype": "text/x-python",
   "name": "python",
   "nbconvert_exporter": "python",
   "pygments_lexer": "ipython3",
   "version": "3.6.4"
  },
  "nav_menu": {},
  "toc": {
   "colors": {
    "hover_highlight": "#DAA520",
    "navigate_num": "#000000",
    "navigate_text": "#333333",
    "running_highlight": "#FF0000",
    "selected_highlight": "#FFD700",
    "sidebar_border": "#EEEEEE",
    "wrapper_background": "#FFFFFF"
   },
   "moveMenuLeft": true,
   "nav_menu": {
    "height": "116px",
    "width": "251px"
   },
   "navigate_menu": true,
   "number_sections": true,
   "sideBar": true,
   "threshold": 4,
   "toc_cell": true,
   "toc_section_display": "block",
   "toc_window_display": false,
   "widenNotebook": false
  },
  "widgets": {
   "state": {},
   "version": "1.1.2"
  }
 },
 "nbformat": 4,
 "nbformat_minor": 1
}
