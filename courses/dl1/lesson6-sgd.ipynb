{
 "cells": [
  {
   "cell_type": "markdown",
   "metadata": {
    "toc": "true"
   },
   "source": [
    "# Table of Contents\n",
    " <p><div class=\"lev1 toc-item\"><a href=\"#Linear-Regression-problem\" data-toc-modified-id=\"Linear-Regression-problem-1\"><span class=\"toc-item-num\">1&nbsp;&nbsp;</span>Linear Regression problem</a></div><div class=\"lev1 toc-item\"><a href=\"#Gradient-Descent\" data-toc-modified-id=\"Gradient-Descent-2\"><span class=\"toc-item-num\">2&nbsp;&nbsp;</span>Gradient Descent</a></div><div class=\"lev1 toc-item\"><a href=\"#Gradient-Descent---Classification\" data-toc-modified-id=\"Gradient-Descent---Classification-3\"><span class=\"toc-item-num\">3&nbsp;&nbsp;</span>Gradient Descent - Classification</a></div><div class=\"lev1 toc-item\"><a href=\"#Gradient-descent-with-numpy\" data-toc-modified-id=\"Gradient-descent-with-numpy-4\"><span class=\"toc-item-num\">4&nbsp;&nbsp;</span>Gradient descent with numpy</a></div>"
   ]
  },
  {
   "cell_type": "code",
   "execution_count": 1,
   "metadata": {},
   "outputs": [],
   "source": [
    "%matplotlib inline\n",
    "from fastai.learner import *"
   ]
  },
  {
   "cell_type": "markdown",
   "metadata": {},
   "source": [
    "In this part of the lecture we explain Stochastic Gradient Descent (SGD) which is an **optimization** method commonly used in neural networks. We will illustrate the concepts with concrete examples."
   ]
  },
  {
   "cell_type": "markdown",
   "metadata": {},
   "source": [
    "#  Linear Regression problem"
   ]
  },
  {
   "cell_type": "markdown",
   "metadata": {},
   "source": [
    "The goal of linear regression is to fit a line to a set of points."
   ]
  },
  {
   "cell_type": "code",
   "execution_count": 2,
   "metadata": {},
   "outputs": [],
   "source": [
    "# Here we generate some fake data\n",
    "def lin(a,b,x): return a*x+b\n",
    "\n",
    "def gen_fake_data(n, a, b):\n",
    "    x = s = np.random.uniform(0,1,n) \n",
    "    y = lin(a,b,x) + 0.1 * np.random.normal(0,3,n)\n",
    "    return x, y\n",
    "\n",
    "x, y = gen_fake_data(50, 3., 8.)"
   ]
  },
  {
   "cell_type": "code",
   "execution_count": 3,
   "metadata": {},
   "outputs": [
    {
     "data": {
      "image/png": "[encoded data removed]",
      "text/plain": [
       "<matplotlib.figure.Figure at 0x20953f685c0>"
      ]
     },
     "metadata": {},
     "output_type": "display_data"
    }
   ],
   "source": [
    "plt.scatter(x,y, s=8); plt.xlabel(\"x\"); plt.ylabel(\"y\"); "
   ]
  },
  {
   "cell_type": "markdown",
   "metadata": {},
   "source": [
    "You want to find **parameters** (weights) $a$ and $b$ such that you minimize the *error* between the points and the line $a\\cdot x + b$. Note that here $a$ and $b$ are unknown. For a regression problem the most common *error function* or *loss function* is the **mean squared error**. "
   ]
  },
  {
   "cell_type": "code",
   "execution_count": 4,
   "metadata": {},
   "outputs": [],
   "source": [
    "def mse(y_hat, y): return ((y_hat - y) ** 2).mean()"
   ]
  },
  {
   "cell_type": "markdown",
   "metadata": {},
   "source": [
    "Suppose we believe $a = 10$ and $b = 5$ then we can compute `y_hat` which is our *prediction* and then compute our error."
   ]
  },
  {
   "cell_type": "code",
   "execution_count": 5,
   "metadata": {},
   "outputs": [
    {
     "data": {
      "text/plain": [
       "4.2684808371686778"
      ]
     },
     "execution_count": 5,
     "metadata": {},
     "output_type": "execute_result"
    }
   ],
   "source": [
    "y_hat = lin(10,5,x)\n",
    "mse(y_hat, y)"
   ]
  },
  {
   "cell_type": "code",
   "execution_count": 6,
   "metadata": {},
   "outputs": [],
   "source": [
    "def mse_loss(a, b, x, y): return mse(lin(a,b,x), y)"
   ]
  },
  {
   "cell_type": "code",
   "execution_count": 7,
   "metadata": {},
   "outputs": [
    {
     "data": {
      "text/plain": [
       "4.2684808371686778"
      ]
     },
     "execution_count": 7,
     "metadata": {},
     "output_type": "execute_result"
    }
   ],
   "source": [
    "mse_loss(10, 5, x, y)"
   ]
  },
  {
   "cell_type": "markdown",
   "metadata": {},
   "source": [
    "So far we have specified the *model* (linear regression) and the *evaluation criteria* (or *loss function*). Now we need to handle *optimization*; that is, how do we find the best values for $a$ and $b$? How do we find the best *fitting* linear regression."
   ]
  },
  {
   "cell_type": "markdown",
   "metadata": {
    "heading_collapsed": true
   },
   "source": [
    "# Gradient Descent"
   ]
  },
  {
   "cell_type": "markdown",
   "metadata": {
    "hidden": true
   },
   "source": [
    "For a fixed dataset $x$ and $y$ `mse_loss(a,b)` is a function of $a$ and $b$. We would like to find the values of $a$ and $b$ that minimize that function.\n",
    "\n",
    "**Gradient descent** is an algorithm that minimizes functions. Given a function defined by a set of parameters, gradient descent starts with an initial set of parameter values and iteratively moves toward a set of parameter values that minimize the function. This iterative minimization is achieved by taking steps in the negative direction of the function gradient.\n",
    "\n",
    "Here is gradient descent implemented in [PyTorch](http://pytorch.org/)."
   ]
  },
  {
   "cell_type": "code",
   "execution_count": 8,
   "metadata": {
    "hidden": true
   },
   "outputs": [
    {
     "data": {
      "text/plain": [
       "((10000,), (10000,))"
      ]
     },
     "execution_count": 8,
     "metadata": {},
     "output_type": "execute_result"
    }
   ],
   "source": [
    "# generate some more data\n",
    "x, y = gen_fake_data(10000, 3., 8.)\n",
    "x.shape, y.shape"
   ]
  },
  {
   "cell_type": "code",
   "execution_count": 9,
   "metadata": {
    "hidden": true
   },
   "outputs": [],
   "source": [
    "x,y = V(x),V(y)"
   ]
  },
  {
   "cell_type": "code",
   "execution_count": 10,
   "metadata": {
    "hidden": true
   },
   "outputs": [
    {
     "data": {
      "text/plain": [
       "(Variable containing:\n",
       "  1.4466\n",
       " [torch.cuda.FloatTensor of size 1 (GPU 0)], Variable containing:\n",
       "  0.1649\n",
       " [torch.cuda.FloatTensor of size 1 (GPU 0)])"
      ]
     },
     "execution_count": 10,
     "metadata": {},
     "output_type": "execute_result"
    }
   ],
   "source": [
    "# Create random weights a and b, and wrap them in Variables.\n",
    "a = V(np.random.randn(1), requires_grad=True)\n",
    "b = V(np.random.randn(1), requires_grad=True)\n",
    "a,b"
   ]
  },
  {
   "cell_type": "code",
   "execution_count": 11,
   "metadata": {
    "hidden": true
   },
   "outputs": [
    {
     "name": "stdout",
     "output_type": "stream",
     "text": [
      "74.60628509521484\n",
      "0.8248963952064514\n",
      "0.3069157302379608\n",
      "0.25456592440605164\n",
      "0.21650274097919464\n",
      "0.1872943788766861\n",
      "0.16487082839012146\n",
      "0.14765585958957672\n",
      "0.13443973660469055\n",
      "0.1242935061454773\n"
     ]
    }
   ],
   "source": [
    "learning_rate = 1e-3\n",
    "for t in range(10000):\n",
    "    # Forward pass: compute predicted y using operations on Variables\n",
    "    loss = mse_loss(a,b,x,y)\n",
    "    if t % 1000 == 0: print(loss.data[0])\n",
    "    \n",
    "    # Computes the gradient of loss with respect to all Variables with requires_grad=True.\n",
    "    # After this call a.grad and b.grad will be Variables holding the gradient\n",
    "    # of the loss with respect to a and b respectively\n",
    "    loss.backward()\n",
    "    \n",
    "    # Update a and b using gradient descent; a.data and b.data are Tensors,\n",
    "    # a.grad and b.grad are Variables and a.grad.data and b.grad.data are Tensors\n",
    "    a.data -= learning_rate * a.grad.data\n",
    "    b.data -= learning_rate * b.grad.data\n",
    "    \n",
    "    # Zero the gradients\n",
    "    a.grad.data.zero_()\n",
    "    b.grad.data.zero_()    "
   ]
  },
  {
   "cell_type": "markdown",
   "metadata": {
    "hidden": true
   },
   "source": [
    "Nearly all of deep learning is powered by one very important algorithm: **stochastic gradient descent (SGD)**. SGD can be seeing as an approximation of **gradient descent** (GD). In GD you have to run through *all* the samples in your training set to do a single itaration. In SGD you use *only one* or *a subset*  of training samples to do the update for a parameter in a particular iteration. The subset use in every iteration is called a **batch** or **minibatch**."
   ]
  },
  {
   "cell_type": "markdown",
   "metadata": {
    "heading_collapsed": true
   },
   "source": [
    "# Gradient Descent - Classification"
   ]
  },
  {
   "cell_type": "markdown",
   "metadata": {
    "hidden": true
   },
   "source": [
    "For a fixed dataset $x$ and $y$ `mse_loss(a,b)` is a function of $a$ and $b$. We would like to find the values of $a$ and $b$ that minimize that function.\n",
    "\n",
    "**Gradient descent** is an algorithm that minimizes functions. Given a function defined by a set of parameters, gradient descent starts with an initial set of parameter values and iteratively moves toward a set of parameter values that minimize the function. This iterative minimization is achieved by taking steps in the negative direction of the function gradient.\n",
    "\n",
    "Here is gradient descent implemented in [PyTorch](http://pytorch.org/)."
   ]
  },
  {
   "cell_type": "code",
   "execution_count": 12,
   "metadata": {
    "hidden": true
   },
   "outputs": [],
   "source": [
    "def gen_fake_data2(n, a, b):\n",
    "    x = np.random.uniform(0,1,n) \n",
    "    y = lin(a,b,x) + 0.1 * np.random.normal(0,3,n)\n",
    "    return x, np.where(y>10, 1., 0.)"
   ]
  },
  {
   "cell_type": "code",
   "execution_count": 13,
   "metadata": {
    "hidden": true
   },
   "outputs": [],
   "source": [
    "x,y = gen_fake_data2(10000, 3., 8.)\n",
    "x,y = V(x),V(y)"
   ]
  },
  {
   "cell_type": "code",
   "execution_count": 14,
   "metadata": {
    "hidden": true
   },
   "outputs": [],
   "source": [
    "def nll(y_hat, y):\n",
    "    y_hat = torch.clamp(y_hat, 1e-5, 1-1e-5)\n",
    "    return (y*y_hat.log() + (1.-y)*(1.-y_hat).log()).mean()"
   ]
  },
  {
   "cell_type": "code",
   "execution_count": 15,
   "metadata": {
    "hidden": true
   },
   "outputs": [],
   "source": [
    "a = V(np.random.randn(1), requires_grad=True)\n",
    "b = V(np.random.randn(1), requires_grad=True)"
   ]
  },
  {
   "cell_type": "code",
   "execution_count": 16,
   "metadata": {
    "hidden": true
   },
   "outputs": [
    {
     "name": "stdout",
     "output_type": "stream",
     "text": [
      "0.504929031925 0.6604\n",
      "0.154804002853 0.6604\n",
      "0.0241678609045 0.6604\n"
     ]
    }
   ],
   "source": [
    "learning_rate = 1e-2\n",
    "for t in range(3000):\n",
    "    p = (-lin(a,b,x)).exp()\n",
    "    y_hat = 1./(1.+p)    \n",
    "    loss = nll(y_hat, y)\n",
    "    if t % 1000 == 0:\n",
    "        print(np.exp(loss.data[0]), np.mean(to_np(y)==(to_np(y_hat)>0.5)))\n",
    "#         print(y_hat)\n",
    "    \n",
    "    loss.backward()\n",
    "    a.data -= learning_rate * a.grad.data\n",
    "    b.data -= learning_rate * b.grad.data\n",
    "    a.grad.data.zero_()\n",
    "    b.grad.data.zero_()    "
   ]
  },
  {
   "cell_type": "markdown",
   "metadata": {
    "hidden": true
   },
   "source": [
    "Nearly all of deep learning is powered by one very important algorithm: **stochastic gradient descent (SGD)**. SGD can be seeing as an approximation of **gradient descent** (GD). In GD you have to run through *all* the samples in your training set to do a single itaration. In SGD you use *only one* or *a subset*  of training samples to do the update for a parameter in a particular iteration. The subset use in every iteration is called a **batch** or **minibatch**."
   ]
  },
  {
   "cell_type": "markdown",
   "metadata": {},
   "source": [
    "# Gradient descent with numpy"
   ]
  },
  {
   "cell_type": "code",
   "execution_count": 17,
   "metadata": {},
   "outputs": [],
   "source": [
    "from matplotlib import rcParams, animation, rc\n",
    "from ipywidgets import interact, interactive, fixed\n",
    "from ipywidgets.widgets import *\n",
    "rc('animation', html='html5')\n",
    "rcParams['figure.figsize'] = 3, 3"
   ]
  },
  {
   "cell_type": "code",
   "execution_count": 18,
   "metadata": {},
   "outputs": [],
   "source": [
    "x, y = gen_fake_data(50, 3., 8.)"
   ]
  },
  {
   "cell_type": "code",
   "execution_count": 19,
   "metadata": {},
   "outputs": [
    {
     "data": {
      "text/plain": [
       "63.45147169895877"
      ]
     },
     "execution_count": 19,
     "metadata": {},
     "output_type": "execute_result"
    }
   ],
   "source": [
    "a_guess,b_guess = -1., 1.\n",
    "mse_loss(y, a_guess, b_guess, x)"
   ]
  },
  {
   "cell_type": "code",
   "execution_count": 20,
   "metadata": {},
   "outputs": [],
   "source": [
    "lr=0.01\n",
    "def upd():\n",
    "    global a_guess, b_guess\n",
    "    y_pred = lin(a_guess, b_guess, x)\n",
    "    dydb = 2 * (y_pred - y)\n",
    "    dyda = x*dydb\n",
    "    a_guess -= lr*dyda.mean()\n",
    "    b_guess -= lr*dydb.mean()"
   ]
  },
  {
   "cell_type": "code",
   "execution_count": 21,
   "metadata": {},
   "outputs": [
    {
     "data": {
      "text/html": [
       "<video width=\"500\" height=\"400\" controls autoplay loop>\n",
       "  <source type=\"video/mp4\" src=\"data:video/mp4;base64,AAAAHGZ0eXBNNFYgAAACAGlzb21pc28yYXZjMQAAAAhmcmVlAABDOG1kYXQAAAKvBgX//6vcRem9\n",
       "5tlIt5Ys2CDZI+7veDI2NCAtIGNvcmUgMTUyIHIyODUxIGJhMjQ4OTkgLSBILjI2NC9NUEVHLTQg\n",
       "QVZDIGNvZGVjIC0gQ29weWxlZnQgMjAwMy0yMDE3IC0gaHR0cDovL3d3dy52aWRlb2xhbi5vcmcv\n",
       "eDI2NC5odG1sIC0gb3B0aW9uczogY2FiYWM9MSByZWY9MyBkZWJsb2NrPTE6MDowIGFuYWx5c2U9\n",
       "MHgzOjB4MTEzIG1lPWhleCBzdWJtZT03IHBzeT0xIHBzeV9yZD0xLjAwOjAuMDAgbWl4ZWRfcmVm\n",
       "PTEgbWVfcmFuZ2U9MTYgY2hyb21hX21lPTEgdHJlbGxpcz0xIDh4OGRjdD0xIGNxbT0wIGRlYWR6\n",
       "b25lPTIxLDExIGZhc3RfcHNraXA9MSBjaHJvbWFfcXBfb2Zmc2V0PS0yIHRocmVhZHM9MTIgbG9v\n",
       "a2FoZWFkX3RocmVhZHM9MiBzbGljZWRfdGhyZWFkcz0wIG5yPTAgZGVjaW1hdGU9MSBpbnRlcmxh\n",
       "Y2VkPTAgYmx1cmF5X2NvbXBhdD0wIGNvbnN0cmFpbmVkX2ludHJhPTAgYmZyYW1lcz0zIGJfcHly\n",
       "YW1pZD0yIGJfYWRhcHQ9MSBiX2JpYXM9MCBkaXJlY3Q9MSB3ZWlnaHRiPTEgb3Blbl9nb3A9MCB3\n",
       "ZWlnaHRwPTIga2V5aW50PTI1MCBrZXlpbnRfbWluPTEwIHNjZW5lY3V0PTQwIGludHJhX3JlZnJl\n",
       "c2g9MCByY19sb29rYWhlYWQ9NDAgcmM9Y3JmIG1idHJlZT0xIGNyZj0yMy4wIHFjb21wPTAuNjAg\n",
       "cXBtaW49MCBxcG1heD02OSBxcHN0ZXA9NCBpcF9yYXRpbz0xLjQwIGFxPTE6MS4wMACAAAAbZGWI\n",
       "hAAQ//73gb8yy18iuslx+ed9LKzPPOQ8cl2JrrjQAAADAAADAnTFsu53XQ2mHYAAArSFftp0EM7g\n",
       "ATNEXqT+DpoilVkFHhXH6yn42EODk+9AIPVrTRJVwCOtJMRllxlq93JRsqsnlt+e/zQEVNd5NhiE\n",
       "vMj+hoR/qfmDhpIffPbuzgc918IkN7ZgAq3FrqM8pjNP6/VtIG+3350bA4H8HC+/ranWv2Cu97+q\n",
       "c4gDeUY5vK6hMTdWf80EvOT01DgLqqarO9dqzk+8o/JX3r4/gLg5ofSo3ZdwmlXncAUDF/slS1GU\n",
       "vQI1k0rv7LToJlhKbww1J07P9nhKuSV/YAJ0/Rg6TdFrB4QyzMJrc5jF6fyST+LgCib4bS/ej/Kc\n",
       "HtPLAAPey8/tEDQRS5c9O/qKAt4aLYbFppvd+n3sYjz1ob8AA5EdxLataq/vMKNc7LlfKTRHc+WI\n",
       "UaUBPtQXrwlceNyblc0QQYrUF/Y7KDXkRkLlhGdsuu6aji/H1Hg2cP6gumpdNSrjo7g81setZWg0\n",
       "/k9NcJnf/zHPOVcwnOtHZ60Xe2izSme1MkrKzbVVlzHmEyxM+RX0+/LSEoO/9txorWyh/rVbQypm\n",
       "/j0eNLleTA7YOL/+FbYrF1nYItATdPifXSmSjGpiwMx+MIPrbFEZFh6CBLaExECyxMegwiIcWYw9\n",
       "8dflSRU50vz3LzYOY6Af3DKXm/kCJ7tUuDlgrKWJ5t1Zmn4hQ3mhOQgpqhO0uA/5hlKQo6GgBRog\n",
       "9eCWtzjYI4PjQm06rud0dfz2ezfRLTmjBdLV8kqlOepO7+DJ0oY8hnoiu1YflYEGuBS9YKZTecys\n",
       "OKUyTz/m5UUBfqagCmFDm1vwsO4ecHp5gXm0MN1TYRlHgaWf0ed7dFN+ullqwnYgqnf0wvH75QjN\n",
       "+77kCCOnxf3QLKwmqbBX4XOtxYVJagIp6wmT+81gaqtYiEKckl1Y9QVtejTOY8CwrZ2OOclvSA2U\n",
       "NW+9WpEjLp9N2DLG+RM1oTpVmHIknpWRrEob4QURkaUK7dzwdHFKtUkuyZXA99yj2taKXu6TaPu9\n",
       "XYHuqsK/Pd2cvwGZK+uPuG5TtScJQFBE8qEpb0usB24vLLXhGDpcRczTXDcChYP9dD0S3MwXuDBF\n",
       "D4CDU9VlNY67vXzx9SQWusHKS7B8E52q/toZUERGVBP4ufTDkZJW1hgqEwuaJy3mXpx4A4TMR8Tp\n",
       "Bg1fvxCkDwBAAqAvYPwGh7h/ghyE83Prm1R3QZheJbysbssLhMx9UoA6m4LB2WZnv7WXU+PKjoI1\n",
       "H5+rTp5fLyDocSdtI676Z6QZabLlqY858XWsPsLDNHmdcmIhmfeHwxFFozFQH83GzBBE8mJTATio\n",
       "4Al+dfsBZmi5dSA4236Qk/+V4SlqqYQHUaN/PD+kbwVf774/kOTOKCkupaLulBJdymr+QlVnKNeu\n",
       "X5qeVFWY65YTO9TnDhnzttM/harG1Fzo/8XzQuUIatE9kJLwJZG9jptLSbFvG4UJUPvo/lg67ZXT\n",
       "g7Jg85rQYw+046LfoWLVDQEsMwyQj0nz3B6sw+pSRBec+//nrShJg/+mlwCAWvbv738URxg5VpUZ\n",
       "5mlIkTqC6bQCZuEmZSQRz1LritsmLKcbNOKehFtcOvfPAuAISPPfGcuD+rbnsIT4Z+XJehg6bJH7\n",
       "psnUh4RKJHfYXj7NKGOcgWYhHnkdKXoEcxwZ/7KMVSuIA9GXRMbfPXIXWkZ46BVSx0npFkzubycR\n",
       "7Q7mcWEjWVH6V2GkB9LR2V3Gr5HsI3+rPkublEPbNuN2aSS84ijysapL8Bpaa+ngCuVxDP/Ztkaq\n",
       "i+kf0ZvNqUQkugZkjtyMR5yoSxPtuu8/Nw6EiSSA/k4jrM6wXKbnYCnHisUyax/dxS71D1xqc8+D\n",
       "qcN9BaF04SsjzZzG+tPwbdua0B/G4wABPlxNTFxCJQAG9nJ19iJSBCxu3erO4YZF3DSsQVEq/oCE\n",
       "7RAWmdZ95gPfmh8eVT/5lhs4REbGw2EyfIhAbAUWGv1lukh2Z/+Z45d9szTiQwyIqq44Sk1Cm+Yp\n",
       "8VGQTREACfpE3uWJYrg33GkDFrD1Ry116tH45Hm7EMmo/9RET0j+1QWNGzID+E82bu1PTbrmfwT6\n",
       "6ANYiiIdAH1E+176XUP+Om5AgP+heiwiOcMDBmbDsYzcCNuYABo3f/AuXX8mhoPvf1p8zjSpokP6\n",
       "AED52PIOq2/G6zLt+YBwTQBfOmkaVRJWn7KQlBCCdrFTfmIkyNX6xFspg+dkV9hrPMmTKBX7lGlB\n",
       "SHV61YeTbhXum9LYAijWkFidCEtoCwkK7U8tci0vUZa0HmHQDGK/eP5+sJTx9PZuiznGcn3zdF9K\n",
       "jenYGjBH8aeUrObkaYHwvoO5OLeiluwlS73/uHq9sjShfyBUUeyNLPLa0P/OmGHeUi+tbEBBa7kP\n",
       "4NCql0SG85gkpmQNHP9ywtirIY0p359y3PwL5C+9pVHvRL01PSuhG9hPKwEiKMQjook//4Yzse43\n",
       "MOaj08QgzTzi27PfxZsv0VIKjKvT1AGJT8urv2bQFns/Gsj7qeczRZcpKBLWRvh7kTjsGfS4tIf4\n",
       "ZvxH7da6j0TQIwdQDbDrOGNya7UC+IfyYdg0EHxo6G3zflr5v8C9UNWk1gzuBohZdAiM/K+WG54g\n",
       "uH+OTuqDYExJfRbZLvR2bltOZE2SuCEK4MLbjE1UVbI1o9sMWl/vDYiTXAmMUUufsrkknXsCDL5t\n",
       "7L4fccADAMvGrJQTWacxNccU1M3kfmrTGUrad+WTw6HThaTLPF+W17OZOYHtmhasEUWYvZgnechJ\n",
       "mwPB9xCy15GH1XgfjDCJecwswTwQp1m6XFJmXMlAewn8UhwaVc9gWByxRC9dztcsy+14eneKYw/2\n",
       "iT/kVqtCcvlUQoLRFawNUa59ddpP0LffGhI5GM8fF6m6PP2qjPOWgNU15EouqxOU1n0OQbGAB8RJ\n",
       "zyu92syc3SwMDX5f64yvaHfNGdjjPUMYrdGNiPI+C2bW/K7azII69rfIs8L7NP/WsNFAYQPc2/7k\n",
       "PhsJTrs6LbRVj8pnUS1CMftHbHltioGFc4qyKD9LxyUj5PQ5X8b1Cd4Icg4bJkZBcXeyrbVV9oIc\n",
       "0dwSD2pGHUkkRltFvWtoYdGTmXvVqLP8wmmcXKBO2Ww9MK5sHI718pgpHoiQri0NB1u8KZpwGake\n",
       "WsLaVNwU2W7RVaFttuu/d1FChutnjIrvwAyjD+qZhdt4D5mUUl6UVdRqDeGi6X+FHmh6sgR2zx+k\n",
       "AooKkyGgcSxjdaejD0b66yXnMKg72nrzaGdVa4al1zydbJduD6QFK66l+Ea1ryVXdaVfxv8cHdxA\n",
       "TPn7ZNDiegVKBqZC/qaQqNsKmdtB6GHuCS0QUBquRIdXsxM39/18UcGudXlZ4TCBOZDWgrbuF949\n",
       "p7lbCgSiXjXgXHcLx3Y2fNqQJsVZmXpJq8cUq04OuIxdtCfk8eZgy++HyUg+pLtybDlJ7qtQ2Qgz\n",
       "zoeuKGVt0mWCG3azLPSc6Uq1v7eiiM5z77sRhc33tj7mRFAKPzBolPqX0pNz/CPTwMkB/x166nTQ\n",
       "7TFHvy37LOBDtCuSvjI+9ohn07vm6OL7dYYuIz8ke55nJ06P3PuMuFn5AXi1NIj3Oo+vzJ0S/fOQ\n",
       "gN3Gk6+AWREADu0L4Bkc5X9yEZBkp92YD7aX5xWVySdNeEBMkJk/Fx07Tvc9Yi4OlRUp93YjWDYq\n",
       "7Y2dE7/fzhJRC+Z20220fNeMVi/pwVTZK5ThUrVIZZ3Peq6lp3D+mKAwASNdos0ONszUAHEB7hpO\n",
       "xrNdARB/fKHScTZNBLHpQNmCkUPI86sCyJHBfnakC+9rsSjvkOC4NfWl1H2sds769pTVRpLxwhLQ\n",
       "/gwHPpV5gi4F3abqvEizm9+UFT9TRxBsXRjWMQSYrjvgxTrHsXQSUMOVH2A+YHN53u46GanIHyKq\n",
       "/9/6tVap2gPY654UaXjcvjkhRDSWeGWwAyHdnKK9EJBB+4B8D+ZrIWSTgDjs11AS7FF7vd0w7n+W\n",
       "Axndyc87mcdq+34x/0IiOsX0d53+YtSTCyRsMzP7EXNAZOQa12efG5WIdbBYQzi8y9HuTCVRjb2b\n",
       "i6j/jcD4/qtHon41HBPtdYVk5qgo6nhQ+cdcJ+lEu6lRenaTrNNtF70+Mo46EgRhFhTyNfV+4jt1\n",
       "4DD/+ZCupPsIilPp3/XvL5GhulFgpbrgNeH/4hJXowWQAy8r6+xPL///xJ3MgOg6ml6dKE9yIHgc\n",
       "yQdSQS+eVO2+C4xwxei7BtWX5xmCrP2TMbXjrQmQCJGbvHIh56+/zvpawGCQRFydq709EuiDV5B1\n",
       "Z4kFGbg6H1VjA2en2jhXmGq/4EiRdMjRBIYtTVVhu55IY9K+qdUNtRdE34N9fWZWaV1y14CQIgPC\n",
       "MtGjqQUjt4iWcYg6WVMPzFvJT8EZY3AQhlUOHCApI1UaCgG1p2EmN8M1XdTFM9rCmsxqOetDaAMI\n",
       "1NTNMVwGhXkTcg/6e9uLnGg17QJmkM+tpYZlQ7Ie4bO7QGi8pqZ6Go/ATvry+PHWH7eH19WOK3p3\n",
       "zmgZ/ntZncdRDcexLIV2+wcSNj80FLxvL6xlGH1EJqdpRyQbmeQPzmJE9vHa5dLaz45mhLpDWsMv\n",
       "j0Nv2niQaLgepZgYZrJY8s7L74bQgZXyCrONMkUeho0anjxyqV+hxU0/wENJTsoOSFX5+UefZSb2\n",
       "xNA6q/mdaHV+xiTe/p5nBIHa/QIPUMVOq9eAudRIZn/cLHmWA0paQenidZwgVPOylkyjyGO9bhqd\n",
       "T5T8SOKAgJ7amZw38Ete48LJSMJjKEkFBwj+J19N/8VeAk6rZHcZYNCmrEVJMKuYjw2IohEnp6Cr\n",
       "J2OeqTwpQDwnrhdLKW92diRTV+ov+HnSm+mpts1DAIDCtZDFVjsk/p6TMJ9FMwR5m3BYzjcxgM0d\n",
       "R3eGhQPzxqrrsSpyn6vGUU5wsa4PL/rez98ANnVFvDdZnPlXtzpzDv0OQ+g0dn4x9WeQfW5qYy+Z\n",
       "aHiekPD+UKsdpjCogZJ/htPM3fFjD9gajszr79qB+gzFB9X6ZgN5MuV7N0g3D4tiznGI1xh8vulu\n",
       "gGflLMSfv+T8+V5n3Km/vBizzuno4DrZ9Y5nkXG8rebXbQrvbLwu7wgihllRf7FDm2kgQlkH6cml\n",
       "vd/lfyBSTr2v+uf1t969qLvnieVoEMFWythSYsGDKPPxjFkSSZFqvxYqJR3U4pLBo/ht818uLL8l\n",
       "pIlJYZUUjoBuRQlHxSd76Ow4ld2ouRIlLf/LqweXapsCUMkBo/vsBnY9TpSjd+6xh6JyATNbWRZu\n",
       "iw4Nw8fb5oyuTwxypYmCEIO/x4Tto2BMXnL4seI/BLq3g7/cGVfQBci3sYuJDnvO+6ViWSxDHcRC\n",
       "K0ABSjQKMqPEO1axBF02CpdYTpR7HmUyPCFoRIafSna0J0dahPMLCTdgwi9/+cuXkV41XE+IxTz9\n",
       "XrOaEkPyifiAB+zJMHGDtraoJ09e2ze+rxhrBDKS2nEgUAAbFU4JISw6rqJ+URxk7wCfiUMpuGfs\n",
       "1ZIWE59ySwJtXanfPHP3fi4PeBUh0Py8Dg1xmm2pO4RuRPbyzskFT3QnnkNSiZ/B3BFwfZAXx7iv\n",
       "hrxDbPrdYOrsv6612/3AlFR9Ac+QwtLrfmwhs9YAzLSPQ4OshBojeUrUpepItkYbeRlfgmgOr226\n",
       "ZKI9C37Sg0pFj2kczoq6tEE88VVBDWdnFnvwmnecD8Pz5YS9pxiLz281spAo/AO51Lj/5j6SUkDx\n",
       "dQgH+z18Wb6o57aZ+629y5MHCAjbFDAiTKHc+GmZZiSHEoEmB8QKAPP6cxLo/QTeOBOMjNvKT1lx\n",
       "3lfmomW10ahmm+YypGMRCLkH2AlbcPXfxDBJiXj/wp4cBvXdp1nTy9OkXfW0VCpPqTbpwTYbgxjR\n",
       "bB+Oc8OdigfgvZii3wdWJ4P4IeVm9g4VqthubUAt0D93dR90oBoYW9dEJMMXA/z0H9sL2zsS3eRo\n",
       "692fKxIhuzeOl1VR4khs3Li/wVZSYAAgjwIwrpRb97DYS+bAWr2Njwf0gIgNru61DbPA4BBaIT3o\n",
       "yBf1y8V3sQS7UJI2ZWwRBPHBCtDfHAtmvyJ8zRK+AbNnjN0IRVYI7wo7d/GCrGu/5xAyhonshU8S\n",
       "4nlYhFGlkOqANMuskhR5bk6pVaMdP5ztTS/BTcX3gmX/0pNcP0EsuGVjtQpW9f2KxjYQ/TuHhXG5\n",
       "fTffvGTL/wX5+hTrJblGF+w5yqYDXtZI0O0tmC5/x3UlnpdzP2QaBWq/eTOHSfRjdgW1HaVkKTay\n",
       "G+JQY1905Oo9sxe+stE7Vu5vECNpEG+8UftZPXSZy/n/g98RUjaxu3MNscE1KgBBQCRzMhxjq7Cl\n",
       "lsGvT7jALCIMsM44u2ZQkPlTWSctwdxXpzip5SMhw9hQiK3xopJWGs9M3jphIkj5NVx0oyH1SN4T\n",
       "QFZJ5fvaR8oWl+p2vli0kHSYHdWTwKmAo+F3KfszwDFqC7uZa+cncfuehAtAi0+VgsjsLcxb/g4W\n",
       "Zh3fQf8ddR5rwxJjkWhVw6uhM/ktDF1hrHz5aOrg0DCMyf/HN40cB3FszVp8gcpil24817it53y2\n",
       "EAoqW65hYHtogWaUujBD4FX6HKPxJxuUBKxXnlrlzW+8745wsBYJBmUcA8saLtHfXiy2SFNzUqUP\n",
       "Z/9eEgNQgioLr/ALP9sNnrjLpBcaaBrgIIHdzSrDT67eOAZl6vyZMpjh6a9UoxFu9Fc+90/XIcQs\n",
       "fK+HLD0PRPpZbq052OkxU+ucsaW8FowQrclod6t8xpxzG0cjU8W65BMOHbvCC8w9uDTe4blpCkDP\n",
       "ESFomQVn0ai3vdaSNW2MGpZjiyTLIQVqfUqYfF1CjTpljG667PPUTLweFvu56t7XKZU54sobIx3a\n",
       "wgM/95zeWKEbrehiHKCH3jLE1CaioUXZRgH9qSjn745n/8DaWiBFkMwm0W2iiV7ckILKhYxoHAtP\n",
       "jmuut19uAm7Vru5f1tE2cNMsngJ5RohQdGEN94TCZb6LlWnIyeLC9sxS4QVldFfuXbHUDiTeSWCJ\n",
       "WCuGd24j/tG023MvdoBlJaSkKMei2e/eEPexjeo0J40tazDYxXZzIWvtbOU+hIM03ted3mi3HZKi\n",
       "BCOst394uH9SFI/AZCRKWGOW211LR3paTEH+9H8DObUfCJ4ux2TxEio4f20e3/bAAA0CYiyGthQ3\n",
       "yHbpcP9TePW9ocCbPKmqkWR9CwAnF0LP7CGRIHU1AA8UcAYi5icXpewKb4jMjsdv1OtKpQwPES3v\n",
       "vGixdDBhCi1z+Plka1Rzf1kqNgbVdwL297WQvNCXuJ614rbMUE94lU5Jd2K8gRhUKR7jtlxd2u5t\n",
       "7cAIgpXAPdaUG10Yv8B8gB+FqYpmj3tCShUiIvzvK1CiRK2DsCJL33AJ48zPGl0WbHRdKg9QVUUF\n",
       "SEQ/c1j+bUTluogTsDt90kwgcuV882X6XgDpkBKXzY7SytHjPPablFpVHwiSVRURKG46SHiO+Tdw\n",
       "w/5z5v1q9uEV3C7/sok7CoX4r49XH9AIX0/GFp/oZwEeqxJu4DQpFxe1LJUaSPWyw0ym87ydW+rL\n",
       "9RAf4CKWNq+n+Qy1WM/w4cBhb/aPxbm6pXxiCsczyFGB+ozgN3D8R80IlWz4cOAwtG7YaMNYCvrF\n",
       "vLeVwMZIUr14+Vf/N7tqW7xFH+gxyKOwIIYj8Dj9YKbTowCTrHgfQc6lhy3AbvMY7axrf8oPjav2\n",
       "Lz4QsDcyrycIQWjltJVXdKqjU/G63lLmq5NPv5+qBvB9oTt/+w0jyaYLUEWh7sLcpLYMSYz1lfJA\n",
       "AXuUl57UhADEZb5OzJ8BWx/W4b95CHEAUwkAjWPVwpenZa8GT5ViRGMdSiTXWsBOmPhsbxFMw+Pg\n",
       "+F/RNQKx72v+Jvl90Gigbw2d4/0nxHv6VNiRjMIyHYzqB/lLRE4+UYM6vvdNf84JsOERaKz3imVD\n",
       "I2fCUOmzd9KxU/NMkI7Z1iW8QXbha7Bd0FPF8nLmfa1SAuclbxBcKU6VEWxz7/56Z/ze7/UA12BA\n",
       "sqwXtvwKHdTO3ZPD7t8y8CXAKjroVEkcG7KPPWQOWVdGxpLK6mcYZIExyFRFkRSpUeOm5mEumeVT\n",
       "ry0Qd5uUsSayGqKje4gBQgJUHjcYASjXyfBzXScG6EHH4lmtGXhpJJkfllEDEOophqpZW865BzWv\n",
       "vyYoRwnKNjqEiqX2daLrpWoiaRZ4MZTXFxBTmp/OX8BQhfOUTeSTN6iyxTF6+yqg/0OIPTu2/maT\n",
       "Ee6V5VZ3mebF5x9R5ZIvnG9/puDweDC1pFULLnNZScgOrVxJEEQeYFT4nO3z59vu6hR0pAVWe4nZ\n",
       "IeozypHQBsZyJbRxoDDBy4iG2j1qfniNncDQ78n9TsjxS3oEA5BaEQ2y2y7tlL9IbMMy3MxZGb+j\n",
       "P1sm4jTquUMcJzgwGrG61LWWGf0gjHmQeMvLVEDHUSEQnB6QhiBu6yqwDZZrAU1JvwN96w6E+rI9\n",
       "VGhOXirjL8IfQiWkPhLg5KgdcoUD0H2nLdjUhkEx0kH5wq2W25QkKe9tdrUxqMHCz/2zHXetjNrR\n",
       "1LHHak3BnGEAYChpBtGHV1s7sd2WqbvSqiugY+SfslSWuJN70Idq5fG+/xi6tvkuNg73DGPwoO1j\n",
       "A7QVCCh0Yxt8o374ss21KsrVxw7l09yoQjR0pR6HS3XNVjbhnm4A937rESIFRRvpaG4qLA+ahfzm\n",
       "L8tXOjy6oASOGMOGCVJ2sL+FjRCAATX3KQr5vGYM3jJN5QtUFJ+4bgZzGVgmVLXdHV5lqeMsy1RN\n",
       "Nek17gmu5DjhjKbUppomeYYlgpU6KSlPbYO2GjOCuBdU/zQzpiCeQgONU5skQqucTTCMgZMHzA/U\n",
       "7kjlNgt8uG55JP4zmz+V2eWLsWAA5AzgJC+PugdAMFwYQY5SCT6TQhcw7IRfW2drzymgY0j5CWRo\n",
       "0SxGuEyyV83x5ePfYeKJfFhekQbKs3ULllyXiPQpQujHbMMItDtOr2ywTuMot+AiO47IwespbCRW\n",
       "qMgGRHQtwYZyRXQO1Kp1c4+JUP/E33qfi7mQwdUw9XIw5pP2IimmREK5YkLURrg304R8ZR5SPYvk\n",
       "wf2aLgj79tTHc0aXledGmJ6FSDcNVS4dlIkYjSb26UbAKhAMw085XfCdAskvkzzGw7Ldh/ZQhidl\n",
       "1wN7TI0hB1Dd9UYXSpCYyDHjgrTmWtCYhegxGSiVfVtpYX5DA9I8Bs/tWcSoilMc8v4Q7pnJ9gHu\n",
       "LZHJx2iUdTS4tBhtOzkxd6tDzElbGhIDdELhXKqzAvUnKFcs9OJdSqzsLVepLdbGJAAAAwKmJqEA\n",
       "AATWQZohbEEP/qpVAC8KeAACg3hmeil2Fr/bHbVYx+MpunWzrCYMTVtlYh+XVn8qtfAmCfGA4V8Y\n",
       "rsHE0Gd7Js8dhrH/+RQCf+klNFgapTh006Vf0E+TJ7BHSjqJudOMDvi7URqdECH/A7qL1alyPOfH\n",
       "WxeTNRJMoPA1KAGDE+2Vl/I3JFoDMyHXsr6IvkF0ycweDJb5HnS3S/hvw+w3HQNvusNt3hf2ebM5\n",
       "M+WW6oESfoQmsqMSXaufGk2OAjcAzgDUnXojiycWfn47A46K6uMJ8SzDWQtTjV9YTaiWl8qTXWs5\n",
       "UjxXbV61Um9FkHlkP/hFsacGksC4jeFSxmST3vDjPdtkHMRuHB3SjRJF8qliJanoqC2HMhji/UK7\n",
       "P5VfTGBFthSvHXeeZ/IcdWWYuLpnVHXZ1v2wQZGqeYHK0dvVyCHpB56o5NHrl9ZFlzKl3H1kNLFL\n",
       "hWCyrsFBBJadzR8QCyjr/p0T00fo8Nx+IrGdHgrSBmTwIXgNa0dGalbvApeXJOQxnNOOSXreJ+uw\n",
       "9dNERKHiE4+fxR8MYoOCf9h4u8a5kT9gh9Yjmt18A6EgYARNmHVb3e7T5YyF6pgtkO2w29/UwEXo\n",
       "oJW4XZxwmS4whN9rssN69Y35OMixzrFgYYBo2Rm4C/ybDyzv4uZnBWLlBnJ5YFPRRBcwQI9HlC8i\n",
       "pvCZye0h7VZbwtzXFKI2IyOP6J8bTuDHJliZ62xUXHW6CJrsocrTyJAWFRHNmpo/NyocbYsexA6h\n",
       "InhIFHHk9vJG3mu/czZqQ3K53L0ZcBnQGYZ3FB/30YkjYrtlecsnLAI1yhZ4y+omtfOJObMxjtPE\n",
       "XelGcQ15l06qRWb2NBf/LWtfK9LjStKG6cd4ab/AapsASRD4QL4CRo8NTGNE953V+9DLMxgqGRDu\n",
       "stYwPJ9ePR+lzO8UUX3heiRd82P385etLorFxwrSz3U3SIAAChi8OBWCMJINRAi22ANd3IJ1KmgS\n",
       "P5g+6vuyvHZViF61AvSNZ9tNRZfpQElbQdvOwjmT5tj7LKgWEZ+1sGeY+sIMHauEbYJ6m8EJZv/1\n",
       "5MLBtEXg50LjzPnNV2x00DM+DYZBxVi3ag8ckpNxa2jyDCgsG62XsV6kWSAv2q4+iqZnOux5T2b0\n",
       "E6OwdMRt/kCn2AtR5eNJtp3uYIcHZ0+GsndClLvzbfWKTZliUm8hPLVm6DjP0zOXc6B92yqTFAL4\n",
       "xP0KNPpWrOB652bzmfwbrlbMDI8mdKxR/edt9c6OI5f0AdXOfHuZvGs6HmMvspz+cSu/bD07CB58\n",
       "aqukOndKf7BsOWINphdprvotRvfu63I7d+pkvzclNprqxEP0V+7XYztD1hBfofNNl3ECWiCcZCsa\n",
       "M7XZWSX1y68kFu6Yb2IVKEM4l2gU8Qy1KOLQqVs8CIrNH1YCwbw1pfTkQc8c7Eocol0yH8tXSKC7\n",
       "CxnleTEiYoFjesJX5E9FZuwuA3uluydVwFwSfDVT3zieI6SUKJmrhBrl7osX6kPmoXWQJViWnWQ0\n",
       "0aQ7dc/4x5C+bl4xFI8pZ6YHoFBd8SiYei3v1jQgIAALBpEzWBAAEypiyjLBk6du4xA3YD5dJGKC\n",
       "OVs2roC3VhGvRdFMxs4Yw9GtoujchUrMPyCopg71r2rTEDLF6M+HZiUrgZAAAAXfQZpFPCGTKYQQ\n",
       "//6qVQAEwF7Wl5PUgBuiPgZ2h95Kp/z+EW4WY0egjNkqS8ronRHUEDT98nf9WdKIMBIXQeL2iXcI\n",
       "0PjNIM4lA6Rhf1iOjlPJndSi2b0ZAdH+SKueta0RvP1S/D0TD7QAmCFHrEBBrdbGvEFsNx0i45c2\n",
       "xyiAQnPf+Mzy3waU2Cv42XN7GXHH7m/A0KPewFrcIKf8sLtsjDSaIINxnmzwvISagb5M3xtaOCCZ\n",
       "gTMGWBlPLDnsKruCtp81AoMnSsdOc52ifLg1cXE6ZcDnwYaSKMn+P/O0ub5mqYWbP4VsaYgPsfDP\n",
       "gL2uIJ2vaIUn1vZxtzZRRDPTyYqPjLGVA6lT3A7W+IPIFQDOJWQsOFKf53U8iXJbvq7wmy5crU+1\n",
       "vQpifZAocihjcBdPo6HACjrjvQzpmg22Ygvmbn2wn2SQlPWirb4z7NNLFtDAxsFWlod53mlS+fxX\n",
       "5uE2SeDMjPReX2XYuMy+lcwaUys0cj9R1yAThuL0EzhUA59OTIQ8b7FKM2V2JawvPpNSzfbm/Z5C\n",
       "uFsxoaC+zBJQMdF4L34pMyc1VGrpYrrW+0BPZVuiDS9p91KV9NNC0RpLCQQqEtaq54kteEBPIo9l\n",
       "+dRgMe5qX8MMYX9ETIH/cXNSrXNovRduspxgVhLSVvLaYzAL9eXO++dMDXTbCBdoHZ767kl8o9iz\n",
       "EAIeZ7M1d4QkgjZHBOjhJiSj8OMiAjy5klXPc/7VcEGNA0cy1mAfcYsDwPNjfR9QT8RD9GjJ2Q9s\n",
       "ApyJgVW8Q9dPX5fvY4g+hzR6Cg9IOZyjbKkIPZQW7T3gZxHATYN95ri7d0biyrp+RIeNMGKH9xJz\n",
       "tE24Dt5tYKyWyK3H5J4oSqvfgUeKzSwOGWqzfquFwKw7Lk1kbWPSkwaSgacYKYvI90bRk4Sanpl6\n",
       "9YtmEHo5bdO13PdSiIQH9kUPkl5oWnY4Bv08Err3cwAdi3n2cSaT73IOROok35cSrW6bWdX3QLkU\n",
       "2NrkEdXV1c1+49mvX95j7BlCP8GbdpXD7RZ3BIyJJ25zoLyEOOCnlGI5vqlu9EzRAOLSpYK2u5fZ\n",
       "2R+e7TtfJedhUtvll5UP7D/KraiMTAlgSxeLHIx+/BsnVuU5+DyQgGPA5pdjzBFHIoQMVS8k9VVK\n",
       "J7UVr7eXQsvyBgHnS20p6wP4gcW1qySid3PJlt6fVJ+95bwQBfL0oC3C4QAidu5ewljEWF0nOTCZ\n",
       "3TJbbR3DGKEyMlMJtaFaYbkHDS09ZNt9CXQXFrzWKPe3bGA4pKof4HutDghuaKhTSCgI3NS8y2l5\n",
       "W8ZKKIERQO0CSl1ncInt/zJ6UPRToDXRX9Z/4opXKqclJCtzuhqGS4jOj1v4KMAnFJhv5cy3wWCe\n",
       "ifu8sbmmPzWZTMBUavdeG4kDcZmASA77w+b7TTTyJ4sYW2TvITQCwLpQmViO0w1hA/2x2X0AHWT5\n",
       "RdyMBHcvhnSyqM3W1F5/5FbiJXJ38KmWFbbT4a8QXYwMma9h+I/bG3R4ogV+Moi2QRYw5J7jTVzE\n",
       "tSgw9/jKCDILdF3o8rTv/QqyPIIMQiBMCRwskcs0+Oy43UlU7sZFhQMaA26y8jR7nAAuwy2BNlpQ\n",
       "7W0334le+E+lvXT5BJXrkwtRJNelsa1KnqSoZtFKbliJisRQ3kkz/qfK2EhagvNZbJgrkTyWuvsc\n",
       "Zt6rzQsb9x4rh2lP10ad0aeNJRw1Nzq0F8Dg+VXOlvISMqnKwl6yzv7BHcZtisyy/SVyR90DBKw8\n",
       "DaD1PnQsbe8OT+yL+CH6887sv2thbH0naKDNHkJv0LpbcE952Hu+6QDeuEXSvydM8PSRkWBXZo8B\n",
       "S8v0736tdfjUUlk2LhUwNy442tr8oD4sx6oOsjDH3lTwEylYQL//KRf7SeW/1R7pKHq+ejLmQ2Fk\n",
       "dJ2Furm+jHqaYEJswowIDxcx+TfWQ25Uyn7lfVYhmkZe8Kr50bYLWs94bD79BRopZjgAC5T2In6t\n",
       "woAhnDMAfZVYAAMrAAAD5UGeY2pTw78ACUSAINYLQIi8AG1XOx7kpKU74oRxZMPI4XL/TeBbsUH5\n",
       "sFqCeQP9Je9YZtF0avlneLWTb42oP8hXxnr3X2en7P6QbuvZVhn0ZCBY86dHYTEVftAm4ao2/GnW\n",
       "9OYnmXuLhm4yU5Pnvt6j/eGz6HH5GUeyxezEtlqu6eqbxJAiK92KuHCVUF2aIH59bZYAi++M3vRk\n",
       "5qbBiLKPnDLNUeoGUrzn4ld+znY1HGhB2aNJmiXPfaQKfBr+2Bq/O5idS59wP/ME8IRgc4fR+PQr\n",
       "BPwGtX4SYSjGtzitJFPjkieBy9dJ/jTgk34QQf0DAFfMKJplE2dKybkcRZcf0vDYkiRNLnIrsNKR\n",
       "BNBVwNFoZQQbES4YOyzH7m+K6+HsXWkDs60HbfW6ogOKXtZaeOJf9H9u+axNg2w8jMQ6KiMnWQZA\n",
       "iuoCwqq9cXF+ESv1AqURODp9qNYWWZZjv5ipUdM2GT7StDQA0GbwU7WJzIB2mxeZcAHkkyp0qNKh\n",
       "58dAl/qho9yxmi2WJOYETMt9IBYpxuIwx/VA/nYTQOFbC9zWR8ySbphYLvMAseozM03IyBr9+25j\n",
       "J3xgYpifC3Lir13tsaFUWJk+jo/BSqLbWVGEH962mSg/RtoGUS5K3zVuB2mIEpEqJZiAU7TQVO3v\n",
       "4pWhc9afVhaaMlBhKaOiHKv9C48YciRUW/hyIG7FAoEAmhgYQ24NMgNeR9vFOtDDdxbXYDqGR8vG\n",
       "TgMpfS588El6nsLmNFalB7FVVCNkXtVPQGUxX+Lf80edH97a8cdco7scmoMOsVcGNHgtAhY6wZsH\n",
       "u8xH7Kuz4ufSoEPjW0eYzpibCdQko+fDVToRyElYGyMYeib9lCrk6P09VcRiON6nN1eVxQW3Sij3\n",
       "y60w/NjAnnujBY7a2qqdUe56/8jmJO1Xvd2bcmmCiEEoLfHiSUpfP931xySACxwF2IfkK5ZjT9O2\n",
       "aJoXsvT4d8CyPLnS+h6lQfC1vsnSQ7mV94sYbBwlDvorf9YgP7hAjhtXTLdNwVlpzRpW+qS2zwzs\n",
       "eX+efllQqRk23KUTzMJUYYIK/IrRfA3PkTjHMwAHMfb/dBqzjT9fGCK4zeXyQ2koOppPGD9ls1r3\n",
       "WfliUr6cgCrlaxy6D0ipId/vj87amzPGsLKvrinmFo7BpDqjPpfzRrZg8IA7HEtfkhhhLZk29fFW\n",
       "KU96t3Vl33AY6UXBw2XF71QkOaprlgaQ6jGWDl3bJaAdT5mZaokTEGamU/O2zYN5HrjYIx0Nz/O2\n",
       "gKQ/115TwB6lLLH4+yxzLDjaZC0nf3ZO7RjAAcW7Vq5gPWYKW3LanensBiwAAARcAZ6CdEN/AAZJ\n",
       "CZqevPT2s1hRa/MMUbV4AJ1Ox/bfHbkzlwR90LXjnpZXY0XgwDyben7LRRxz7hfYdsBy5FS/nQ52\n",
       "e5I53JJvpHrOkNLAePzqXIYO/MOaSZkoUCUnjCWLDm6HLoBFe+awmzh9hAa8C29oDixspnlq0+TE\n",
       "8uSbr4yGS+LjrFiNQj473KgaHnB9iDOPIckpGS/jQ3r1IrSnJs3KeRfX8gwbRskg+fJcHlTciDqM\n",
       "hZiuq2T/QgUuiQj0vzIST5mfQbHDzO5PBFxMmPRWACD6Z5ib1QPqXpUW6izWw5vh0+zNED5c3fp0\n",
       "aG6a1T7Tlbjk79HpASRjKs5AvxeJtqCxI5tBvX1iCqZmWV+wQ1+ptpILMLQZ4itiIATfpKTalOgU\n",
       "rnNdg/Mghl2WBuz+scFflcbPzgbA21DDAdUZSXf722rg2IO0UusXRw9xAw0lLdzUbCRvkuM3p9Ns\n",
       "EccDv2KhnQwE9Qa0WBd+adWfwCCNR/GY2BYPtjp14cIEOhn33YPuyByXuWz2/KLNXUmOxGM5Dz4O\n",
       "7uZcEqutIEVg10fYzPWqKyp1R19dYirCFGtGzmgafI6ND6SmeLw4aiXI8qkT/rSApJPmzfwqcer1\n",
       "y6Jf4E1Fr1edKhmDj8yWEyZbDw7HdVPbd78REPO3Qfc4QMs1GR2MFN1/Sdlib6xoAV+JOX26Wu8t\n",
       "vscdUlnEtuHUugQKrNWMH4N6qWMiei2nAHl1MMZM+6oi9pLU2ZUqf3ZX5QWlwVKsV7jQAEXDa+jb\n",
       "xTTDCt2GExZuOFFZpNT4pA6JdAKnIBNSY513B5jPLvVxLrytRrXrH9mk1ixF//fsMvP2UiwIwfR/\n",
       "svBKTqe3p7E2ibxVRADuFIGhDvuRrbbTk3nrd94uXp/kqQ1QLXSu8mp6wiGov/ZQ/Iul6c7/8olh\n",
       "WA0A+JiSRWvvt+TVd2J16F3njv4kmxi69Edw7epbWY82yrz+vJqS7cg98/uDk+lQAV5rrvebePyD\n",
       "jco0yjkdFjRsVjfKfHD5tgS6wXau4GtjW1yuNWQCHlxe+c3pU6PQwEIlwFVObFknQBDFvVZ6+5PM\n",
       "TO1T73gs7vmEE+OCtnZ/1Cgsht9N+lsiZP0nTi6azJgNogbGOXY1pj0rZRP3FffdSKNA6AE54lW1\n",
       "7oK51C6rgMVgiKOVqV9nuVRQ07Na5hI4VtnA5zmQbmYvznnW8/e2Lhlyy8x83kY6qzHiWfZJ56q0\n",
       "1ZZRhzi02K3pX7m+IaaVI6Ci1p3XlxlPsX0uJbBcIqh6F+mLOJahCNrpuJoPSAUQFrAz+h6+c1RZ\n",
       "VQvQD6GHFYRJKTB0N5ylsFj49080czd+S37xzVcBXQLqL2BVk66ItvBlo0fop38z7VSLV+QiOcUD\n",
       "xwfsecg73zBx9Enrj9c9JYVQneUnJouUoBYIVNcoLoNC40L+R8bDCgnTZ0PYD0P/lIeKYF9oyaXp\n",
       "gN5O1I13owDTXtK0cNh6agyTX7hAACDhAAACcAGehGpDfwANMprc7ANwAhOtCRMPGlNPve/FdWcP\n",
       "NCaoxjAF3P2WcraSKNGlskpvzUF604A5BPm2flSGAwllTKx3CUwV+U72hO07L86yM7JgJrJYrQbf\n",
       "3zivc8IQoHQ8TELsnWJNUFigmljV8MpFml6IzXSjtYzeTCMDO5YaLpT7DEyOUlu8ujBna+xUNxEO\n",
       "yiyHfF5EgIf0p/hytqfG+cHmD84p5F+/4eJ4xQ5bg6JORY88kkRsV/tDaguwQ/UaEjK75HPE+05Z\n",
       "klZHBLoYjHXjdvf0ckW5rqha+1gp5t0lfs26qsSljywQWnt1u3mcRlu1F/xBjREnzBdkgyyiFSkw\n",
       "JXqamW33h/6ZGTL+ItLfauGcmezfEpbKm8iB4wfLRy7zEaFHEKFE8p+ahPPih3L3Z7Oqb0r+AK67\n",
       "EV2R9IFG/WzehXBB+7N8i0KG9OR2+nKOi1PxwsqU2ppdidcqV9GwJ9soRcvusYB2e0DJ8zEjuQMb\n",
       "yZySxazHWbYexJ5qgG4ga3mh+HlZYJlKbF6t1oqvpPnQXoy2Tyf9zK0RBPnqxOPfrlVywm6BfzA2\n",
       "Y6ZYG59v5PmyP/DJE7BJNL+88VwfuLMAJCO91+4QyU7+a70PE0XPv1DNkIUPnM855S5UAmowZXON\n",
       "Tqd1hsxnnbYG2hnSX7eF/l3H3OEvKXF5OHmU08TWBpoUMIp9zz4TBiJDSqBtvHR2scvWYFJRjX8H\n",
       "1AOmOlHPfssRSZg8NzeQPhhDehA9utcfx32uiWkIZrpN0oARwMAFAx26Eyu/NaBvqLig16XWTWtX\n",
       "FSQMrIrKTgxjoGEERsbT9hJXbqP0BMAKCQAABHhBmoZJqEFomUwIIf/+qlUABOD/6gBGV5yU8jGZ\n",
       "cRl207jUP9rK1MGJepPVuL3XxCExzG4n26ChbbGa5tsTuyhDrwY0Z+4uc2s/+NLB9OSs87JuVIzB\n",
       "lGum0SOkOJu87KyatplWztDsSb1MrHDDpFmoPLMJoN2BWlJgEWYyYFrkY4IVTS2glhS5w9CYNcMx\n",
       "jQmRmWVYaDtIMUNHW3hRGn2DMPNIjcNsmWWzBEUklH2emXyrUDnb2izbITyoY4HcC+Nqs+RedpiF\n",
       "QbM0L+h+xgXuez+IfCZW3iA7rZU8x0wMy9YY9LOA0qiENZkgJHWYa5GfY5GyHErSr0FrU0iQxGEj\n",
       "LtC4Bd5FqejKkRhC99395z8VgTlSwFcpiXn/P0ldhgTaUiAo2UrbLbkEid5KUbmWSsYWz8ENqBRA\n",
       "kWpvUjbGGgMFslSJmUPYLaGICtRzJ61IpfPUBml4TWwEM3QsFNTgm7aHHETdkyyglI00UONDFjSE\n",
       "kDd3RD/NLtb5QVkUy2osb3WdXAiaNwt8eYG2sHTHNo+fI7mt8XwoyyF/Mam0H/6njtmXuNUbYp7m\n",
       "V3tpY1JK4P/er8Di1mG62zL5G6nsXzRZKA0Cl4bnEnRvnMWayOxVLhYf9Vvw8q3p/2UMH/z7gMDx\n",
       "g/GXdlCAl0/NkjfIpySpH79HyH35rOXN9HGw5BPYoItE348IJrnWKEXWPSZmcaRtwC2pNNRaso2/\n",
       "xrwR+AYoGbMPHV1MfEX9tDIjEDi8d8vlU4cWC6Rt6hLcxqaCZf8n0H0npGhQ1NnfrAwjcZ2FfXdM\n",
       "r8saUNebUvHsTPlFFYkkYMp/gAHW66g9PGkoyqTNPYx7Ux7lEpw+0dJfXncmwCaoae4k38dCSpdN\n",
       "S0LRPlGEMuqMrb/1zSfjkocFNBeSR6I0aINKnzv40CBe4Htog+RhauF4NZScOCS9G4BDBtEpa3J5\n",
       "tn7DmHlpAt9+ivpaVr4fgPtrZSg0+3y+0IqQPoBaoBOpLBMTBbdLW5eVWL2PAS/TQkfBWiQBOZpm\n",
       "DdTZbO5UBNt4XpbSJPp8KZYL8E4c6iNWRXdo74xYR5CM9SA+7CsOHdboilWW/zTUmPWivp/BwAAD\n",
       "7VjNcBtodSIcFE7tbpC+1unI3utr0yvkYlpIum1JRqI6VE767210dJ/krRWHzn9qAzXmUsBgP+Ba\n",
       "54JwrgqideGyJj9LlU4jlvldA9nNxT6Vl1DKF6nb/Lm63PPYWDdypXl6P5MygYnt5679R6V62s8Q\n",
       "qc7ROLDo3k4geQr8ZI9FktX86UAdAA/rUSK/nj3/6fzxnZhqglvTWMjRirIUCkPMTb2PaGd54aSA\n",
       "sszbmR8cFhAbxOlSPl6f0T7a1qyjS+6HFm1Vo1V77GlJVmhgL6WATr/hWE3liqPo2T0eJ85rEhwp\n",
       "QmDioYDnqnyoN4ToUSKT0DksS2f9jWUIVbrmM7wWCakpZRTrgxBC8f6RjlgNgB6dYZXPa9dKUo7Q\n",
       "UgdWLf2QugSkOfaWg+lg2VzOWXDRGboAued//4NwAAJ3AAAD7EGaqEnhClJlMFESwQ/+qlUABOEE\n",
       "YgBx5Uxo9QGczAsj9V4v5798zw6UIBm8Bm2AOnuBqnMpiF110/NEd1+uvLo8QmiymbFj/i1e3yy8\n",
       "tOx7NKMDBSc5k0FfG2lhyJVDG/bIlblE3FIkIJ1TGFoFagFG15hI81dVXtsxSxfcAnw7hoS+JmFf\n",
       "TxUZxIzP+A6W6RUmIjRv3hDVVbigDhbx45T6D+363sxuDk1ZLQUSyTVlnH9H6WhRUX9oaMKycz6D\n",
       "NJQnDEZONzFzxu9FJibeCUAgOOLm+4pFZGSjyT1l20rdYFCa7yt+7xJtBp0SQyV4wzzDJXph++Z6\n",
       "npy2/pEIUsAhsfUV3cOPzxUNMNzROno2K+NNgOjE1YQ5rpI0wiUbQDDlPt4yKxE8JU5sEtmfx7aO\n",
       "AR49ULNBVuG6uyy+GUi/u23yMjZqaVtJKQTnfxuMdvZs35Z+jG+uJzSUnq45evmkLXWOImjk2dnD\n",
       "5wUU6HcDcmBKo3vdKcyRDEW1wsfzmdUdI3xEVr3ztgVIy/qL311lwbOQhRplNIGYrE0CVSfDuk2D\n",
       "5XYlvrEK6TVN/vqjTvFTonwQRidiD0Ngw34xUA4QxWvj4fRlDH8/psX6BND9waVZn36fOQBt04wo\n",
       "L+UvAN/EoYrx+EEALgzEIME3bGAo/uz1Ou3tApZQd/PsC5rM4ILapqTJTawHjIq1yg6eKogglUYO\n",
       "peOgVrbBFGEbAf8zK0SDtpYw3g3p46siIZQwIRVPSjL1mklbAlQE9bWFoZr020P//x/VZpOwqIjz\n",
       "u1BjkdHUxeEO5wc44+mz/us8BV1ZuTIKrErn6OxaPg/RTR620l1lPFoEcujECXrY4faIl8jfkmug\n",
       "T9iFNvsdxT1rh/lyd351KWTBPGVLZ1hHuLNGYQVEsNcjDyvB5evXCiUGdoFfTmuNuTT036VEFvfn\n",
       "y9YFQnbb50WldwmH9fonkb8s6EDx7sVJujBYycf2CVlKlWtiHOdO5FuGmf1BlNn0PD0BVVDpSBzo\n",
       "eO+BU5+kBxaERtegfMfsSSk/fGOicwu1KkP3IMcAcCBRGJ7hA7YWArZVnwswJLqiOmvp2O4WDVqg\n",
       "U8Nbs91Pv4I9MzZTUOx0boluy9ZGkJxkAvADPP9oQzgj9Y1LRlePE9RPHLY87RlBEMNaYLAv5t0C\n",
       "MYPl27LEseS0Dkn1jFqtgKZxd+JvmNyAcT1xKBtDTVc9Xw0Bfp647VrEtoLkS1kFGLG8dtwV3M7A\n",
       "TphTWeraCVTcbonfJTunL83y25HmjpOnkFc/+2fxfEEaScEXFcAg4MPZwjzQaUvLL9sXHZYZ0NCS\n",
       "13ww6zPIQTEySdzYABcRAAABXgGex2pDfwANelAxsgAIeEQ/XDaUP1aDCRmreT82ldkMBSNE2w/4\n",
       "FfEC2/Rm7xrqV9rMpVgkvwRrhn4Ro6ZhmYkQU2PL5DFwzOiMw2TDWlUXaFmdGqIxtMcYP/pjHTUS\n",
       "9Q+htpFwSCTbiddmVPm3LEX96toum9HCtNRUsHHUJkBplpL6Of3tCnba8g0oFaP76Fpgc2GyH9vr\n",
       "eSX9Ym2lffJN4u1uz8McnxBKRPo2v8mgnKTeyIcA9xemVo56EcEThh/Tv767vr2b5h3JmYII7bZS\n",
       "YaoS5I2kiyWAgi/zvBOl94ROJ9g6QCwvw/gWY2GWwIQcVpF04/qWJGV2wIpUtutlR4VwNTO/kCHf\n",
       "N0HNPvxhgWTWVSypzqI3FIbEgah9JVmZI8fb/YVs77Glgd3hN/KcrmIpLrx5SQKkMwCLDVleYkFt\n",
       "f8TIrDOlhH2X0nCIUs9eTM5TL0Xj8eDAAAm4AAAB2UGayUnhDomUwIIf/qpVAAThBGIAce85KkLo\n",
       "7HWepGX6twqb+WHR/x8Np/gqg+OaNFE9G3mvuByGUJwmGtsuM3t0tyIak8f5whh9MOdfIhnIOBUG\n",
       "W2DZYiiqY9xRmWh2T8vlbUSC3HGgpP2ZGbz/PN7AJ0cWbrC16bO9CbH3qOyCFWMkaQr8p4fEXHCS\n",
       "2tzUHYjNajufm6MztLqr/bzzd7t3Hwy4Grs6X+7tcnutxOs3wVGpBGsyeD3g/N6VlFxx0yCtSCI9\n",
       "6ELwmqgsBKy6FTfWkB06lXPKPGDMvZseWXQ4ng6C1MFyDF1Hd6W6h5qlHDvTyYKNm0e0M+OXBfnm\n",
       "M/dDqbjUDqq/+VhvFn7nMSF+RjzIKcY5xvbrFaqOWNuq8JALf4xsCw75kj4JaKgOE0Bdok331dUa\n",
       "78Jd7rm0FG8X7+MoVtWgGeRygByzI1Nf9/c9BHuOWQDivTS0ibxLyqLEmgDwtrs9uDd77rjmj5nT\n",
       "7P09c5CvFc5EKoXjFsI/aU8ocZ4zQ2PteIG3DYNc+/m7h0VmBwDnpwnXCTeuIDsPJ+BM1DQ0xZsw\n",
       "W3gZpTmmp2IaBpEmUlsLrEB6RWDT/fGItPBVVfwe/12bEEBAA4lXphRMCpZTAAHtAAABlEGa6knh\n",
       "DyZTAgj//rUqgAJw35LABxbhit2JAfjHrH7HiiDR5M9m2yxD3ESj/GBcg5DFfsBGnAwiL2PxfsWY\n",
       "p+4MdODoiz1BDToraWbmd6Uc0ntLJlyiHOLe2u3yDUdh4z8/zjPzAsT7mBzSMxUr2tIhWOAHS7/G\n",
       "jKObHkvLsCo7H9w71ZrxsngT5i93ZFF4ZUOoPizG3/uKsLQCTFpxmp+2ZUxIzzE6dsK5HNzev5as\n",
       "v5vCQa8a3XOnKLp+sKHF8jyhMaIFZaC6OTcYr+7ymnNQAdUqabyAXRHed1if74F7uRpWfnnSR0ko\n",
       "oM7NOG5eRkDrW1PaoDKZHUhKXkAuIApAuWwxP6cSmB7xAD0j8VZGRFtjQBs+L4wLhKV84eSmSykF\n",
       "ufdNRLHee68cnPCEdcteoFlIH/Av0CnLIj18HOo/090/iZCCr+En/65PZL5tW95FrX1+KroUih7P\n",
       "2uONEwaSge5g5l7dTqQj93nV30opxAsJfLfi/iDBfZoaVruBKtP/jvMCHH7WCpJflGDDGVdEAA+Z\n",
       "AAABCUGbDknhDyZTAgh//qpVAAThCQzABdKOvk/mV8/vSXRLIkKV14NC028Dn2dAbLvTX/yQCyl6\n",
       "utsxqxBQYZ615Zesxu6flmtBsFgmeeJUmi8TDeuU6+/TFZ9lkuT7glw/F2PtEQuu1COkm4D7KcQD\n",
       "E0m/am/saNTJTCoHWw2Tcfo8neC8uyjy60dpZy1n85/8y9ufrQV3bSIfrYiyn5CUBQYIeB8aV1zd\n",
       "2w8IIGnIh/IWWYqmusBQLw5xt43YJc7MQswv5zbUzOI9uwbUgDjiYX3TT6iB+vqlmU2iWsW+ADVc\n",
       "Lty46O6y70SMitYqfYbfCCU32XMNkJFvMhk4FxZhNNE3DXHVWQAAELAAAAAwQZ8sRRE8O/8ACYOU\n",
       "N17W/NCopsyK+rkfVpNDS5as7M36MSNCl9RXCfz0/Y8MACBgAAAAHQGfS3RDfwANL1hTZhedULzO\n",
       "9786TF8tIBPHAAStAAAAGAGfTWpDfwAF+AMhKRF1eOMb72mVMAAGLQAAAGJBm1JJqEFomUwId//+\n",
       "qZYAEoOEmAEzyUCOwVCMgXAP5KEGN6qtKgsPM8whUs0phYWlm4z9Ox/Dwi7FtpyROE8+iRuOf3mH\n",
       "fE6BEwKRS6lMsdLVcAfy3+oU5ExEHqu/kAB4wQAAAB5Bn3BFESw7/wABEFNO0tp8t5gPN7bahoZP\n",
       "684AmYAAAAAZAZ+PdEN/AAZvrAtWV90IW2mCwjzXmAB1QAAAABUBn5FqQ38AALE9Hf6Xj78IqNzI\n",
       "JGEAAAAYQZuTSahBbJlMCG///qeEAAT5i8KwAAdMAAAED21vb3YAAABsbXZoZAAAAAAAAAAAAAAA\n",
       "AAAAA+gAAAfQAAEAAAEAAAAAAAAAAAAAAAABAAAAAAAAAAAAAAAAAAAAAQAAAAAAAAAAAAAAAAAA\n",
       "QAAAAAAAAAAAAAAAAAAAAAAAAAAAAAAAAAAAAAAAAAIAAAM5dHJhawAAAFx0a2hkAAAAAwAAAAAA\n",
       "AAAAAAAAAQAAAAAAAAfQAAAAAAAAAAAAAAAAAAAAAAABAAAAAAAAAAAAAAAAAAAAAQAAAAAAAAAA\n",
       "AAAAAAAAQAAAAAH0AAABkAAAAAAAJGVkdHMAAAAcZWxzdAAAAAAAAAABAAAH0AAACAAAAQAAAAAC\n",
       "sW1kaWEAAAAgbWRoZAAAAAAAAAAAAAAAAAAAKAAAAFAAVcQAAAAAAC1oZGxyAAAAAAAAAAB2aWRl\n",
       "AAAAAAAAAAAAAAAAVmlkZW9IYW5kbGVyAAAAAlxtaW5mAAAAFHZtaGQAAAABAAAAAAAAAAAAAAAk\n",
       "ZGluZgAAABxkcmVmAAAAAAAAAAEAAAAMdXJsIAAAAAEAAAIcc3RibAAAALRzdHNkAAAAAAAAAAEA\n",
       "AACkYXZjMQAAAAAAAAABAAAAAAAAAAAAAAAAAAAAAAH0AZAASAAAAEgAAAAAAAAAAQAAAAAAAAAA\n",
       "AAAAAAAAAAAAAAAAAAAAAAAAAAAAAAAAABj//wAAADJhdmNDAWQAFv/hABlnZAAWrNlAgDPn4QAA\n",
       "AwABAAADABQPFi2WAQAGaOvjyyLAAAAAHHV1aWRraEDyXyRPxbo5pRvPAyPzAAAAAAAAABhzdHRz\n",
       "AAAAAAAAAAEAAAAUAAAEAAAAABRzdHNzAAAAAAAAAAEAAAABAAAAoGN0dHMAAAAAAAAAEgAAAAIA\n",
       "AAgAAAAAAQAAFAAAAAABAAAIAAAAAAEAAAAAAAAAAQAABAAAAAABAAAIAAAAAAEAAAwAAAAAAQAA\n",
       "BAAAAAACAAAIAAAAAAEAABQAAAAAAQAACAAAAAABAAAAAAAAAAEAAAQAAAAAAQAAFAAAAAABAAAI\n",
       "AAAAAAEAAAAAAAAAAQAABAAAAAABAAAIAAAAABxzdHNjAAAAAAAAAAEAAAABAAAAFAAAAAEAAABk\n",
       "c3RzegAAAAAAAAAAAAAAFAAAHhsAAATaAAAF4wAAA+kAAARgAAACdAAABHwAAAPwAAABYgAAAd0A\n",
       "AAGYAAABDQAAADQAAAAhAAAAHAAAAGYAAAAiAAAAHQAAABkAAAAcAAAAFHN0Y28AAAAAAAAAAQAA\n",
       "ACwAAABidWR0YQAAAFptZXRhAAAAAAAAACFoZGxyAAAAAAAAAABtZGlyYXBwbAAAAAAAAAAAAAAA\n",
       "AC1pbHN0AAAAJal0b28AAAAdZGF0YQAAAAEAAAAATGF2ZjU3LjgzLjEwMA==\n",
       "\">\n",
       "  Your browser does not support the video tag.\n",
       "</video>"
      ],
      "text/plain": [
       "<matplotlib.animation.FuncAnimation at 0x20901330278>"
      ]
     },
     "execution_count": 21,
     "metadata": {},
     "output_type": "execute_result"
    }
   ],
   "source": [
    "fig = plt.figure(dpi=100, figsize=(5, 4))\n",
    "plt.scatter(x,y)\n",
    "line, = plt.plot(x,lin(a_guess,b_guess,x))\n",
    "plt.close()\n",
    "\n",
    "def animate(i):\n",
    "    line.set_ydata(lin(a_guess,b_guess,x))\n",
    "    for i in range(30): upd()\n",
    "    return line,\n",
    "\n",
    "ani = animation.FuncAnimation(fig, animate, np.arange(0, 20), interval=100)\n",
    "ani"
   ]
  },
  {
   "cell_type": "code",
   "execution_count": null,
   "metadata": {},
   "outputs": [],
   "source": []
  }
 ],
 "metadata": {
  "kernelspec": {
   "display_name": "Python 3",
   "language": "python",
   "name": "python3"
  },
  "language_info": {
   "codemirror_mode": {
    "name": "ipython",
    "version": 3
   },
   "file_extension": ".py",
   "mimetype": "text/x-python",
   "name": "python",
   "nbconvert_exporter": "python",
   "pygments_lexer": "ipython3",
   "version": "3.6.3"
  },
  "nav_menu": {},
  "toc": {
   "colors": {
    "hover_highlight": "#DAA520",
    "navigate_num": "#000000",
    "navigate_text": "#333333",
    "running_highlight": "#FF0000",
    "selected_highlight": "#FFD700",
    "sidebar_border": "#EEEEEE",
    "wrapper_background": "#FFFFFF"
   },
   "moveMenuLeft": true,
   "nav_menu": {
    "height": "116px",
    "width": "251px"
   },
   "navigate_menu": true,
   "number_sections": true,
   "sideBar": true,
   "threshold": 4,
   "toc_cell": true,
   "toc_section_display": "block",
   "toc_window_display": false,
   "widenNotebook": false
  },
  "widgets": {
   "state": {},
   "version": "1.1.2"
  }
 },
 "nbformat": 4,
 "nbformat_minor": 1
}
